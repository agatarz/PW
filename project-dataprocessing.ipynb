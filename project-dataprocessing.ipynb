{
 "cells": [
  {
   "cell_type": "code",
   "execution_count": 1,
   "id": "e9180c99",
   "metadata": {},
   "outputs": [
    {
     "name": "stdout",
     "output_type": "stream",
     "text": [
      "Defaulting to user installation because normal site-packages is not writeable\n",
      "Requirement already satisfied: boto3 in /home/emr-notebook/.local/lib/python3.7/site-packages (1.26.145)\n",
      "Requirement already satisfied: botocore<1.30.0,>=1.29.145 in /home/emr-notebook/.local/lib/python3.7/site-packages (from boto3) (1.29.145)\n",
      "Requirement already satisfied: jmespath<2.0.0,>=0.7.1 in /mnt/notebook-env/lib/python3.7/site-packages (from boto3) (1.0.1)\n",
      "Requirement already satisfied: s3transfer<0.7.0,>=0.6.0 in /mnt/notebook-env/lib/python3.7/site-packages (from boto3) (0.6.0)\n",
      "Requirement already satisfied: python-dateutil<3.0.0,>=2.1 in /mnt/notebook-env/lib/python3.7/site-packages (from botocore<1.30.0,>=1.29.145->boto3) (2.8.2)\n",
      "Requirement already satisfied: urllib3<1.27,>=1.25.4 in /mnt/notebook-env/lib/python3.7/site-packages (from botocore<1.30.0,>=1.29.145->boto3) (1.26.11)\n",
      "Requirement already satisfied: six>=1.5 in /mnt/notebook-env/lib/python3.7/site-packages (from python-dateutil<3.0.0,>=2.1->botocore<1.30.0,>=1.29.145->boto3) (1.16.0)\n",
      "Note: you may need to restart the kernel to use updated packages.\n",
      "Defaulting to user installation because normal site-packages is not writeable\n",
      "Requirement already satisfied: botocore in /home/emr-notebook/.local/lib/python3.7/site-packages (1.29.145)\n",
      "Requirement already satisfied: jmespath<2.0.0,>=0.7.1 in /mnt/notebook-env/lib/python3.7/site-packages (from botocore) (1.0.1)\n",
      "Requirement already satisfied: python-dateutil<3.0.0,>=2.1 in /mnt/notebook-env/lib/python3.7/site-packages (from botocore) (2.8.2)\n",
      "Requirement already satisfied: urllib3<1.27,>=1.25.4 in /mnt/notebook-env/lib/python3.7/site-packages (from botocore) (1.26.11)\n",
      "Requirement already satisfied: six>=1.5 in /mnt/notebook-env/lib/python3.7/site-packages (from python-dateutil<3.0.0,>=2.1->botocore) (1.16.0)\n",
      "Note: you may need to restart the kernel to use updated packages.\n",
      "Defaulting to user installation because normal site-packages is not writeable\n",
      "Requirement already satisfied: emr-notebooks-magics in /home/emr-notebook/.local/lib/python3.7/site-packages (0.2.3)\n",
      "Requirement already satisfied: boto3 in /home/emr-notebook/.local/lib/python3.7/site-packages (from emr-notebooks-magics) (1.26.145)\n",
      "Requirement already satisfied: botocore<1.30.0,>=1.29.145 in /home/emr-notebook/.local/lib/python3.7/site-packages (from boto3->emr-notebooks-magics) (1.29.145)\n",
      "Requirement already satisfied: jmespath<2.0.0,>=0.7.1 in /mnt/notebook-env/lib/python3.7/site-packages (from boto3->emr-notebooks-magics) (1.0.1)\n",
      "Requirement already satisfied: s3transfer<0.7.0,>=0.6.0 in /mnt/notebook-env/lib/python3.7/site-packages (from boto3->emr-notebooks-magics) (0.6.0)\n",
      "Requirement already satisfied: python-dateutil<3.0.0,>=2.1 in /mnt/notebook-env/lib/python3.7/site-packages (from botocore<1.30.0,>=1.29.145->boto3->emr-notebooks-magics) (2.8.2)\n",
      "Requirement already satisfied: urllib3<1.27,>=1.25.4 in /mnt/notebook-env/lib/python3.7/site-packages (from botocore<1.30.0,>=1.29.145->boto3->emr-notebooks-magics) (1.26.11)\n",
      "Requirement already satisfied: six>=1.5 in /mnt/notebook-env/lib/python3.7/site-packages (from python-dateutil<3.0.0,>=2.1->botocore<1.30.0,>=1.29.145->boto3->emr-notebooks-magics) (1.16.0)\n",
      "Note: you may need to restart the kernel to use updated packages.\n"
     ]
    }
   ],
   "source": [
    "%pip install boto3 --upgrade\n",
    "%pip install botocore --upgrade\n",
    "%pip install emr-notebooks-magics --upgrade"
   ]
  },
  {
   "cell_type": "code",
   "execution_count": 2,
   "id": "4043fa41",
   "metadata": {},
   "outputs": [
    {
     "name": "stdout",
     "output_type": "stream",
     "text": [
      "Defaulting to user installation because normal site-packages is not writeable\n",
      "Requirement already satisfied: pip in /home/emr-notebook/.local/lib/python3.7/site-packages (23.1.2)\n",
      "Note: you may need to restart the kernel to use updated packages.\n"
     ]
    }
   ],
   "source": [
    "%pip install --upgrade pip"
   ]
  },
  {
   "cell_type": "code",
   "execution_count": 5,
   "id": "4936e921",
   "metadata": {},
   "outputs": [
    {
     "data": {
      "application/vnd.jupyter.widget-view+json": {
       "model_id": "ec2f9a70bfa043288990a9f08eae2da5",
       "version_major": 2,
       "version_minor": 0
      },
      "text/plain": [
       "VBox()"
      ]
     },
     "metadata": {},
     "output_type": "display_data"
    },
    {
     "name": "stdout",
     "output_type": "stream",
     "text": [
      "Starting Spark application\n"
     ]
    },
    {
     "data": {
      "text/html": [
       "<table>\n",
       "<tr><th>ID</th><th>YARN Application ID</th><th>Kind</th><th>State</th><th>Spark UI</th><th>Driver log</th><th>User</th><th>Current session?</th></tr><tr><td>3</td><td>application_1685655474483_0004</td><td>pyspark</td><td>idle</td><td><a target=\"_blank\" href=\"http://ip-172-31-77-80.ec2.internal:20888/proxy/application_1685655474483_0004/\" class=\"emr-proxy-link\" emr-resource=\"j-1S1VBKZ5W2TEE\n",
       "\" application-id=\"application_1685655474483_0004\">Link</a></td><td><a target=\"_blank\" href=\"http://ip-172-31-75-253.ec2.internal:8042/node/containerlogs/container_1685655474483_0004_01_000001/livy\" >Link</a></td><td>None</td><td>✔</td></tr></table>"
      ],
      "text/plain": [
       "<IPython.core.display.HTML object>"
      ]
     },
     "metadata": {},
     "output_type": "display_data"
    },
    {
     "data": {
      "application/vnd.jupyter.widget-view+json": {
       "model_id": "",
       "version_major": 2,
       "version_minor": 0
      },
      "text/plain": [
       "FloatProgress(value=0.0, bar_style='info', description='Progress:', layout=Layout(height='25px', width='50%'),…"
      ]
     },
     "metadata": {},
     "output_type": "display_data"
    },
    {
     "name": "stdout",
     "output_type": "stream",
     "text": [
      "SparkSession available as 'spark'.\n"
     ]
    },
    {
     "data": {
      "application/vnd.jupyter.widget-view+json": {
       "model_id": "",
       "version_major": 2,
       "version_minor": 0
      },
      "text/plain": [
       "FloatProgress(value=0.0, bar_style='info', description='Progress:', layout=Layout(height='25px', width='50%'),…"
      ]
     },
     "metadata": {},
     "output_type": "display_data"
    },
    {
     "name": "stdout",
     "output_type": "stream",
     "text": [
      "Collecting matplotlib\n",
      "  Downloading matplotlib-3.5.3-cp37-cp37m-manylinux_2_5_x86_64.manylinux1_x86_64.whl (11.2 MB)\n",
      "Requirement already satisfied: numpy>=1.17 in /usr/local/lib64/python3.7/site-packages (from matplotlib) (1.20.0)\n",
      "Collecting packaging>=20.0\n",
      "  Downloading packaging-23.1-py3-none-any.whl (48 kB)\n",
      "Collecting python-dateutil>=2.7\n",
      "  Downloading python_dateutil-2.8.2-py2.py3-none-any.whl (247 kB)\n",
      "Collecting pyparsing>=2.2.1\n",
      "  Downloading pyparsing-3.0.9-py3-none-any.whl (98 kB)\n",
      "Collecting cycler>=0.10\n",
      "  Downloading cycler-0.11.0-py3-none-any.whl (6.4 kB)\n",
      "Collecting kiwisolver>=1.0.1\n",
      "  Downloading kiwisolver-1.4.4-cp37-cp37m-manylinux_2_5_x86_64.manylinux1_x86_64.whl (1.1 MB)\n",
      "Collecting pillow>=6.2.0\n",
      "  Downloading Pillow-9.5.0-cp37-cp37m-manylinux_2_17_x86_64.manylinux2014_x86_64.whl (3.3 MB)\n",
      "Collecting fonttools>=4.22.0\n",
      "  Downloading fonttools-4.38.0-py3-none-any.whl (965 kB)\n",
      "Requirement already satisfied: six>=1.5 in /usr/local/lib/python3.7/site-packages (from python-dateutil>=2.7->matplotlib) (1.13.0)\n",
      "Collecting typing-extensions; python_version < \"3.8\"\n",
      "  Downloading typing_extensions-4.6.2-py3-none-any.whl (31 kB)\n",
      "Installing collected packages: packaging, python-dateutil, pyparsing, cycler, typing-extensions, kiwisolver, pillow, fonttools, matplotlib\n",
      "Successfully installed cycler-0.11.0 fonttools-4.38.0 kiwisolver-1.4.4 matplotlib-3.5.3 packaging-23.1 pillow-9.5.0 pyparsing-3.0.9 python-dateutil-2.8.2 typing-extensions-4.6.2\n",
      "\n",
      "WARNING: The directory '/home/.cache/pip' or its parent directory is not owned or is not writable by the current user. The cache has been disabled. Check the permissions and owner of that directory. If executing pip with sudo, you may want sudo's -H flag."
     ]
    }
   ],
   "source": [
    "sc.install_pypi_package('matplotlib')"
   ]
  },
  {
   "cell_type": "code",
   "execution_count": 6,
   "id": "09712550",
   "metadata": {},
   "outputs": [
    {
     "data": {
      "application/vnd.jupyter.widget-view+json": {
       "model_id": "623f20f7ae6a40eb851a52d12fa72432",
       "version_major": 2,
       "version_minor": 0
      },
      "text/plain": [
       "VBox()"
      ]
     },
     "metadata": {},
     "output_type": "display_data"
    },
    {
     "data": {
      "application/vnd.jupyter.widget-view+json": {
       "model_id": "",
       "version_major": 2,
       "version_minor": 0
      },
      "text/plain": [
       "FloatProgress(value=0.0, bar_style='info', description='Progress:', layout=Layout(height='25px', width='50%'),…"
      ]
     },
     "metadata": {},
     "output_type": "display_data"
    },
    {
     "name": "stdout",
     "output_type": "stream",
     "text": [
      "Collecting pandas\n",
      "  Downloading pandas-1.3.5-cp37-cp37m-manylinux_2_17_x86_64.manylinux2014_x86_64.whl (11.3 MB)\n",
      "Requirement already satisfied: python-dateutil>=2.7.3 in ./tmp/1685656293815-0/lib/python3.7/site-packages (from pandas) (2.8.2)\n",
      "Requirement already satisfied: numpy>=1.17.3; platform_machine != \"aarch64\" and platform_machine != \"arm64\" and python_version < \"3.10\" in /usr/local/lib64/python3.7/site-packages (from pandas) (1.20.0)\n",
      "Requirement already satisfied: pytz>=2017.3 in /usr/local/lib/python3.7/site-packages (from pandas) (2022.6)\n",
      "Requirement already satisfied: six>=1.5 in /usr/local/lib/python3.7/site-packages (from python-dateutil>=2.7.3->pandas) (1.13.0)\n",
      "Installing collected packages: pandas\n",
      "Successfully installed pandas-1.3.5\n",
      "\n",
      "WARNING: The directory '/home/.cache/pip' or its parent directory is not owned or is not writable by the current user. The cache has been disabled. Check the permissions and owner of that directory. If executing pip with sudo, you may want sudo's -H flag."
     ]
    }
   ],
   "source": [
    "sc.install_pypi_package('pandas')"
   ]
  },
  {
   "cell_type": "code",
   "execution_count": 7,
   "id": "c9a17e03",
   "metadata": {},
   "outputs": [
    {
     "data": {
      "application/vnd.jupyter.widget-view+json": {
       "model_id": "059c794e48144b15b5c4eeb74440719e",
       "version_major": 2,
       "version_minor": 0
      },
      "text/plain": [
       "VBox()"
      ]
     },
     "metadata": {},
     "output_type": "display_data"
    },
    {
     "data": {
      "application/vnd.jupyter.widget-view+json": {
       "model_id": "",
       "version_major": 2,
       "version_minor": 0
      },
      "text/plain": [
       "FloatProgress(value=0.0, bar_style='info', description='Progress:', layout=Layout(height='25px', width='50%'),…"
      ]
     },
     "metadata": {},
     "output_type": "display_data"
    }
   ],
   "source": [
    "from pyspark.sql.functions import date_format\n",
    "import matplotlib.pyplot as plt\n",
    "\n",
    "import pyspark.sql.functions as F\n",
    "from numpy import ceil, floor"
   ]
  },
  {
   "cell_type": "markdown",
   "id": "3d887eb8",
   "metadata": {},
   "source": [
    "### Wczytanie danych"
   ]
  },
  {
   "cell_type": "code",
   "execution_count": 8,
   "id": "0833af15",
   "metadata": {},
   "outputs": [
    {
     "data": {
      "application/vnd.jupyter.widget-view+json": {
       "model_id": "809370341a634ace9fdbfcdf4f12c26c",
       "version_major": 2,
       "version_minor": 0
      },
      "text/plain": [
       "VBox()"
      ]
     },
     "metadata": {},
     "output_type": "display_data"
    },
    {
     "data": {
      "application/vnd.jupyter.widget-view+json": {
       "model_id": "",
       "version_major": 2,
       "version_minor": 0
      },
      "text/plain": [
       "FloatProgress(value=0.0, bar_style='info', description='Progress:', layout=Layout(height='25px', width='50%'),…"
      ]
     },
     "metadata": {},
     "output_type": "display_data"
    }
   ],
   "source": [
    "posts_df        = spark.read.parquet('s3://my-project-213242/cleaned/Posts/')\n",
    "comments_df     = spark.read.parquet('s3://my-project-213242/cleaned/Comments/')\n",
    "badges_df       = spark.read.parquet('s3://my-project-213242/cleaned/Badges/')\n",
    "tags_df         = spark.read.parquet('s3://my-project-213242/cleaned/Tags/')\n",
    "users_df        = spark.read.parquet('s3://my-project-213242/cleaned/Users/') "
   ]
  },
  {
   "cell_type": "markdown",
   "id": "e9a2c625",
   "metadata": {},
   "source": [
    "### 1. Liczba postów na przestrzeni czasu"
   ]
  },
  {
   "cell_type": "markdown",
   "id": "65aeb6b9",
   "metadata": {},
   "source": [
    "- wszystkich postów, bez rodzielenia na typ postu"
   ]
  },
  {
   "cell_type": "code",
   "execution_count": 9,
   "id": "b17f97f1",
   "metadata": {},
   "outputs": [
    {
     "data": {
      "application/vnd.jupyter.widget-view+json": {
       "model_id": "84a98f13c0be4b32b80e54ef908a147c",
       "version_major": 2,
       "version_minor": 0
      },
      "text/plain": [
       "VBox()"
      ]
     },
     "metadata": {},
     "output_type": "display_data"
    },
    {
     "data": {
      "application/vnd.jupyter.widget-view+json": {
       "model_id": "",
       "version_major": 2,
       "version_minor": 0
      },
      "text/plain": [
       "FloatProgress(value=0.0, bar_style='info', description='Progress:', layout=Layout(height='25px', width='50%'),…"
      ]
     },
     "metadata": {},
     "output_type": "display_data"
    },
    {
     "name": "stdout",
     "output_type": "stream",
     "text": [
      "+----+-----+\n",
      "|year|count|\n",
      "+----+-----+\n",
      "|2011|  570|\n",
      "|2012| 4191|\n",
      "|2013| 4965|\n",
      "|2014| 5405|\n",
      "|2015| 7167|\n",
      "|2016| 9545|\n",
      "|2017|10079|\n",
      "|2018| 6496|\n",
      "|2019| 6261|\n",
      "|2020| 3765|\n",
      "|2021| 2375|\n",
      "|2022| 1955|\n",
      "|2023|  300|\n",
      "+----+-----+"
     ]
    }
   ],
   "source": [
    "df = (\n",
    "    posts_df\n",
    "        .withColumn('year', F.year(F.to_date('CreationDate')))\n",
    "        .select('year')\n",
    "        .groupBy('year')\n",
    "        .count()\n",
    "        .orderBy('year')\n",
    ")\n",
    "\n",
    "df.show()"
   ]
  },
  {
   "cell_type": "markdown",
   "id": "8a206c47",
   "metadata": {},
   "source": [
    "- wszystkich postów, z podziałem na typ postu"
   ]
  },
  {
   "cell_type": "code",
   "execution_count": 10,
   "id": "30902001",
   "metadata": {},
   "outputs": [
    {
     "data": {
      "application/vnd.jupyter.widget-view+json": {
       "model_id": "42873498aa0c4941b25c9aeec1c3791f",
       "version_major": 2,
       "version_minor": 0
      },
      "text/plain": [
       "VBox()"
      ]
     },
     "metadata": {},
     "output_type": "display_data"
    },
    {
     "data": {
      "application/vnd.jupyter.widget-view+json": {
       "model_id": "",
       "version_major": 2,
       "version_minor": 0
      },
      "text/plain": [
       "FloatProgress(value=0.0, bar_style='info', description='Progress:', layout=Layout(height='25px', width='50%'),…"
      ]
     },
     "metadata": {},
     "output_type": "display_data"
    },
    {
     "name": "stdout",
     "output_type": "stream",
     "text": [
      "+----+--------+------+----------------+--------+--------------------+----------------+\n",
      "|year|Question|Answer|Tag_wiki_excerpt|Tag_wiki|Moderator_nomination|Wiki_placeholder|\n",
      "+----+--------+------+----------------+--------+--------------------+----------------+\n",
      "|2011|     194|   261|              57|      57|                   0|               1|\n",
      "|2012|    1343|  2218|             315|     315|                   0|               0|\n",
      "|2013|    1659|  2717|             293|     293|                   0|               3|\n",
      "|2014|    1799|  3266|             170|     170|                   0|               0|\n",
      "|2015|    2395|  4289|             235|     235|                  12|               1|\n",
      "|2016|    3222|  5399|             462|     462|                   0|               0|\n",
      "|2017|    3693|  5948|             219|     219|                   0|               0|\n",
      "|2018|    2435|  3706|             173|     173|                   9|               0|\n",
      "|2019|    2289|  3726|             123|     123|                   0|               0|\n",
      "|2020|    1457|  2204|              52|      52|                   0|               0|\n",
      "|2021|     872|  1437|              33|      33|                   0|               0|\n",
      "|2022|     735|  1144|              38|      38|                   0|               0|\n",
      "|2023|     122|   164|               7|       7|                   0|               0|\n",
      "+----+--------+------+----------------+--------+--------------------+----------------+"
     ]
    }
   ],
   "source": [
    "df = (\n",
    "    posts_df\n",
    "    .withColumn('year', F.year(F.to_date('CreationDate')))\n",
    "    .select('year', 'PostTypeId')\n",
    "    .groupBy('year')\n",
    "    .pivot('PostTypeId')\n",
    "    .count()\n",
    "    .orderBy('year')\n",
    "    .withColumnRenamed('1', 'Question')\n",
    "    .withColumnRenamed('2', 'Answer')\n",
    "    .withColumnRenamed('4', 'Tag_wiki_excerpt')\n",
    "    .withColumnRenamed('5', 'Tag_wiki')\n",
    "    .withColumnRenamed('6', 'Moderator_nomination')\n",
    "    .withColumnRenamed('7', 'Wiki_placeholder')\n",
    "    .fillna(0)\n",
    ")\n",
    "\n",
    "df.show()"
   ]
  },
  {
   "cell_type": "markdown",
   "id": "02c0a065",
   "metadata": {},
   "source": [
    "#### (lineplot/barplot)"
   ]
  },
  {
   "cell_type": "code",
   "execution_count": 11,
   "id": "e993aa86",
   "metadata": {},
   "outputs": [
    {
     "data": {
      "application/vnd.jupyter.widget-view+json": {
       "model_id": "db1443bffcd04b26ae9fa7ea65609481",
       "version_major": 2,
       "version_minor": 0
      },
      "text/plain": [
       "VBox()"
      ]
     },
     "metadata": {},
     "output_type": "display_data"
    },
    {
     "data": {
      "application/vnd.jupyter.widget-view+json": {
       "model_id": "",
       "version_major": 2,
       "version_minor": 0
      },
      "text/plain": [
       "FloatProgress(value=0.0, bar_style='info', description='Progress:', layout=Layout(height='25px', width='50%'),…"
      ]
     },
     "metadata": {},
     "output_type": "display_data"
    },
    {
     "data": {
      "image/png": "[encoded data removed]",
      "text/plain": [
       "<IPython.core.display.Image object>"
      ]
     },
     "metadata": {},
     "output_type": "display_data"
    }
   ],
   "source": [
    "plt.clf()\n",
    "df_plot = df.toPandas().set_index('year')\n",
    "df_plot.plot.bar(stacked=True, width=0.85, rot=70, figsize=(8,6))\n",
    "plt.title('Number of Posts over time')\n",
    "plt.xlabel('Year')\n",
    "plt.ylabel('Number of Posts')\n",
    "%matplot plt"
   ]
  },
  {
   "cell_type": "markdown",
   "id": "24da1c1b",
   "metadata": {},
   "source": [
    "### 2. Czas na forum (od pojawienia się użytkownika do ostatniego posta/komentarza) "
   ]
  },
  {
   "cell_type": "markdown",
   "id": "3b5072b7",
   "metadata": {},
   "source": [
    "- ostatnia aktywność użytkowników dla tworzenia postów"
   ]
  },
  {
   "cell_type": "code",
   "execution_count": 12,
   "id": "3603559c",
   "metadata": {},
   "outputs": [
    {
     "data": {
      "application/vnd.jupyter.widget-view+json": {
       "model_id": "d745328325e743bfb4ebf4b38968c501",
       "version_major": 2,
       "version_minor": 0
      },
      "text/plain": [
       "VBox()"
      ]
     },
     "metadata": {},
     "output_type": "display_data"
    },
    {
     "data": {
      "application/vnd.jupyter.widget-view+json": {
       "model_id": "",
       "version_major": 2,
       "version_minor": 0
      },
      "text/plain": [
       "FloatProgress(value=0.0, bar_style='info', description='Progress:', layout=Layout(height='25px', width='50%'),…"
      ]
     },
     "metadata": {},
     "output_type": "display_data"
    }
   ],
   "source": [
    "last_posts_activity_df = posts_df\\\n",
    "            .select('CreationDate', 'OwnerUserId')\\\n",
    "            .groupBy('OwnerUserId')\\\n",
    "            .agg(F.max('CreationDate').alias('LastPostDate'))"
   ]
  },
  {
   "cell_type": "markdown",
   "id": "b676634f",
   "metadata": {},
   "source": [
    "- ostatnia aktywność użytkowników dla tworzenia komentarzy"
   ]
  },
  {
   "cell_type": "code",
   "execution_count": 13,
   "id": "fe4044d1",
   "metadata": {},
   "outputs": [
    {
     "data": {
      "application/vnd.jupyter.widget-view+json": {
       "model_id": "e73960434c1f43cc8575912f967619c8",
       "version_major": 2,
       "version_minor": 0
      },
      "text/plain": [
       "VBox()"
      ]
     },
     "metadata": {},
     "output_type": "display_data"
    },
    {
     "data": {
      "application/vnd.jupyter.widget-view+json": {
       "model_id": "",
       "version_major": 2,
       "version_minor": 0
      },
      "text/plain": [
       "FloatProgress(value=0.0, bar_style='info', description='Progress:', layout=Layout(height='25px', width='50%'),…"
      ]
     },
     "metadata": {},
     "output_type": "display_data"
    }
   ],
   "source": [
    "last_comments_activity_df = comments_df\\\n",
    "            .select('CreationDate', 'UserId')\\\n",
    "            .groupBy('UserId')\\\n",
    "            .agg(F.max('CreationDate').alias('LastCommentDate'))"
   ]
  },
  {
   "cell_type": "markdown",
   "id": "b339868b",
   "metadata": {},
   "source": [
    "- 10 najdłużej aktywnych użytkowników (pomijając boty)"
   ]
  },
  {
   "cell_type": "code",
   "execution_count": 14,
   "id": "52e7c2a3",
   "metadata": {},
   "outputs": [
    {
     "data": {
      "application/vnd.jupyter.widget-view+json": {
       "model_id": "056b3febe1c7401685df007c157436a3",
       "version_major": 2,
       "version_minor": 0
      },
      "text/plain": [
       "VBox()"
      ]
     },
     "metadata": {},
     "output_type": "display_data"
    },
    {
     "data": {
      "application/vnd.jupyter.widget-view+json": {
       "model_id": "",
       "version_major": 2,
       "version_minor": 0
      },
      "text/plain": [
       "FloatProgress(value=0.0, bar_style='info', description='Progress:', layout=Layout(height='25px', width='50%'),…"
      ]
     },
     "metadata": {},
     "output_type": "display_data"
    },
    {
     "name": "stdout",
     "output_type": "stream",
     "text": [
      "+----+---------------------------+-----------------------+-----------------------+------------+---------------+\n",
      "|Id  |DisplayName                |CreationDate           |LastActivity           |ActiveTime_s|ActiveTime_year|\n",
      "+----+---------------------------+-----------------------+-----------------------+------------+---------------+\n",
      "|40  |iandotkelly                |2011-11-30 19:25:58.58 |2023-02-22 22:56:10.11 |354425412   |11.231         |\n",
      "|49  |Napoleon Wilson            |2011-11-30 20:07:52.243|2023-02-19 11:53:18.733|354123926   |11.222         |\n",
      "|106 |Shadow Wizard Chasing Stars|2011-12-01 09:15:02.08 |2023-02-13 16:10:45.06 |353573743   |11.204         |\n",
      "|134 |matt_black                 |2011-12-01 22:17:08.107|2023-02-12 20:56:43.75 |353457575   |11.2           |\n",
      "|667 |bitmask                    |2012-01-23 15:11:28.323|2023-03-04 11:35:54.953|350598266   |11.11          |\n",
      "|763 |Shiz Z.                    |2012-02-04 16:44:13.883|2023-02-18 21:28:26.827|348381853   |11.04          |\n",
      "|789 |Legion600                  |2012-02-08 22:17:11.35 |2023-02-08 17:23:49.823|347137598   |11.0           |\n",
      "|1006|galacticninja              |2012-03-12 09:48:25.48 |2023-03-05 02:11:42.803|346436597   |10.978         |\n",
      "|940 |Michael Stern              |2012-03-01 20:57:58.317|2023-02-17 02:15:58.847|345964680   |10.963         |\n",
      "|1064|Kyralessa                  |2012-03-25 01:36:04.697|2023-01-03 16:20:04.67 |340123440   |10.778         |\n",
      "+----+---------------------------+-----------------------+-----------------------+------------+---------------+"
     ]
    }
   ],
   "source": [
    "df = (\n",
    "    users_df\n",
    "        .select('Id', 'CreationDate', 'DisplayName')\n",
    "        .where(F.col('Id')>0)\n",
    "        .join(\n",
    "            last_posts_activity_df,\n",
    "            users_df.Id == last_posts_activity_df.OwnerUserId,\n",
    "            \"left\"\n",
    "            )\n",
    "        .join(\n",
    "            last_comments_activity_df,\n",
    "            users_df.Id == last_comments_activity_df.UserId,\n",
    "            \"left\")\n",
    "        .select('Id', 'DisplayName', 'CreationDate', F.greatest(F.col('LastPostDate'), F.col('LastCommentDate')).alias('LastActivity'))\n",
    "        .dropna('any')\n",
    "        .withColumn('ActiveTime_s', F.unix_timestamp(F.col('LastActivity')) - F.unix_timestamp(F.col('CreationDate')))\n",
    "        .orderBy(F.col('ActiveTime_s').desc()).limit(10)\n",
    "        .withColumn('ActiveTime_year', F.round(F.col('ActiveTime_s')/60/60/24/365.25, 3))\n",
    ")\n",
    "\n",
    "df.show(truncate=False)"
   ]
  },
  {
   "cell_type": "markdown",
   "id": "b3f28d2d",
   "metadata": {},
   "source": [
    "#### (barplot)"
   ]
  },
  {
   "cell_type": "code",
   "execution_count": 15,
   "id": "5a367671",
   "metadata": {},
   "outputs": [
    {
     "data": {
      "application/vnd.jupyter.widget-view+json": {
       "model_id": "26de1718fd7e4f8fbe6a4d50c608acf4",
       "version_major": 2,
       "version_minor": 0
      },
      "text/plain": [
       "VBox()"
      ]
     },
     "metadata": {},
     "output_type": "display_data"
    },
    {
     "data": {
      "application/vnd.jupyter.widget-view+json": {
       "model_id": "",
       "version_major": 2,
       "version_minor": 0
      },
      "text/plain": [
       "FloatProgress(value=0.0, bar_style='info', description='Progress:', layout=Layout(height='25px', width='50%'),…"
      ]
     },
     "metadata": {},
     "output_type": "display_data"
    },
    {
     "data": {
      "image/png": "[encoded data removed]",
      "text/plain": [
       "<IPython.core.display.Image object>"
      ]
     },
     "metadata": {},
     "output_type": "display_data"
    }
   ],
   "source": [
    "plt.clf()\n",
    "df_plot = df.select('DisplayName', 'ActiveTime_year').toPandas().set_index('DisplayName')\n",
    "df_plot.plot.bar( width=0.85, rot=90, figsize=(8,6))\n",
    "plt.title('Top 10 longest active users')\n",
    "plt.ylim(floor(df_plot['ActiveTime_year'].min()), ceil(df_plot['ActiveTime_year'].max()))\n",
    "plt.ylabel('Years')\n",
    "plt.xlabel('Users')\n",
    "plt.tight_layout()\n",
    "\n",
    "%matplot plt"
   ]
  },
  {
   "cell_type": "markdown",
   "id": "2e762b34",
   "metadata": {},
   "source": [
    "### 3. Porównanie najwyżej i najniżej ocenianych pytań (długość, tagi, liczba odpowiedzi)"
   ]
  },
  {
   "cell_type": "code",
   "execution_count": 16,
   "id": "8314b4fd",
   "metadata": {},
   "outputs": [
    {
     "data": {
      "application/vnd.jupyter.widget-view+json": {
       "model_id": "48a40873c0c4429e8b9089fb347fff30",
       "version_major": 2,
       "version_minor": 0
      },
      "text/plain": [
       "VBox()"
      ]
     },
     "metadata": {},
     "output_type": "display_data"
    },
    {
     "data": {
      "application/vnd.jupyter.widget-view+json": {
       "model_id": "",
       "version_major": 2,
       "version_minor": 0
      },
      "text/plain": [
       "FloatProgress(value=0.0, bar_style='info', description='Progress:', layout=Layout(height='25px', width='50%'),…"
      ]
     },
     "metadata": {},
     "output_type": "display_data"
    }
   ],
   "source": [
    "df = (\n",
    "    posts_df\n",
    "        .filter(F.col('PostTypeId') == 1)\n",
    "        .select('Id','AnswerCount', 'Title', 'Body', 'Tags', 'Score')\n",
    "        .withColumn('TitleLength', F.size(F.col('Title')))\n",
    "        .withColumn('BodyLength', F.size(F.col('Body')))\n",
    "        .withColumn('TagsLength', F.size(F.col('Tags')))\n",
    "        .select('Id','AnswerCount', 'TitleLength', 'BodyLength', 'TagsLength', 'Score')\n",
    ")"
   ]
  },
  {
   "cell_type": "markdown",
   "id": "4547c3a1",
   "metadata": {},
   "source": [
    "- najwyżej oceniane pytania"
   ]
  },
  {
   "cell_type": "code",
   "execution_count": 17,
   "id": "3ea37e7f",
   "metadata": {},
   "outputs": [
    {
     "data": {
      "application/vnd.jupyter.widget-view+json": {
       "model_id": "58f69a93371d43f7b206ed9af5ee5681",
       "version_major": 2,
       "version_minor": 0
      },
      "text/plain": [
       "VBox()"
      ]
     },
     "metadata": {},
     "output_type": "display_data"
    },
    {
     "data": {
      "application/vnd.jupyter.widget-view+json": {
       "model_id": "",
       "version_major": 2,
       "version_minor": 0
      },
      "text/plain": [
       "FloatProgress(value=0.0, bar_style='info', description='Progress:', layout=Layout(height='25px', width='50%'),…"
      ]
     },
     "metadata": {},
     "output_type": "display_data"
    },
    {
     "name": "stdout",
     "output_type": "stream",
     "text": [
      "+-----+-----------+-----------+----------+----------+-----+\n",
      "|Id   |AnswerCount|TitleLength|BodyLength|TagsLength|Score|\n",
      "+-----+-----------+-----------+----------+----------+-----+\n",
      "|79161|1          |6          |49        |4         |246  |\n",
      "|2190 |6          |4          |36        |1         |223  |\n",
      "|604  |7          |8          |49        |3         |201  |\n",
      "|827  |8          |6          |22        |3         |184  |\n",
      "|9745 |3          |7          |35        |2         |168  |\n",
      "|77942|2          |3          |43        |1         |158  |\n",
      "|130  |4          |7          |45        |3         |157  |\n",
      "|70815|7          |4          |40        |3         |146  |\n",
      "|84846|6          |5          |40        |3         |141  |\n",
      "|62533|7          |3          |35        |3         |140  |\n",
      "|47516|10         |6          |73        |2         |139  |\n",
      "|53408|1          |3          |48        |3         |131  |\n",
      "|83382|7          |8          |23        |1         |131  |\n",
      "|84503|4          |6          |13        |1         |128  |\n",
      "|11206|3          |6          |22        |2         |127  |\n",
      "|44695|7          |3          |26        |2         |125  |\n",
      "|80544|2          |6          |58        |2         |124  |\n",
      "|93569|6          |5          |28        |2         |121  |\n",
      "|88468|4          |6          |11        |3         |119  |\n",
      "|53211|3          |10         |58        |1         |118  |\n",
      "+-----+-----------+-----------+----------+----------+-----+\n",
      "only showing top 20 rows"
     ]
    }
   ],
   "source": [
    "df_best = df.orderBy(F.col('Score').desc()).limit(50)\n",
    "df_best.show(truncate=False)"
   ]
  },
  {
   "cell_type": "code",
   "execution_count": 18,
   "id": "34a1accf",
   "metadata": {},
   "outputs": [
    {
     "data": {
      "application/vnd.jupyter.widget-view+json": {
       "model_id": "34553b1c1d1740c581cbc02796f62a1f",
       "version_major": 2,
       "version_minor": 0
      },
      "text/plain": [
       "VBox()"
      ]
     },
     "metadata": {},
     "output_type": "display_data"
    },
    {
     "data": {
      "application/vnd.jupyter.widget-view+json": {
       "model_id": "",
       "version_major": 2,
       "version_minor": 0
      },
      "text/plain": [
       "FloatProgress(value=0.0, bar_style='info', description='Progress:', layout=Layout(height='25px', width='50%'),…"
      ]
     },
     "metadata": {},
     "output_type": "display_data"
    },
    {
     "name": "stdout",
     "output_type": "stream",
     "text": [
      "+---------------+---------------+--------------+--------------+---------+\n",
      "|AnswerCount_avg|TitleLength_avg|BodyLength_avg|TagsLength_avg|Score_avg|\n",
      "+---------------+---------------+--------------+--------------+---------+\n",
      "|           4.82|            5.5|          48.1|          2.08|   119.98|\n",
      "+---------------+---------------+--------------+--------------+---------+"
     ]
    }
   ],
   "source": [
    "df_best.agg(\n",
    "    F.mean(F.col('AnswerCount')).alias('AnswerCount_avg'),\n",
    "    F.mean(F.col('TitleLength')).alias('TitleLength_avg'),\n",
    "    F.mean(F.col('BodyLength')).alias('BodyLength_avg'),\n",
    "    F.mean(F.col('TagsLength')).alias('TagsLength_avg'),\n",
    "    F.mean(F.col('Score')).alias('Score_avg'),\n",
    ").show()"
   ]
  },
  {
   "cell_type": "markdown",
   "id": "7e0e33f6",
   "metadata": {},
   "source": [
    "- najniżej oceniane pytania"
   ]
  },
  {
   "cell_type": "code",
   "execution_count": 19,
   "id": "d0ae4f92",
   "metadata": {},
   "outputs": [
    {
     "data": {
      "application/vnd.jupyter.widget-view+json": {
       "model_id": "b41828649ce945cdac77d4a834d040ea",
       "version_major": 2,
       "version_minor": 0
      },
      "text/plain": [
       "VBox()"
      ]
     },
     "metadata": {},
     "output_type": "display_data"
    },
    {
     "data": {
      "application/vnd.jupyter.widget-view+json": {
       "model_id": "",
       "version_major": 2,
       "version_minor": 0
      },
      "text/plain": [
       "FloatProgress(value=0.0, bar_style='info', description='Progress:', layout=Layout(height='25px', width='50%'),…"
      ]
     },
     "metadata": {},
     "output_type": "display_data"
    },
    {
     "name": "stdout",
     "output_type": "stream",
     "text": [
      "+------+-----------+-----------+----------+----------+-----+\n",
      "|Id    |AnswerCount|TitleLength|BodyLength|TagsLength|Score|\n",
      "+------+-----------+-----------+----------+----------+-----+\n",
      "|72850 |1          |2          |35        |3         |-24  |\n",
      "|97868 |1          |9          |13        |2         |-18  |\n",
      "|73060 |2          |4          |27        |2         |-15  |\n",
      "|57003 |1          |6          |8         |2         |-14  |\n",
      "|97898 |1          |8          |37        |4         |-13  |\n",
      "|98499 |1          |5          |14        |2         |-12  |\n",
      "|59896 |1          |4          |43        |2         |-11  |\n",
      "|78871 |1          |10         |68        |1         |-11  |\n",
      "|98361 |1          |3          |23        |2         |-11  |\n",
      "|63480 |2          |4          |7         |2         |-10  |\n",
      "|83193 |2          |5          |73        |2         |-10  |\n",
      "|88875 |1          |5          |16        |2         |-10  |\n",
      "|92863 |2          |3          |34        |2         |-10  |\n",
      "|97956 |1          |4          |33        |1         |-10  |\n",
      "|101541|1          |5          |15        |3         |-10  |\n",
      "|63952 |1          |5          |49        |1         |-9   |\n",
      "|99694 |2          |6          |20        |2         |-9   |\n",
      "|101348|1          |3          |39        |1         |-9   |\n",
      "|101616|2          |5          |76        |1         |-9   |\n",
      "|97811 |1          |8          |50        |2         |-8   |\n",
      "+------+-----------+-----------+----------+----------+-----+\n",
      "only showing top 20 rows"
     ]
    }
   ],
   "source": [
    "df_worst = df.orderBy(F.col('Score').asc()).limit(50)\n",
    "df_worst.show(truncate=False)"
   ]
  },
  {
   "cell_type": "code",
   "execution_count": 20,
   "id": "f2de8305",
   "metadata": {},
   "outputs": [
    {
     "data": {
      "application/vnd.jupyter.widget-view+json": {
       "model_id": "b7ba1c72db6e45af926373064f4f1efb",
       "version_major": 2,
       "version_minor": 0
      },
      "text/plain": [
       "VBox()"
      ]
     },
     "metadata": {},
     "output_type": "display_data"
    },
    {
     "data": {
      "application/vnd.jupyter.widget-view+json": {
       "model_id": "",
       "version_major": 2,
       "version_minor": 0
      },
      "text/plain": [
       "FloatProgress(value=0.0, bar_style='info', description='Progress:', layout=Layout(height='25px', width='50%'),…"
      ]
     },
     "metadata": {},
     "output_type": "display_data"
    },
    {
     "name": "stdout",
     "output_type": "stream",
     "text": [
      "+---------------+---------------+--------------+--------------+---------+\n",
      "|AnswerCount_avg|TitleLength_avg|BodyLength_avg|TagsLength_avg|Score_avg|\n",
      "+---------------+---------------+--------------+--------------+---------+\n",
      "|           1.32|           5.46|         49.82|           2.1|    -8.94|\n",
      "+---------------+---------------+--------------+--------------+---------+"
     ]
    }
   ],
   "source": [
    "df_worst.agg(\n",
    "    F.mean(F.col('AnswerCount')).alias('AnswerCount_avg'),\n",
    "    F.mean(F.col('TitleLength')).alias('TitleLength_avg'),\n",
    "    F.mean(F.col('BodyLength')).alias('BodyLength_avg'),\n",
    "    F.mean(F.col('TagsLength')).alias('TagsLength_avg'),\n",
    "    F.mean(F.col('Score')).alias('Score_avg'),\n",
    ").show()"
   ]
  },
  {
   "cell_type": "markdown",
   "id": "17d4f414",
   "metadata": {},
   "source": [
    "### 4. Procent przypadków kiedy najwyżej oceniana odpowiedź to niezaakceptowana odpowiedź"
   ]
  },
  {
   "cell_type": "markdown",
   "id": "4bb3f754",
   "metadata": {},
   "source": [
    "- pytania, w których zaakceptowano jakąś odpowiedź"
   ]
  },
  {
   "cell_type": "code",
   "execution_count": 21,
   "id": "282017d4",
   "metadata": {},
   "outputs": [
    {
     "data": {
      "application/vnd.jupyter.widget-view+json": {
       "model_id": "806318f391fa4943a10c05f3e0633cbc",
       "version_major": 2,
       "version_minor": 0
      },
      "text/plain": [
       "VBox()"
      ]
     },
     "metadata": {},
     "output_type": "display_data"
    },
    {
     "data": {
      "application/vnd.jupyter.widget-view+json": {
       "model_id": "",
       "version_major": 2,
       "version_minor": 0
      },
      "text/plain": [
       "FloatProgress(value=0.0, bar_style='info', description='Progress:', layout=Layout(height='25px', width='50%'),…"
      ]
     },
     "metadata": {},
     "output_type": "display_data"
    }
   ],
   "source": [
    "questions_df = (\n",
    "    posts_df\n",
    "    .filter((F.col('AcceptedAnswerId') > 0) & (F.col('PostTypeId') == 1))\n",
    "    .select('AcceptedAnswerId', 'Id')\n",
    ")"
   ]
  },
  {
   "cell_type": "markdown",
   "id": "ef85cdfd",
   "metadata": {},
   "source": [
    "- najlepiej oceniane odpowiedzi (`bestAnswer_Id`) w odpowiedzi na pytania (`bestAnswer_ParentId`)"
   ]
  },
  {
   "cell_type": "code",
   "execution_count": 22,
   "id": "01bbe5f0",
   "metadata": {},
   "outputs": [
    {
     "data": {
      "application/vnd.jupyter.widget-view+json": {
       "model_id": "404548ce764d4fe38547bb7bf10d7df8",
       "version_major": 2,
       "version_minor": 0
      },
      "text/plain": [
       "VBox()"
      ]
     },
     "metadata": {},
     "output_type": "display_data"
    },
    {
     "data": {
      "application/vnd.jupyter.widget-view+json": {
       "model_id": "",
       "version_major": 2,
       "version_minor": 0
      },
      "text/plain": [
       "FloatProgress(value=0.0, bar_style='info', description='Progress:', layout=Layout(height='25px', width='50%'),…"
      ]
     },
     "metadata": {},
     "output_type": "display_data"
    }
   ],
   "source": [
    "from pyspark.sql.window import Window\n",
    "\n",
    "windowSpec  = Window.partitionBy(\"ParentId\").orderBy(F.col(\"Score\").desc())\n",
    "\n",
    "answers_df = (\n",
    "    posts_df\n",
    "    .filter(F.col('PostTypeId') == 2)\n",
    "    .select('ParentId', 'Id', 'Score')\n",
    "    .withColumn(\"rank\", F.rank().over(windowSpec))\n",
    "    .filter(F.col('rank')==1)\n",
    "    .drop('rank', 'Score')\n",
    "    .withColumnRenamed('Id', 'bestAnswer_Id')\n",
    "    .withColumnRenamed('ParentId', 'bestAnswer_ParentId')\n",
    ")"
   ]
  },
  {
   "cell_type": "markdown",
   "id": "2f92395d",
   "metadata": {},
   "source": [
    "- procent przypadków kiedy najwyżej oceniana odpowiedź to niezaakceptowana odpowiedź"
   ]
  },
  {
   "cell_type": "code",
   "execution_count": 23,
   "id": "dcbb1736",
   "metadata": {},
   "outputs": [
    {
     "data": {
      "application/vnd.jupyter.widget-view+json": {
       "model_id": "840ed1b55a084ec7a6caec66bf864146",
       "version_major": 2,
       "version_minor": 0
      },
      "text/plain": [
       "VBox()"
      ]
     },
     "metadata": {},
     "output_type": "display_data"
    },
    {
     "data": {
      "application/vnd.jupyter.widget-view+json": {
       "model_id": "",
       "version_major": 2,
       "version_minor": 0
      },
      "text/plain": [
       "FloatProgress(value=0.0, bar_style='info', description='Progress:', layout=Layout(height='25px', width='50%'),…"
      ]
     },
     "metadata": {},
     "output_type": "display_data"
    },
    {
     "name": "stdout",
     "output_type": "stream",
     "text": [
      "+-----------------+\n",
      "|                %|\n",
      "+-----------------+\n",
      "|7.024191197901486|\n",
      "+-----------------+"
     ]
    }
   ],
   "source": [
    "df = (\n",
    "    questions_df\n",
    "    .join(answers_df, questions_df.Id == answers_df.bestAnswer_ParentId, 'left')\n",
    "    .withColumn('flag', F.when(F.col('AcceptedAnswerId') != F.col('bestAnswer_Id') , 1).otherwise(0))\n",
    "    .select(F.mean(F.col('flag')*100).alias('%'))\n",
    ")\n",
    "\n",
    "df.show()"
   ]
  },
  {
   "cell_type": "markdown",
   "id": "614b8060",
   "metadata": {},
   "source": [
    "### 5. Rozkład ocen odpowiedzi zaakceptowanych vs pozostałych (średnia, odchylenie, minimum, maksimum)"
   ]
  },
  {
   "cell_type": "markdown",
   "id": "f292922e",
   "metadata": {},
   "source": [
    "- odpowiedzi (`Id`) oraz ich ocena (`Score`) wraz z informacją czy jest to zaakceptowana odpowiedź (`AcceptedAnswer`)"
   ]
  },
  {
   "cell_type": "code",
   "execution_count": 24,
   "id": "037e0975",
   "metadata": {
    "scrolled": true
   },
   "outputs": [
    {
     "data": {
      "application/vnd.jupyter.widget-view+json": {
       "model_id": "0556873467b64c62b99158f161b1c91c",
       "version_major": 2,
       "version_minor": 0
      },
      "text/plain": [
       "VBox()"
      ]
     },
     "metadata": {},
     "output_type": "display_data"
    },
    {
     "data": {
      "application/vnd.jupyter.widget-view+json": {
       "model_id": "",
       "version_major": 2,
       "version_minor": 0
      },
      "text/plain": [
       "FloatProgress(value=0.0, bar_style='info', description='Progress:', layout=Layout(height='25px', width='50%'),…"
      ]
     },
     "metadata": {},
     "output_type": "display_data"
    },
    {
     "name": "stdout",
     "output_type": "stream",
     "text": [
      "+---+-----+--------------+\n",
      "| Id|Score|AcceptedAnswer|\n",
      "+---+-----+--------------+\n",
      "|  2|   15|             0|\n",
      "|  8|    8|             0|\n",
      "| 17|   14|             0|\n",
      "| 21|   13|             1|\n",
      "| 24|    9|             0|\n",
      "| 25|    8|             0|\n",
      "| 31|   17|             1|\n",
      "| 32|   16|             0|\n",
      "| 34|    8|             1|\n",
      "| 36|   16|             0|\n",
      "+---+-----+--------------+"
     ]
    }
   ],
   "source": [
    "df = (\n",
    "    posts_df.filter(F.col('PostTypeId') == 2)\n",
    "    .select('Id', 'Score')\n",
    "    .join(\n",
    "        posts_df.filter(F.col('PostTypeId') == 1)\n",
    "        .select(F.col('AcceptedAnswerId')), \n",
    "        posts_df.Id == posts_df.AcceptedAnswerId,\n",
    "        'left'\n",
    "         )\n",
    "    .withColumn('AcceptedAnswer', F.when(F.col('AcceptedAnswerId')>0, 1).otherwise(0))\n",
    "    .drop('AcceptedAnswerId')   \n",
    ")\n",
    "\n",
    "df.limit(10).show()"
   ]
  },
  {
   "cell_type": "markdown",
   "id": "2c916a82",
   "metadata": {},
   "source": [
    "- średnia, odchylenie, minimum, maksimum"
   ]
  },
  {
   "cell_type": "code",
   "execution_count": 25,
   "id": "a3df4165",
   "metadata": {},
   "outputs": [
    {
     "data": {
      "application/vnd.jupyter.widget-view+json": {
       "model_id": "060378090f63467aa72cbda9b54e9b87",
       "version_major": 2,
       "version_minor": 0
      },
      "text/plain": [
       "VBox()"
      ]
     },
     "metadata": {},
     "output_type": "display_data"
    },
    {
     "data": {
      "application/vnd.jupyter.widget-view+json": {
       "model_id": "",
       "version_major": 2,
       "version_minor": 0
      },
      "text/plain": [
       "FloatProgress(value=0.0, bar_style='info', description='Progress:', layout=Layout(height='25px', width='50%'),…"
      ]
     },
     "metadata": {},
     "output_type": "display_data"
    },
    {
     "name": "stdout",
     "output_type": "stream",
     "text": [
      "+--------------+-----+-----+---+---+\n",
      "|AcceptedAnswer| mean|  std|min|max|\n",
      "+--------------+-----+-----+---+---+\n",
      "|             1|12.14|15.76|-11|326|\n",
      "|             0| 4.91| 9.06|-10|215|\n",
      "+--------------+-----+-----+---+---+"
     ]
    }
   ],
   "source": [
    "stats_df = (\n",
    "     df\n",
    "        .groupBy('AcceptedAnswer')\n",
    "        .agg(\n",
    "            F.round(F.mean('Score'), 2).alias('mean'),\n",
    "            F.round(F.stddev('Score'), 2).alias('std'),\n",
    "            F.min('Score').alias('min'),\n",
    "            F.max('Score').alias('max')\n",
    "    )\n",
    ")\n",
    "\n",
    "stats_df.show()"
   ]
  },
  {
   "cell_type": "markdown",
   "id": "3bdde088",
   "metadata": {},
   "source": [
    "### 6.Top N tagów które wygenerowały najwięcej wyświetleń"
   ]
  },
  {
   "cell_type": "markdown",
   "id": "5fa93738",
   "metadata": {},
   "source": [
    "- ustalenie wartości N"
   ]
  },
  {
   "cell_type": "code",
   "execution_count": 26,
   "id": "d8b9bfc6",
   "metadata": {},
   "outputs": [
    {
     "data": {
      "application/vnd.jupyter.widget-view+json": {
       "model_id": "4f5295a5e11d430f8cf5f9928cbcbf58",
       "version_major": 2,
       "version_minor": 0
      },
      "text/plain": [
       "VBox()"
      ]
     },
     "metadata": {},
     "output_type": "display_data"
    },
    {
     "data": {
      "application/vnd.jupyter.widget-view+json": {
       "model_id": "",
       "version_major": 2,
       "version_minor": 0
      },
      "text/plain": [
       "FloatProgress(value=0.0, bar_style='info', description='Progress:', layout=Layout(height='25px', width='50%'),…"
      ]
     },
     "metadata": {},
     "output_type": "display_data"
    }
   ],
   "source": [
    "n = 10"
   ]
  },
  {
   "cell_type": "markdown",
   "id": "96268db5",
   "metadata": {},
   "source": [
    "- najwiecej wyswietlen w skali jednego posta"
   ]
  },
  {
   "cell_type": "code",
   "execution_count": 27,
   "id": "dffa40ef",
   "metadata": {},
   "outputs": [
    {
     "data": {
      "application/vnd.jupyter.widget-view+json": {
       "model_id": "67b2104fd3d64277bcd0d2471820ae8f",
       "version_major": 2,
       "version_minor": 0
      },
      "text/plain": [
       "VBox()"
      ]
     },
     "metadata": {},
     "output_type": "display_data"
    },
    {
     "data": {
      "application/vnd.jupyter.widget-view+json": {
       "model_id": "",
       "version_major": 2,
       "version_minor": 0
      },
      "text/plain": [
       "FloatProgress(value=0.0, bar_style='info', description='Progress:', layout=Layout(height='25px', width='50%'),…"
      ]
     },
     "metadata": {},
     "output_type": "display_data"
    },
    {
     "name": "stdout",
     "output_type": "stream",
     "text": [
      "+---------+---------------------+\n",
      "|ViewCount|Tag                  |\n",
      "+---------+---------------------+\n",
      "|1525046  |harry-potter         |\n",
      "|1353541  |plot-explanation     |\n",
      "|1353541  |the-lord-of-the-rings|\n",
      "|907158   |shadowhunters        |\n",
      "|760256   |memento              |\n",
      "|747037   |american-psycho      |\n",
      "|703444   |suggested-order      |\n",
      "|703444   |the-hobbit           |\n",
      "|530416   |historical-accuracy  |\n",
      "|530416   |the-last-kingdom     |\n",
      "+---------+---------------------+"
     ]
    }
   ],
   "source": [
    "from pyspark.sql.window import Window\n",
    "windowSpec  = Window.partitionBy(\"Tag\").orderBy(F.col(\"ViewCount\").desc())\n",
    "\n",
    "top_tags_df = (\n",
    "    posts_df\n",
    "    .filter(F.col('PostTypeId') == 1)\n",
    "    .select('ViewCount', F.explode('Tags').alias('Tag'))\n",
    "    .withColumn(\"rank\", F.rank().over(windowSpec))\n",
    "    .filter(F.col(\"rank\")==1)\n",
    "    .drop(\"rank\")\n",
    "    .orderBy(F.col('ViewCount').desc())\n",
    "    .limit(n)\n",
    ")\n",
    "\n",
    "top_tags_df.show(truncate=False)"
   ]
  },
  {
   "cell_type": "markdown",
   "id": "dde44088",
   "metadata": {},
   "source": [
    "- suma wszystkich wyswietleń dla wszystkich postów dla top N tagów"
   ]
  },
  {
   "cell_type": "code",
   "execution_count": 28,
   "id": "7120885e",
   "metadata": {},
   "outputs": [
    {
     "data": {
      "application/vnd.jupyter.widget-view+json": {
       "model_id": "78532384161f4b90ab1dc3655f184b6a",
       "version_major": 2,
       "version_minor": 0
      },
      "text/plain": [
       "VBox()"
      ]
     },
     "metadata": {},
     "output_type": "display_data"
    },
    {
     "data": {
      "application/vnd.jupyter.widget-view+json": {
       "model_id": "",
       "version_major": 2,
       "version_minor": 0
      },
      "text/plain": [
       "FloatProgress(value=0.0, bar_style='info', description='Progress:', layout=Layout(height='25px', width='50%'),…"
      ]
     },
     "metadata": {},
     "output_type": "display_data"
    },
    {
     "name": "stdout",
     "output_type": "stream",
     "text": [
      "+-------------------------+------------+\n",
      "|Tag                      |SumViewCount|\n",
      "+-------------------------+------------+\n",
      "|plot-explanation         |67493057    |\n",
      "|character                |19233425    |\n",
      "|analysis                 |13512498    |\n",
      "|marvel-cinematic-universe|10990509    |\n",
      "|ending                   |8077492     |\n",
      "|dialogue                 |7623430     |\n",
      "|game-of-thrones          |6673811     |\n",
      "|breaking-bad             |5506396     |\n",
      "|film-techniques          |4740492     |\n",
      "|production               |4434326     |\n",
      "+-------------------------+------------+"
     ]
    }
   ],
   "source": [
    "top_tags2_df = (\n",
    "    posts_df\n",
    "    .filter(F.col('PostTypeId') == 1)\n",
    "    .select('ViewCount', F.explode('Tags').alias('Tag'))\n",
    "    .groupBy('Tag').agg(F.sum(F.col('ViewCount')).alias('SumViewCount'))\n",
    "    .orderBy(F.col('SumViewCount').desc())\n",
    "    .limit(n)\n",
    ")\n",
    "\n",
    "top_tags2_df.show(truncate=False)"
   ]
  },
  {
   "cell_type": "markdown",
   "id": "f01c6c00",
   "metadata": {},
   "source": [
    "### 7. Liczba postów w czasie dla każdego z top N tagów (lineplot/barplot)"
   ]
  },
  {
   "cell_type": "markdown",
   "id": "0f2956fb",
   "metadata": {},
   "source": [
    "- dla tagów które wygenerowały najwiecej wyswietlen w skali jednego posta"
   ]
  },
  {
   "cell_type": "code",
   "execution_count": 29,
   "id": "35bf72f1",
   "metadata": {},
   "outputs": [
    {
     "data": {
      "application/vnd.jupyter.widget-view+json": {
       "model_id": "e49f82a0face484e8c23b118ac7d163f",
       "version_major": 2,
       "version_minor": 0
      },
      "text/plain": [
       "VBox()"
      ]
     },
     "metadata": {},
     "output_type": "display_data"
    },
    {
     "data": {
      "application/vnd.jupyter.widget-view+json": {
       "model_id": "",
       "version_major": 2,
       "version_minor": 0
      },
      "text/plain": [
       "FloatProgress(value=0.0, bar_style='info', description='Progress:', layout=Layout(height='25px', width='50%'),…"
      ]
     },
     "metadata": {},
     "output_type": "display_data"
    },
    {
     "name": "stdout",
     "output_type": "stream",
     "text": [
      "+----+---------------+------------+-------------------+-------+----------------+-------------+---------------+----------+----------------+---------------------+\n",
      "|year|american-psycho|harry-potter|historical-accuracy|memento|plot-explanation|shadowhunters|suggested-order|the-hobbit|the-last-kingdom|the-lord-of-the-rings|\n",
      "+----+---------------+------------+-------------------+-------+----------------+-------------+---------------+----------+----------------+---------------------+\n",
      "|2011|              0|           4|                  1|      1|              61|            0|              1|         0|               0|                    0|\n",
      "|2012|              0|           5|                 10|      5|             539|            0|              1|        10|               0|                   13|\n",
      "|2013|              2|          12|                  6|      5|             533|            0|              0|        21|               0|                   17|\n",
      "|2014|              3|           7|                  7|      5|             682|            0|              4|        16|               0|                   18|\n",
      "|2015|              2|          24|                 10|      3|             783|            0|              2|         8|               1|                   12|\n",
      "|2016|              0|          50|                 20|      4|            1025|            0|             13|         8|               0|                   13|\n",
      "|2017|              1|          34|                 20|      5|            1449|            0|             11|         4|               0|                   16|\n",
      "|2018|              0|          43|                 19|      1|            1060|            2|             12|         2|               2|                   11|\n",
      "|2019|              0|          11|                 10|      1|             899|            1|             16|         1|               1|                    8|\n",
      "|2020|              0|           3|                 15|      1|             533|            0|              1|         1|               0|                    4|\n",
      "|2021|              1|           3|                  4|      0|             292|            0|              3|         0|               0|                    3|\n",
      "|2022|              0|           2|                  8|      1|             246|            0|              3|         1|               1|                    6|\n",
      "|2023|              0|           1|                  0|      0|              28|            0|              0|         0|               0|                    0|\n",
      "+----+---------------+------------+-------------------+-------+----------------+-------------+---------------+----------+----------------+---------------------+"
     ]
    }
   ],
   "source": [
    "df = (\n",
    "    posts_df\n",
    "    .filter(F.col('PostTypeId') == 1)\n",
    "    .select('CreationDate', F.explode('Tags').alias('Tag'))\n",
    "    .join(top_tags_df.select('Tag'), 'Tag', 'inner')\n",
    "    .withColumn('date', F.to_date('CreationDate'))\n",
    "    .withColumn('year', F.year('date'))\n",
    "    .groupBy('year')\n",
    "    .pivot('Tag')\n",
    "    .count()\n",
    "    .orderBy('year')\n",
    "    .fillna(0)\n",
    ")\n",
    "\n",
    "df.show()"
   ]
  },
  {
   "cell_type": "code",
   "execution_count": 30,
   "id": "c345669b",
   "metadata": {},
   "outputs": [
    {
     "data": {
      "application/vnd.jupyter.widget-view+json": {
       "model_id": "f144dd57f3e44b3181042abd80ce0cef",
       "version_major": 2,
       "version_minor": 0
      },
      "text/plain": [
       "VBox()"
      ]
     },
     "metadata": {},
     "output_type": "display_data"
    },
    {
     "data": {
      "application/vnd.jupyter.widget-view+json": {
       "model_id": "",
       "version_major": 2,
       "version_minor": 0
      },
      "text/plain": [
       "FloatProgress(value=0.0, bar_style='info', description='Progress:', layout=Layout(height='25px', width='50%'),…"
      ]
     },
     "metadata": {},
     "output_type": "display_data"
    },
    {
     "data": {
      "image/png": "[encoded data removed]",
      "text/plain": [
       "<IPython.core.display.Image object>"
      ]
     },
     "metadata": {},
     "output_type": "display_data"
    }
   ],
   "source": [
    "plt.clf()\n",
    "df_plot = df.toPandas().set_index('year')\n",
    "df_plot.plot.bar(stacked=True, width=0.85, rot=70, figsize=(8,6))\n",
    "plt.title('Number of Posts over time')\n",
    "plt.xlabel('Year')\n",
    "plt.ylabel('Number of Posts')\n",
    "\n",
    "%matplot plt"
   ]
  },
  {
   "cell_type": "markdown",
   "id": "ad211b3b",
   "metadata": {},
   "source": [
    "- dla tagów które sumarycznie wygenerowały najwięcej wyświetleń wszystkich postów"
   ]
  },
  {
   "cell_type": "code",
   "execution_count": 31,
   "id": "9bf1a779",
   "metadata": {},
   "outputs": [
    {
     "data": {
      "application/vnd.jupyter.widget-view+json": {
       "model_id": "5c0e167911794d00b1245bb9302f01fb",
       "version_major": 2,
       "version_minor": 0
      },
      "text/plain": [
       "VBox()"
      ]
     },
     "metadata": {},
     "output_type": "display_data"
    },
    {
     "data": {
      "application/vnd.jupyter.widget-view+json": {
       "model_id": "",
       "version_major": 2,
       "version_minor": 0
      },
      "text/plain": [
       "FloatProgress(value=0.0, bar_style='info', description='Progress:', layout=Layout(height='25px', width='50%'),…"
      ]
     },
     "metadata": {},
     "output_type": "display_data"
    },
    {
     "name": "stdout",
     "output_type": "stream",
     "text": [
      "+----+--------+------------+---------+--------+------+---------------+---------------+-------------------------+----------------+----------+\n",
      "|year|analysis|breaking-bad|character|dialogue|ending|film-techniques|game-of-thrones|marvel-cinematic-universe|plot-explanation|production|\n",
      "+----+--------+------------+---------+--------+------+---------------+---------------+-------------------------+----------------+----------+\n",
      "|2011|      41|           0|       13|       3|     9|              5|              0|                        1|              61|         1|\n",
      "|2012|     143|           8|      110|      36|    34|             39|              8|                       29|             539|        29|\n",
      "|2013|     143|          77|      188|      35|    28|             67|             36|                       46|             533|        50|\n",
      "|2014|     146|          52|      150|      75|    24|             58|             41|                       50|             682|        51|\n",
      "|2015|     121|          87|      297|     104|    32|             54|            112|                       90|             783|        75|\n",
      "|2016|     190|          23|      397|      93|    55|            103|            148|                      124|            1025|       118|\n",
      "|2017|     229|          16|      416|     167|    45|            103|            196|                      153|            1449|       119|\n",
      "|2018|     144|          20|      315|     119|    31|             37|             30|                      346|            1060|        82|\n",
      "|2019|      76|          21|      226|     143|    25|             34|            203|                      345|             899|        64|\n",
      "|2020|      65|          26|      115|      77|    15|             25|              9|                       33|             533|        51|\n",
      "|2021|      41|           6|       58|      34|    14|             12|              5|                       65|             292|        22|\n",
      "|2022|      28|          18|       55|      32|     9|              3|              9|                       40|             246|        23|\n",
      "|2023|       5|           7|        5|       3|     2|              1|              0|                        2|              28|         4|\n",
      "+----+--------+------------+---------+--------+------+---------------+---------------+-------------------------+----------------+----------+"
     ]
    }
   ],
   "source": [
    "df = (\n",
    "    posts_df\n",
    "    .filter(F.col('PostTypeId') == 1)\n",
    "    .select('CreationDate', F.explode('Tags').alias('Tag'))\n",
    "    .join(top_tags2_df.select('Tag'), 'Tag', 'inner')\n",
    "    .withColumn('date', F.to_date('CreationDate'))\n",
    "    .withColumn('year', F.year('date'))\n",
    "    .groupBy('year')\n",
    "    .pivot('Tag')\n",
    "    .count()\n",
    "    .orderBy('year')\n",
    "    .fillna(0)\n",
    ")\n",
    "\n",
    "df.show()"
   ]
  },
  {
   "cell_type": "code",
   "execution_count": 32,
   "id": "b04f53f8",
   "metadata": {},
   "outputs": [
    {
     "data": {
      "application/vnd.jupyter.widget-view+json": {
       "model_id": "585fc0be04e54b75a03782626e0dbc91",
       "version_major": 2,
       "version_minor": 0
      },
      "text/plain": [
       "VBox()"
      ]
     },
     "metadata": {},
     "output_type": "display_data"
    },
    {
     "data": {
      "application/vnd.jupyter.widget-view+json": {
       "model_id": "",
       "version_major": 2,
       "version_minor": 0
      },
      "text/plain": [
       "FloatProgress(value=0.0, bar_style='info', description='Progress:', layout=Layout(height='25px', width='50%'),…"
      ]
     },
     "metadata": {},
     "output_type": "display_data"
    },
    {
     "data": {
      "image/png": "[encoded data removed]",
      "text/plain": [
       "<IPython.core.display.Image object>"
      ]
     },
     "metadata": {},
     "output_type": "display_data"
    }
   ],
   "source": [
    "plt.clf()\n",
    "df_plot = df.toPandas().set_index('year')\n",
    "df_plot.plot.bar(stacked=True, width=0.85, rot=70, figsize=(8,6))\n",
    "plt.title('Number of Posts over time')\n",
    "plt.xlabel('Year')\n",
    "plt.ylabel('Number of Posts')\n",
    "\n",
    "%matplot plt"
   ]
  },
  {
   "cell_type": "markdown",
   "id": "f70b11b8",
   "metadata": {},
   "source": [
    "### 8. Najczęściej pojawiające się słowa w tytułach (z pominięciem stopwords)"
   ]
  },
  {
   "cell_type": "code",
   "execution_count": 33,
   "id": "5057ae22",
   "metadata": {},
   "outputs": [
    {
     "data": {
      "application/vnd.jupyter.widget-view+json": {
       "model_id": "0cf75aaf245742b8999d6e32b1743760",
       "version_major": 2,
       "version_minor": 0
      },
      "text/plain": [
       "VBox()"
      ]
     },
     "metadata": {},
     "output_type": "display_data"
    },
    {
     "data": {
      "application/vnd.jupyter.widget-view+json": {
       "model_id": "",
       "version_major": 2,
       "version_minor": 0
      },
      "text/plain": [
       "FloatProgress(value=0.0, bar_style='info', description='Progress:', layout=Layout(height='25px', width='50%'),…"
      ]
     },
     "metadata": {},
     "output_type": "display_data"
    },
    {
     "name": "stdout",
     "output_type": "stream",
     "text": [
      "+------------+-----+\n",
      "|        word|count|\n",
      "+------------+-----+\n",
      "|       movie| 1584|\n",
      "|       scene|  655|\n",
      "|         end|  573|\n",
      "|         get|  552|\n",
      "|        know|  550|\n",
      "|         man|  494|\n",
      "|       first|  489|\n",
      "|        film|  475|\n",
      "|      movies|  456|\n",
      "|   character|  431|\n",
      "|significance|  430|\n",
      "|          tv|  411|\n",
      "|        time|  408|\n",
      "|    happened|  381|\n",
      "|        name|  377|\n",
      "|      season|  365|\n",
      "|        mean|  355|\n",
      "|        show|  353|\n",
      "|         use|  352|\n",
      "|        real|  337|\n",
      "+------------+-----+"
     ]
    }
   ],
   "source": [
    "top_words_df = (\n",
    "    posts_df\n",
    "    .filter(F.col('PostTypeId') == 1)\n",
    "    .select(F.explode('Title').alias('word'))\n",
    "    .groupBy('word').count()\n",
    "    .orderBy(F.col('count').desc())\n",
    ")\n",
    "\n",
    "top_words_df.limit(20).show()"
   ]
  },
  {
   "cell_type": "markdown",
   "id": "52d7244f",
   "metadata": {},
   "source": [
    "### 9. Procent użytkowników którzy nigdy nic nie zapostowali"
   ]
  },
  {
   "cell_type": "code",
   "execution_count": 34,
   "id": "76cb3a11",
   "metadata": {},
   "outputs": [
    {
     "data": {
      "application/vnd.jupyter.widget-view+json": {
       "model_id": "50a6f00280d4434bb3b1c9c4aa5416d7",
       "version_major": 2,
       "version_minor": 0
      },
      "text/plain": [
       "VBox()"
      ]
     },
     "metadata": {},
     "output_type": "display_data"
    },
    {
     "data": {
      "application/vnd.jupyter.widget-view+json": {
       "model_id": "",
       "version_major": 2,
       "version_minor": 0
      },
      "text/plain": [
       "FloatProgress(value=0.0, bar_style='info', description='Progress:', layout=Layout(height='25px', width='50%'),…"
      ]
     },
     "metadata": {},
     "output_type": "display_data"
    }
   ],
   "source": [
    "df = (\n",
    "    users_df\n",
    "    .select('Id')\n",
    "    .join(posts_df.select('OwnerUserId').distinct(), users_df.Id == posts_df.OwnerUserId, 'left')\n",
    "    .withColumn('withNoPost', F.when(F.col('OwnerUserId').isNull(), 1).otherwise(0))\n",
    "    .select(F.mean(F.col('withNoPost')*100).alias('%'))\n",
    ")"
   ]
  },
  {
   "cell_type": "code",
   "execution_count": 35,
   "id": "baba06c8",
   "metadata": {},
   "outputs": [
    {
     "data": {
      "application/vnd.jupyter.widget-view+json": {
       "model_id": "da8025c3844d4123be771267827364a7",
       "version_major": 2,
       "version_minor": 0
      },
      "text/plain": [
       "VBox()"
      ]
     },
     "metadata": {},
     "output_type": "display_data"
    },
    {
     "data": {
      "application/vnd.jupyter.widget-view+json": {
       "model_id": "",
       "version_major": 2,
       "version_minor": 0
      },
      "text/plain": [
       "FloatProgress(value=0.0, bar_style='info', description='Progress:', layout=Layout(height='25px', width='50%'),…"
      ]
     },
     "metadata": {},
     "output_type": "display_data"
    },
    {
     "name": "stdout",
     "output_type": "stream",
     "text": [
      "+-----------------+\n",
      "|                %|\n",
      "+-----------------+\n",
      "|78.99806517169861|\n",
      "+-----------------+"
     ]
    }
   ],
   "source": [
    "df.show()"
   ]
  },
  {
   "cell_type": "markdown",
   "id": "d6d4899c",
   "metadata": {},
   "source": [
    "### 10. Średni czas od pojawienia się pytania do pojawienia się zaakceptowanej odpowiedzi"
   ]
  },
  {
   "cell_type": "markdown",
   "id": "f5fc4c70",
   "metadata": {},
   "source": [
    "- zaakcepowana odpowiedź (`AcceptedAnswerId`) dla pytania (`QuestionId`), utworzonego w (`QuestionCreationDate`)"
   ]
  },
  {
   "cell_type": "code",
   "execution_count": 36,
   "id": "1934e507",
   "metadata": {},
   "outputs": [
    {
     "data": {
      "application/vnd.jupyter.widget-view+json": {
       "model_id": "733ca4d9a3d846dcb5a7ce658f8e5011",
       "version_major": 2,
       "version_minor": 0
      },
      "text/plain": [
       "VBox()"
      ]
     },
     "metadata": {},
     "output_type": "display_data"
    },
    {
     "data": {
      "application/vnd.jupyter.widget-view+json": {
       "model_id": "",
       "version_major": 2,
       "version_minor": 0
      },
      "text/plain": [
       "FloatProgress(value=0.0, bar_style='info', description='Progress:', layout=Layout(height='25px', width='50%'),…"
      ]
     },
     "metadata": {},
     "output_type": "display_data"
    }
   ],
   "source": [
    "questions_df =(\n",
    "    posts_df\n",
    "    .filter((F.col('PostTypeId') == 1) & (F.col('AcceptedAnswerId') > 0))\n",
    "    .select('AcceptedAnswerId',\n",
    "            F.col('CreationDate').alias('QuestionCreationDate'),\n",
    "            F.col('Id').alias('QuestionId'))\n",
    ")"
   ]
  },
  {
   "cell_type": "markdown",
   "id": "065ebc9a",
   "metadata": {},
   "source": [
    "- odpowiedź (`AnswerId`) utworzonego w (`AnswerCreationDate`)"
   ]
  },
  {
   "cell_type": "code",
   "execution_count": 37,
   "id": "b4a52a2b",
   "metadata": {},
   "outputs": [
    {
     "data": {
      "application/vnd.jupyter.widget-view+json": {
       "model_id": "ce4b5e9324bc4a5f874af1ac15e58c59",
       "version_major": 2,
       "version_minor": 0
      },
      "text/plain": [
       "VBox()"
      ]
     },
     "metadata": {},
     "output_type": "display_data"
    },
    {
     "data": {
      "application/vnd.jupyter.widget-view+json": {
       "model_id": "",
       "version_major": 2,
       "version_minor": 0
      },
      "text/plain": [
       "FloatProgress(value=0.0, bar_style='info', description='Progress:', layout=Layout(height='25px', width='50%'),…"
      ]
     },
     "metadata": {},
     "output_type": "display_data"
    }
   ],
   "source": [
    "answers_df =(\n",
    "    posts_df\n",
    "    .filter(F.col('PostTypeId') == 2)\n",
    "    .select(F.col('Id').alias('AnswerId'),\n",
    "            F.col('CreationDate').alias('AnswerCreationDate'))\n",
    ")"
   ]
  },
  {
   "cell_type": "markdown",
   "id": "6358ed58",
   "metadata": {},
   "source": [
    "- Średni czas od pojawienia się pytania do pojawienia się zaakceptowanej odpowiedzi"
   ]
  },
  {
   "cell_type": "code",
   "execution_count": 38,
   "id": "01169849",
   "metadata": {},
   "outputs": [
    {
     "data": {
      "application/vnd.jupyter.widget-view+json": {
       "model_id": "5d8a8a9f54744d63b59241da5e338ff2",
       "version_major": 2,
       "version_minor": 0
      },
      "text/plain": [
       "VBox()"
      ]
     },
     "metadata": {},
     "output_type": "display_data"
    },
    {
     "data": {
      "application/vnd.jupyter.widget-view+json": {
       "model_id": "",
       "version_major": 2,
       "version_minor": 0
      },
      "text/plain": [
       "FloatProgress(value=0.0, bar_style='info', description='Progress:', layout=Layout(height='25px', width='50%'),…"
      ]
     },
     "metadata": {},
     "output_type": "display_data"
    },
    {
     "name": "stdout",
     "output_type": "stream",
     "text": [
      "+-------------------+\n",
      "|WaitingTimeDays_avg|\n",
      "+-------------------+\n",
      "|  31.49515632398322|\n",
      "+-------------------+"
     ]
    }
   ],
   "source": [
    "df = (\n",
    "    questions_df\n",
    "    .join(answers_df, questions_df.AcceptedAnswerId == answers_df.AnswerId, 'left')\n",
    "    .withColumn('WaitingTimeDays', (F.unix_timestamp(F.col('AnswerCreationDate')) - F.unix_timestamp(F.col('QuestionCreationDate')))/60/60/24)\n",
    "    .select(F.mean(F.col('WaitingTimeDays')).alias('WaitingTimeDays_avg'))\n",
    ")\n",
    "\n",
    "df.show()"
   ]
  }
 ],
 "metadata": {
  "kernelspec": {
   "display_name": "PySpark",
   "language": "python",
   "name": "pysparkkernel"
  },
  "language_info": {
   "codemirror_mode": {
    "name": "python",
    "version": 3
   },
   "file_extension": ".py",
   "mimetype": "text/x-python",
   "name": "pyspark",
   "pygments_lexer": "python3"
  }
 },
 "nbformat": 4,
 "nbformat_minor": 5
}
