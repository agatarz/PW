{
 "cells": [
  {
   "cell_type": "markdown",
   "id": "f9eb34e0",
   "metadata": {},
   "source": [
    "# 1. Notebook configuration"
   ]
  },
  {
   "cell_type": "code",
   "execution_count": 1,
   "id": "40d40c1d",
   "metadata": {
    "collapsed": true
   },
   "outputs": [
    {
     "data": {
      "text/html": [
       "Current session configs: <tt>{'conf': {'spark.jars.packages': 'com.databricks:spark-xml_2.12:0.16.0', 'spark.pyspark.python': 'python3', 'spark.pyspark.virtualenv.enabled': 'true', 'spark.pyspark.virtualenv.type': 'native', 'spark.pyspark.virtualenv.bin.path': '/usr/bin/virtualenv'}, 'proxyUser': 'assumed-role_voclabs_user2281931_Agata_Rzepiela', 'kind': 'pyspark'}</tt><br>"
      ],
      "text/plain": [
       "<IPython.core.display.HTML object>"
      ]
     },
     "metadata": {},
     "output_type": "display_data"
    },
    {
     "data": {
      "text/html": [
       "No active sessions."
      ],
      "text/plain": [
       "<IPython.core.display.HTML object>"
      ]
     },
     "metadata": {},
     "output_type": "display_data"
    }
   ],
   "source": [
    "%%configure\n",
    "{\"conf\": {\n",
    "    \"spark.jars.packages\":\"com.databricks:spark-xml_2.12:0.16.0\",\n",
    "    \"spark.pyspark.python\":  \"python3\",\n",
    "    \"spark.pyspark.virtualenv.enabled\": \"true\",\n",
    "    \"spark.pyspark.virtualenv.type\":\"native\",\n",
    "    \"spark.pyspark.virtualenv.bin.path\":\"/usr/bin/virtualenv\"\n",
    "    }\n",
    "}"
   ]
  },
  {
   "cell_type": "code",
   "execution_count": 2,
   "id": "b3d0a8d2",
   "metadata": {
    "collapsed": true
   },
   "outputs": [
    {
     "name": "stdout",
     "output_type": "stream",
     "text": [
      "Defaulting to user installation because normal site-packages is not writeable\n",
      "Requirement already satisfied: boto3 in /home/emr-notebook/.local/lib/python3.7/site-packages (1.26.144)\n",
      "Requirement already satisfied: s3transfer<0.7.0,>=0.6.0 in /mnt/notebook-env/lib/python3.7/site-packages (from boto3) (0.6.0)\n",
      "Requirement already satisfied: jmespath<2.0.0,>=0.7.1 in /mnt/notebook-env/lib/python3.7/site-packages (from boto3) (1.0.1)\n",
      "Requirement already satisfied: botocore<1.30.0,>=1.29.144 in /home/emr-notebook/.local/lib/python3.7/site-packages (from boto3) (1.29.144)\n",
      "Requirement already satisfied: urllib3<1.27,>=1.25.4 in /mnt/notebook-env/lib/python3.7/site-packages (from botocore<1.30.0,>=1.29.144->boto3) (1.26.11)\n",
      "Requirement already satisfied: python-dateutil<3.0.0,>=2.1 in /mnt/notebook-env/lib/python3.7/site-packages (from botocore<1.30.0,>=1.29.144->boto3) (2.8.2)\n",
      "Requirement already satisfied: six>=1.5 in /mnt/notebook-env/lib/python3.7/site-packages (from python-dateutil<3.0.0,>=2.1->botocore<1.30.0,>=1.29.144->boto3) (1.16.0)\n",
      "Note: you may need to restart the kernel to use updated packages.\n",
      "Defaulting to user installation because normal site-packages is not writeable\n",
      "Requirement already satisfied: botocore in /home/emr-notebook/.local/lib/python3.7/site-packages (1.29.144)\n",
      "Requirement already satisfied: jmespath<2.0.0,>=0.7.1 in /mnt/notebook-env/lib/python3.7/site-packages (from botocore) (1.0.1)\n",
      "Requirement already satisfied: urllib3<1.27,>=1.25.4 in /mnt/notebook-env/lib/python3.7/site-packages (from botocore) (1.26.11)\n",
      "Requirement already satisfied: python-dateutil<3.0.0,>=2.1 in /mnt/notebook-env/lib/python3.7/site-packages (from botocore) (2.8.2)\n",
      "Requirement already satisfied: six>=1.5 in /mnt/notebook-env/lib/python3.7/site-packages (from python-dateutil<3.0.0,>=2.1->botocore) (1.16.0)\n",
      "Note: you may need to restart the kernel to use updated packages.\n",
      "Defaulting to user installation because normal site-packages is not writeable\n",
      "Requirement already satisfied: emr-notebooks-magics in /home/emr-notebook/.local/lib/python3.7/site-packages (0.2.3)\n",
      "Requirement already satisfied: boto3 in /home/emr-notebook/.local/lib/python3.7/site-packages (from emr-notebooks-magics) (1.26.144)\n",
      "Requirement already satisfied: botocore<1.30.0,>=1.29.144 in /home/emr-notebook/.local/lib/python3.7/site-packages (from boto3->emr-notebooks-magics) (1.29.144)\n",
      "Requirement already satisfied: jmespath<2.0.0,>=0.7.1 in /mnt/notebook-env/lib/python3.7/site-packages (from boto3->emr-notebooks-magics) (1.0.1)\n",
      "Requirement already satisfied: s3transfer<0.7.0,>=0.6.0 in /mnt/notebook-env/lib/python3.7/site-packages (from boto3->emr-notebooks-magics) (0.6.0)\n",
      "Requirement already satisfied: python-dateutil<3.0.0,>=2.1 in /mnt/notebook-env/lib/python3.7/site-packages (from botocore<1.30.0,>=1.29.144->boto3->emr-notebooks-magics) (2.8.2)\n",
      "Requirement already satisfied: urllib3<1.27,>=1.25.4 in /mnt/notebook-env/lib/python3.7/site-packages (from botocore<1.30.0,>=1.29.144->boto3->emr-notebooks-magics) (1.26.11)\n",
      "Requirement already satisfied: six>=1.5 in /mnt/notebook-env/lib/python3.7/site-packages (from python-dateutil<3.0.0,>=2.1->botocore<1.30.0,>=1.29.144->boto3->emr-notebooks-magics) (1.16.0)\n",
      "Note: you may need to restart the kernel to use updated packages.\n"
     ]
    }
   ],
   "source": [
    "%pip install boto3 --upgrade\n",
    "%pip install botocore --upgrade\n",
    "%pip install emr-notebooks-magics --upgrade"
   ]
  },
  {
   "cell_type": "markdown",
   "id": "33e697c7",
   "metadata": {},
   "source": [
    "# 2. Packages and modules"
   ]
  },
  {
   "cell_type": "code",
   "execution_count": 3,
   "id": "99be60b9",
   "metadata": {},
   "outputs": [
    {
     "data": {
      "application/vnd.jupyter.widget-view+json": {
       "model_id": "8e9c17600a064d9196061a135d794f55",
       "version_major": 2,
       "version_minor": 0
      },
      "text/plain": [
       "VBox()"
      ]
     },
     "metadata": {},
     "output_type": "display_data"
    },
    {
     "name": "stdout",
     "output_type": "stream",
     "text": [
      "Starting Spark application\n"
     ]
    },
    {
     "data": {
      "text/html": [
       "<table>\n",
       "<tr><th>ID</th><th>YARN Application ID</th><th>Kind</th><th>State</th><th>Spark UI</th><th>Driver log</th><th>User</th><th>Current session?</th></tr><tr><td>5</td><td>application_1685638037390_0006</td><td>pyspark</td><td>idle</td><td><a target=\"_blank\" href=\"http://ip-172-31-74-250.ec2.internal:20888/proxy/application_1685638037390_0006/\" class=\"emr-proxy-link\" emr-resource=\"j-30NS53C4S5EG1\n",
       "\" application-id=\"application_1685638037390_0006\">Link</a></td><td><a target=\"_blank\" href=\"http://ip-172-31-71-43.ec2.internal:8042/node/containerlogs/container_1685638037390_0006_01_000001/livy\" >Link</a></td><td>None</td><td>✔</td></tr></table>"
      ],
      "text/plain": [
       "<IPython.core.display.HTML object>"
      ]
     },
     "metadata": {},
     "output_type": "display_data"
    },
    {
     "data": {
      "application/vnd.jupyter.widget-view+json": {
       "model_id": "",
       "version_major": 2,
       "version_minor": 0
      },
      "text/plain": [
       "FloatProgress(value=0.0, bar_style='info', description='Progress:', layout=Layout(height='25px', width='50%'),…"
      ]
     },
     "metadata": {},
     "output_type": "display_data"
    },
    {
     "name": "stdout",
     "output_type": "stream",
     "text": [
      "SparkSession available as 'spark'.\n"
     ]
    },
    {
     "data": {
      "application/vnd.jupyter.widget-view+json": {
       "model_id": "",
       "version_major": 2,
       "version_minor": 0
      },
      "text/plain": [
       "FloatProgress(value=0.0, bar_style='info', description='Progress:', layout=Layout(height='25px', width='50%'),…"
      ]
     },
     "metadata": {},
     "output_type": "display_data"
    }
   ],
   "source": [
    "import pyspark.sql.functions as F\n",
    "from pyspark.sql.types import *\n",
    "from pyspark.ml.feature import RegexTokenizer\n",
    "from pyspark.ml.feature import StopWordsRemover\n",
    "import re"
   ]
  },
  {
   "cell_type": "code",
   "execution_count": 4,
   "id": "8160b939",
   "metadata": {},
   "outputs": [
    {
     "data": {
      "application/vnd.jupyter.widget-view+json": {
       "model_id": "c160c7b0241a4389aed14971de55ce78",
       "version_major": 2,
       "version_minor": 0
      },
      "text/plain": [
       "VBox()"
      ]
     },
     "metadata": {},
     "output_type": "display_data"
    },
    {
     "data": {
      "application/vnd.jupyter.widget-view+json": {
       "model_id": "",
       "version_major": 2,
       "version_minor": 0
      },
      "text/plain": [
       "FloatProgress(value=0.0, bar_style='info', description='Progress:', layout=Layout(height='25px', width='50%'),…"
      ]
     },
     "metadata": {},
     "output_type": "display_data"
    }
   ],
   "source": [
    "def text_preprocessing(df, col_name):\n",
    "    \"\"\"Function for text cleaning. \"\"\"\n",
    "    \n",
    "    df = df.na.fill('', subset=col_name)\n",
    "    \n",
    "    patterns = [\n",
    "        \"<.*?>\", #clean everything inside <>\n",
    "        \"<.*?>|&([a-z0-9]+|#[0-9]{1,6}|#x[0-9a-f]{1,6});\", #remove other html entities\n",
    "        \"(\\s)?@\\w+\", #remove usernames @sth\n",
    "        \"\\'\\w+\", #remove english s\n",
    "        \"-|/+\", #remove '-' or '/'\n",
    "        \"\\W+\", #all characters which not build the words\n",
    "        \"\\S*\\d+\\S*\", #words with digits\n",
    "    ]\n",
    "\n",
    "    for pattern in patterns:\n",
    "        df = df.withColumn(col_name, F.regexp_replace(col_name, pattern, \" \"))\n",
    "\n",
    "    tokenizer = RegexTokenizer(toLowercase=True, inputCol=col_name, outputCol='words').setMinTokenLength(2)\n",
    "    df = tokenizer.transform(df)\n",
    "\n",
    "    stop_words = [re.sub(\"\\'\\w+\",'', word) for word in StopWordsRemover().getStopWords()]\n",
    "    sw_remover = StopWordsRemover(inputCol='words', outputCol='words_cleaned', stopWords=stop_words)\n",
    "    df = sw_remover.transform(df)\n",
    "    \n",
    "    new_col_name = col_name\n",
    "    df = df.drop(col_name, 'words').withColumnRenamed('words_cleaned', col_name)\n",
    "\n",
    "    return df"
   ]
  },
  {
   "cell_type": "code",
   "execution_count": 5,
   "id": "85e85d7f",
   "metadata": {},
   "outputs": [
    {
     "data": {
      "application/vnd.jupyter.widget-view+json": {
       "model_id": "2d302d46a9804735adbcfb1f0ae5133b",
       "version_major": 2,
       "version_minor": 0
      },
      "text/plain": [
       "VBox()"
      ]
     },
     "metadata": {},
     "output_type": "display_data"
    },
    {
     "data": {
      "application/vnd.jupyter.widget-view+json": {
       "model_id": "",
       "version_major": 2,
       "version_minor": 0
      },
      "text/plain": [
       "FloatProgress(value=0.0, bar_style='info', description='Progress:', layout=Layout(height='25px', width='50%'),…"
      ]
     },
     "metadata": {},
     "output_type": "display_data"
    }
   ],
   "source": [
    "def tags_cleaner(df, col_name):\n",
    "    \"\"\" Function which cleans tags data. \"\"\"\n",
    "    \n",
    "    df = df\\\n",
    "        .na.fill('', subset=col_name)\\\n",
    "        .withColumn(col_name, F.expr(f\"substring({col_name}, 2, length({col_name})-2)\"))\\\n",
    "        .withColumn(col_name, F.split(F.col(col_name), '><'))\n",
    "    \n",
    "    return df"
   ]
  },
  {
   "cell_type": "markdown",
   "id": "32053c36",
   "metadata": {},
   "source": [
    "# 3. Data cleaning"
   ]
  },
  {
   "cell_type": "markdown",
   "id": "c66fbbe8",
   "metadata": {},
   "source": [
    "## 3.1. Posts"
   ]
  },
  {
   "cell_type": "markdown",
   "id": "72644cee",
   "metadata": {},
   "source": [
    "### Load the data"
   ]
  },
  {
   "cell_type": "code",
   "execution_count": 6,
   "id": "94ce3f78",
   "metadata": {},
   "outputs": [
    {
     "data": {
      "application/vnd.jupyter.widget-view+json": {
       "model_id": "c0e724475a004de198309d632a17bdff",
       "version_major": 2,
       "version_minor": 0
      },
      "text/plain": [
       "VBox()"
      ]
     },
     "metadata": {},
     "output_type": "display_data"
    },
    {
     "data": {
      "application/vnd.jupyter.widget-view+json": {
       "model_id": "",
       "version_major": 2,
       "version_minor": 0
      },
      "text/plain": [
       "FloatProgress(value=0.0, bar_style='info', description='Progress:', layout=Layout(height='25px', width='50%'),…"
      ]
     },
     "metadata": {},
     "output_type": "display_data"
    }
   ],
   "source": [
    "source_path = \"s3://my-project-213242/drop/Posts.xml\""
   ]
  },
  {
   "cell_type": "code",
   "execution_count": 7,
   "id": "fd8361a2",
   "metadata": {},
   "outputs": [
    {
     "data": {
      "application/vnd.jupyter.widget-view+json": {
       "model_id": "afde16330cdc4926977ef7905ef283dd",
       "version_major": 2,
       "version_minor": 0
      },
      "text/plain": [
       "VBox()"
      ]
     },
     "metadata": {},
     "output_type": "display_data"
    },
    {
     "data": {
      "application/vnd.jupyter.widget-view+json": {
       "model_id": "",
       "version_major": 2,
       "version_minor": 0
      },
      "text/plain": [
       "FloatProgress(value=0.0, bar_style='info', description='Progress:', layout=Layout(height='25px', width='50%'),…"
      ]
     },
     "metadata": {},
     "output_type": "display_data"
    }
   ],
   "source": [
    "schema_posts_df = StructType([\n",
    "                        StructField(\"_AcceptedAnswerId\",      IntegerType()), \n",
    "                        StructField(\"_AnswerCount\",           IntegerType()), \n",
    "                        StructField(\"_Body\",                  StringType()), \n",
    "                        StructField(\"_ClosedDate\",            TimestampType()), \n",
    "                        StructField(\"_CommentCount\",          IntegerType()), \n",
    "                        StructField(\"_CommunityOwnedDate\",    TimestampType()), \n",
    "                        StructField(\"_ContentLicense\",        StringType()), \n",
    "                        StructField(\"_CreationDate\",          TimestampType()), \n",
    "                        StructField(\"_FavoriteCount\",         IntegerType()), \n",
    "                        StructField(\"_Id\",                    IntegerType()), \n",
    "                        StructField(\"_LastActivityDate\",      TimestampType()), \n",
    "                        StructField(\"_LastEditDate\",          TimestampType()), \n",
    "                        StructField(\"_LastEditorDisplayName\", StringType()), \n",
    "                        StructField(\"_LastEditorUserId\",      IntegerType()), \n",
    "                        StructField(\"_OwnerDisplayName\",      StringType()), \n",
    "                        StructField(\"_OwnerUserId\",           IntegerType()), \n",
    "                        StructField(\"_ParentId\",              IntegerType()), \n",
    "                        StructField(\"_PostTypeId\",            IntegerType()), \n",
    "                        StructField(\"_Score\",                 IntegerType()), \n",
    "                        StructField(\"_Tags\",                  StringType()), \n",
    "                        StructField(\"_Title\",                 StringType()), \n",
    "                        StructField(\"_ViewCount\",             IntegerType())\n",
    "    ])"
   ]
  },
  {
   "cell_type": "code",
   "execution_count": 8,
   "id": "63efdd51",
   "metadata": {},
   "outputs": [
    {
     "data": {
      "application/vnd.jupyter.widget-view+json": {
       "model_id": "faff58e5a1d44082aec2205ff60f418b",
       "version_major": 2,
       "version_minor": 0
      },
      "text/plain": [
       "VBox()"
      ]
     },
     "metadata": {},
     "output_type": "display_data"
    },
    {
     "data": {
      "application/vnd.jupyter.widget-view+json": {
       "model_id": "",
       "version_major": 2,
       "version_minor": 0
      },
      "text/plain": [
       "FloatProgress(value=0.0, bar_style='info', description='Progress:', layout=Layout(height='25px', width='50%'),…"
      ]
     },
     "metadata": {},
     "output_type": "display_data"
    }
   ],
   "source": [
    "posts_df = (\n",
    "    spark.read.format(\"com.databricks.spark.xml\")\n",
    "    .option(\"rowTag\", \"row\")\n",
    "    .option(\"charset\", \"UTF8\")\n",
    "    .schema(schema_posts_df) \n",
    "    .option(\"treatEmptyValuesAsNulls\", \"true\")\n",
    "    .load(source_path)\n",
    "    .cache()\n",
    ")"
   ]
  },
  {
   "cell_type": "markdown",
   "id": "a83821f7",
   "metadata": {},
   "source": [
    "- Delete _ from column names"
   ]
  },
  {
   "cell_type": "code",
   "execution_count": 9,
   "id": "5a1d7a99",
   "metadata": {},
   "outputs": [
    {
     "data": {
      "application/vnd.jupyter.widget-view+json": {
       "model_id": "ec8a3f8afbfb4413ab9d0869d046810a",
       "version_major": 2,
       "version_minor": 0
      },
      "text/plain": [
       "VBox()"
      ]
     },
     "metadata": {},
     "output_type": "display_data"
    },
    {
     "data": {
      "application/vnd.jupyter.widget-view+json": {
       "model_id": "",
       "version_major": 2,
       "version_minor": 0
      },
      "text/plain": [
       "FloatProgress(value=0.0, bar_style='info', description='Progress:', layout=Layout(height='25px', width='50%'),…"
      ]
     },
     "metadata": {},
     "output_type": "display_data"
    }
   ],
   "source": [
    "posts_df = posts_df.select([F.col(col_name).alias(col_name.replace('_', '')) for col_name in posts_df.columns])"
   ]
  },
  {
   "cell_type": "markdown",
   "id": "1a9feee4",
   "metadata": {},
   "source": [
    "### Data exploration"
   ]
  },
  {
   "cell_type": "markdown",
   "id": "a82f2d81",
   "metadata": {},
   "source": [
    "- Number of rows"
   ]
  },
  {
   "cell_type": "code",
   "execution_count": 10,
   "id": "87828bcf",
   "metadata": {},
   "outputs": [
    {
     "data": {
      "application/vnd.jupyter.widget-view+json": {
       "model_id": "838da17b7ff742418b8d634ab2acfb69",
       "version_major": 2,
       "version_minor": 0
      },
      "text/plain": [
       "VBox()"
      ]
     },
     "metadata": {},
     "output_type": "display_data"
    },
    {
     "data": {
      "application/vnd.jupyter.widget-view+json": {
       "model_id": "",
       "version_major": 2,
       "version_minor": 0
      },
      "text/plain": [
       "FloatProgress(value=0.0, bar_style='info', description='Progress:', layout=Layout(height='25px', width='50%'),…"
      ]
     },
     "metadata": {},
     "output_type": "display_data"
    },
    {
     "name": "stdout",
     "output_type": "stream",
     "text": [
      "63074"
     ]
    }
   ],
   "source": [
    "posts_df.count()"
   ]
  },
  {
   "cell_type": "markdown",
   "id": "acf72881",
   "metadata": {},
   "source": [
    "GroupBy and count `PostTypeId`:\n",
    "- 1 = Question\n",
    "- 2 = Answer\n",
    "- 3 = Orphaned tag wiki\n",
    "- 4 = Tag wiki excerpt\n",
    "- 5 = Tag wiki\n",
    "- 6 = Moderator nomination\n",
    "- 7 = \"Wiki placeholder\" (seems to only be the election description)\n",
    "- 8 = Privilege wiki"
   ]
  },
  {
   "cell_type": "code",
   "execution_count": 11,
   "id": "0e072d14",
   "metadata": {},
   "outputs": [
    {
     "data": {
      "application/vnd.jupyter.widget-view+json": {
       "model_id": "bf2e78eb5edf4d0aaf2e9a0337176cfc",
       "version_major": 2,
       "version_minor": 0
      },
      "text/plain": [
       "VBox()"
      ]
     },
     "metadata": {},
     "output_type": "display_data"
    },
    {
     "data": {
      "application/vnd.jupyter.widget-view+json": {
       "model_id": "",
       "version_major": 2,
       "version_minor": 0
      },
      "text/plain": [
       "FloatProgress(value=0.0, bar_style='info', description='Progress:', layout=Layout(height='25px', width='50%'),…"
      ]
     },
     "metadata": {},
     "output_type": "display_data"
    },
    {
     "name": "stdout",
     "output_type": "stream",
     "text": [
      "+----------+-----+\n",
      "|PostTypeId|count|\n",
      "+----------+-----+\n",
      "|         1|22215|\n",
      "|         2|36479|\n",
      "|         4| 2177|\n",
      "|         5| 2177|\n",
      "|         6|   21|\n",
      "|         7|    5|\n",
      "+----------+-----+"
     ]
    }
   ],
   "source": [
    "posts_df.groupBy('PostTypeId').count().orderBy('PostTypeId').show()"
   ]
  },
  {
   "cell_type": "markdown",
   "id": "5a1d7744",
   "metadata": {},
   "source": [
    "- Display"
   ]
  },
  {
   "cell_type": "code",
   "execution_count": 12,
   "id": "2e59e0f0",
   "metadata": {},
   "outputs": [
    {
     "data": {
      "application/vnd.jupyter.widget-view+json": {
       "model_id": "",
       "version_major": 2,
       "version_minor": 0
      },
      "text/plain": [
       "FloatProgress(value=0.0, bar_style='info', description='Progress:', layout=Layout(height='25px', width='50%'),…"
      ]
     },
     "metadata": {},
     "output_type": "display_data"
    },
    {
     "data": {
      "text/html": [
       "<style>.jp-OutputArea-child .jupyter-widgets.jp-OutputArea-output { overflow: auto; }</style>"
      ],
      "text/plain": [
       "<IPython.core.display.HTML object>"
      ]
     },
     "metadata": {},
     "output_type": "display_data"
    },
    {
     "data": {
      "application/vnd.jupyter.widget-view+json": {
       "model_id": "a3056ce096364aa9904f846a9b9b706f",
       "version_major": 2,
       "version_minor": 0
      },
      "text/plain": [
       "VBox(children=(HBox(children=(HTML(value='Type:'), Button(description='Table', layout=Layout(width='70px'), st…"
      ]
     },
     "metadata": {},
     "output_type": "display_data"
    },
    {
     "data": {
      "application/vnd.jupyter.widget-view+json": {
       "model_id": "57b7e96aaa4e43d48276fe86635ae95c",
       "version_major": 2,
       "version_minor": 0
      },
      "text/plain": [
       "Output()"
      ]
     },
     "metadata": {},
     "output_type": "display_data"
    }
   ],
   "source": [
    "%%display\n",
    "posts_df.limit(20)"
   ]
  },
  {
   "cell_type": "code",
   "execution_count": 13,
   "id": "40d2a754",
   "metadata": {},
   "outputs": [
    {
     "data": {
      "application/vnd.jupyter.widget-view+json": {
       "model_id": "90def7ceadcb4741bf32cfd4c23c28f0",
       "version_major": 2,
       "version_minor": 0
      },
      "text/plain": [
       "VBox()"
      ]
     },
     "metadata": {},
     "output_type": "display_data"
    },
    {
     "data": {
      "application/vnd.jupyter.widget-view+json": {
       "model_id": "",
       "version_major": 2,
       "version_minor": 0
      },
      "text/plain": [
       "FloatProgress(value=0.0, bar_style='info', description='Progress:', layout=Layout(height='25px', width='50%'),…"
      ]
     },
     "metadata": {},
     "output_type": "display_data"
    },
    {
     "name": "stdout",
     "output_type": "stream",
     "text": [
      "root\n",
      " |-- AcceptedAnswerId: integer (nullable = true)\n",
      " |-- AnswerCount: integer (nullable = true)\n",
      " |-- Body: string (nullable = true)\n",
      " |-- ClosedDate: timestamp (nullable = true)\n",
      " |-- CommentCount: integer (nullable = true)\n",
      " |-- CommunityOwnedDate: timestamp (nullable = true)\n",
      " |-- ContentLicense: string (nullable = true)\n",
      " |-- CreationDate: timestamp (nullable = true)\n",
      " |-- FavoriteCount: integer (nullable = true)\n",
      " |-- Id: integer (nullable = true)\n",
      " |-- LastActivityDate: timestamp (nullable = true)\n",
      " |-- LastEditDate: timestamp (nullable = true)\n",
      " |-- LastEditorDisplayName: string (nullable = true)\n",
      " |-- LastEditorUserId: integer (nullable = true)\n",
      " |-- OwnerDisplayName: string (nullable = true)\n",
      " |-- OwnerUserId: integer (nullable = true)\n",
      " |-- ParentId: integer (nullable = true)\n",
      " |-- PostTypeId: integer (nullable = true)\n",
      " |-- Score: integer (nullable = true)\n",
      " |-- Tags: string (nullable = true)\n",
      " |-- Title: string (nullable = true)\n",
      " |-- ViewCount: integer (nullable = true)"
     ]
    }
   ],
   "source": [
    "posts_df.printSchema()"
   ]
  },
  {
   "cell_type": "markdown",
   "id": "5aadfc2c",
   "metadata": {},
   "source": [
    "### Data cleaning"
   ]
  },
  {
   "cell_type": "markdown",
   "id": "ca28feb4",
   "metadata": {},
   "source": [
    "- Cleaning `Body` - text preprocessing"
   ]
  },
  {
   "cell_type": "code",
   "execution_count": 14,
   "id": "8d870113",
   "metadata": {},
   "outputs": [
    {
     "data": {
      "application/vnd.jupyter.widget-view+json": {
       "model_id": "3dbdca9a744c4f1ca3f20ef04e83cbda",
       "version_major": 2,
       "version_minor": 0
      },
      "text/plain": [
       "VBox()"
      ]
     },
     "metadata": {},
     "output_type": "display_data"
    },
    {
     "data": {
      "application/vnd.jupyter.widget-view+json": {
       "model_id": "",
       "version_major": 2,
       "version_minor": 0
      },
      "text/plain": [
       "FloatProgress(value=0.0, bar_style='info', description='Progress:', layout=Layout(height='25px', width='50%'),…"
      ]
     },
     "metadata": {},
     "output_type": "display_data"
    }
   ],
   "source": [
    "posts_df = text_preprocessing(posts_df, 'Body')"
   ]
  },
  {
   "cell_type": "markdown",
   "id": "abe206a8",
   "metadata": {},
   "source": [
    "- Cleaning `Title` - text preprocessing"
   ]
  },
  {
   "cell_type": "code",
   "execution_count": 15,
   "id": "9d05d0d2",
   "metadata": {},
   "outputs": [
    {
     "data": {
      "application/vnd.jupyter.widget-view+json": {
       "model_id": "e46f52dcfdb44e6cab5acf0cadab92fb",
       "version_major": 2,
       "version_minor": 0
      },
      "text/plain": [
       "VBox()"
      ]
     },
     "metadata": {},
     "output_type": "display_data"
    },
    {
     "data": {
      "application/vnd.jupyter.widget-view+json": {
       "model_id": "",
       "version_major": 2,
       "version_minor": 0
      },
      "text/plain": [
       "FloatProgress(value=0.0, bar_style='info', description='Progress:', layout=Layout(height='25px', width='50%'),…"
      ]
     },
     "metadata": {},
     "output_type": "display_data"
    }
   ],
   "source": [
    "posts_df = text_preprocessing(posts_df, 'Title')"
   ]
  },
  {
   "cell_type": "markdown",
   "id": "2b3e8667",
   "metadata": {},
   "source": [
    "- Fill missing ID values (`AcceptedAnswerId`, `ParentId`, `LastEditorUserId`) with -1"
   ]
  },
  {
   "cell_type": "code",
   "execution_count": 16,
   "id": "9d92bc11",
   "metadata": {
    "scrolled": true
   },
   "outputs": [
    {
     "data": {
      "application/vnd.jupyter.widget-view+json": {
       "model_id": "3598539d25334d0bbfe19eb7df59d11c",
       "version_major": 2,
       "version_minor": 0
      },
      "text/plain": [
       "VBox()"
      ]
     },
     "metadata": {},
     "output_type": "display_data"
    },
    {
     "data": {
      "application/vnd.jupyter.widget-view+json": {
       "model_id": "",
       "version_major": 2,
       "version_minor": 0
      },
      "text/plain": [
       "FloatProgress(value=0.0, bar_style='info', description='Progress:', layout=Layout(height='25px', width='50%'),…"
      ]
     },
     "metadata": {},
     "output_type": "display_data"
    }
   ],
   "source": [
    "posts_df = posts_df.na.fill(-1, subset=['AcceptedAnswerId', 'ParentId'])"
   ]
  },
  {
   "cell_type": "markdown",
   "id": "e31cf05e",
   "metadata": {},
   "source": [
    "- Clean `Tags`"
   ]
  },
  {
   "cell_type": "code",
   "execution_count": 17,
   "id": "2e3598e4",
   "metadata": {
    "scrolled": true
   },
   "outputs": [
    {
     "data": {
      "application/vnd.jupyter.widget-view+json": {
       "model_id": "c2921ddbeade42e99c77fe359d5afbd2",
       "version_major": 2,
       "version_minor": 0
      },
      "text/plain": [
       "VBox()"
      ]
     },
     "metadata": {},
     "output_type": "display_data"
    },
    {
     "data": {
      "application/vnd.jupyter.widget-view+json": {
       "model_id": "",
       "version_major": 2,
       "version_minor": 0
      },
      "text/plain": [
       "FloatProgress(value=0.0, bar_style='info', description='Progress:', layout=Layout(height='25px', width='50%'),…"
      ]
     },
     "metadata": {},
     "output_type": "display_data"
    }
   ],
   "source": [
    "posts_df = tags_cleaner(posts_df, 'Tags')"
   ]
  },
  {
   "cell_type": "markdown",
   "id": "313380fd",
   "metadata": {},
   "source": [
    "- Clean `OwnerUserId` - put -99 instead of `NaN` if user is deleted"
   ]
  },
  {
   "cell_type": "code",
   "execution_count": 18,
   "id": "56be5c04",
   "metadata": {},
   "outputs": [
    {
     "data": {
      "application/vnd.jupyter.widget-view+json": {
       "model_id": "dbc76b931abf467da7e8456405d2ade5",
       "version_major": 2,
       "version_minor": 0
      },
      "text/plain": [
       "VBox()"
      ]
     },
     "metadata": {},
     "output_type": "display_data"
    },
    {
     "data": {
      "application/vnd.jupyter.widget-view+json": {
       "model_id": "",
       "version_major": 2,
       "version_minor": 0
      },
      "text/plain": [
       "FloatProgress(value=0.0, bar_style='info', description='Progress:', layout=Layout(height='25px', width='50%'),…"
      ]
     },
     "metadata": {},
     "output_type": "display_data"
    }
   ],
   "source": [
    "posts_df = posts_df.na.fill(-99, subset=['OwnerUserId', 'LastEditorUserId'])"
   ]
  },
  {
   "cell_type": "markdown",
   "id": "4706c20e",
   "metadata": {},
   "source": [
    "- Drop `LastEditorDisplayName` - too little data"
   ]
  },
  {
   "cell_type": "code",
   "execution_count": 19,
   "id": "858e96fe",
   "metadata": {},
   "outputs": [
    {
     "data": {
      "application/vnd.jupyter.widget-view+json": {
       "model_id": "7ac0ba12cb1f4985aed3d5cfa15c2813",
       "version_major": 2,
       "version_minor": 0
      },
      "text/plain": [
       "VBox()"
      ]
     },
     "metadata": {},
     "output_type": "display_data"
    },
    {
     "data": {
      "application/vnd.jupyter.widget-view+json": {
       "model_id": "",
       "version_major": 2,
       "version_minor": 0
      },
      "text/plain": [
       "FloatProgress(value=0.0, bar_style='info', description='Progress:', layout=Layout(height='25px', width='50%'),…"
      ]
     },
     "metadata": {},
     "output_type": "display_data"
    },
    {
     "name": "stdout",
     "output_type": "stream",
     "text": [
      "+----------+------+-----+\n",
      "|PostTypeId|isnull|count|\n",
      "+----------+------+-----+\n",
      "|         1|     0|  370|\n",
      "|         1|     1|21845|\n",
      "|         2|     0|  487|\n",
      "|         2|     1|35992|\n",
      "|         4|     0|   38|\n",
      "|         4|     1| 2139|\n",
      "|         5|     0|   25|\n",
      "|         5|     1| 2152|\n",
      "|         6|     1|   21|\n",
      "|         7|     1|    5|\n",
      "+----------+------+-----+"
     ]
    }
   ],
   "source": [
    "posts_df\\\n",
    "    .withColumn(\"isnull\", F.when(F.col('LastEditorDisplayName').isNull(), 1).otherwise(0))\\\n",
    "    .groupBy('PostTypeId', 'isnull').count().orderBy('PostTypeId', 'isnull')\\\n",
    "    .show()"
   ]
  },
  {
   "cell_type": "code",
   "execution_count": 20,
   "id": "8153a117",
   "metadata": {},
   "outputs": [
    {
     "data": {
      "application/vnd.jupyter.widget-view+json": {
       "model_id": "59a48fd31c7c481d9b850e9d7de06744",
       "version_major": 2,
       "version_minor": 0
      },
      "text/plain": [
       "VBox()"
      ]
     },
     "metadata": {},
     "output_type": "display_data"
    },
    {
     "data": {
      "application/vnd.jupyter.widget-view+json": {
       "model_id": "",
       "version_major": 2,
       "version_minor": 0
      },
      "text/plain": [
       "FloatProgress(value=0.0, bar_style='info', description='Progress:', layout=Layout(height='25px', width='50%'),…"
      ]
     },
     "metadata": {},
     "output_type": "display_data"
    }
   ],
   "source": [
    "posts_df = posts_df.drop('LastEditorDisplayName')"
   ]
  },
  {
   "cell_type": "markdown",
   "id": "a0498671",
   "metadata": {},
   "source": [
    "- Drop `OwnerDisplayName` - too little data"
   ]
  },
  {
   "cell_type": "code",
   "execution_count": 21,
   "id": "5554419b",
   "metadata": {},
   "outputs": [
    {
     "data": {
      "application/vnd.jupyter.widget-view+json": {
       "model_id": "3ff8e3fd9bce48e699683ade55af9893",
       "version_major": 2,
       "version_minor": 0
      },
      "text/plain": [
       "VBox()"
      ]
     },
     "metadata": {},
     "output_type": "display_data"
    },
    {
     "data": {
      "application/vnd.jupyter.widget-view+json": {
       "model_id": "",
       "version_major": 2,
       "version_minor": 0
      },
      "text/plain": [
       "FloatProgress(value=0.0, bar_style='info', description='Progress:', layout=Layout(height='25px', width='50%'),…"
      ]
     },
     "metadata": {},
     "output_type": "display_data"
    },
    {
     "name": "stdout",
     "output_type": "stream",
     "text": [
      "+----------+------+-----+\n",
      "|PostTypeId|isnull|count|\n",
      "+----------+------+-----+\n",
      "|         1|     0|  894|\n",
      "|         1|     1|21321|\n",
      "|         2|     0| 1051|\n",
      "|         2|     1|35428|\n",
      "|         4|     0|   37|\n",
      "|         4|     1| 2140|\n",
      "|         5|     0|   25|\n",
      "|         5|     1| 2152|\n",
      "|         6|     1|   21|\n",
      "|         7|     1|    5|\n",
      "+----------+------+-----+"
     ]
    }
   ],
   "source": [
    "posts_df\\\n",
    "    .withColumn(\"isnull\", F.when(F.col('OwnerDisplayName').isNull(), 1).otherwise(0))\\\n",
    "    .groupBy('PostTypeId', 'isnull').count().orderBy('PostTypeId', 'isnull')\\\n",
    "    .show()"
   ]
  },
  {
   "cell_type": "code",
   "execution_count": 22,
   "id": "8cc73d46",
   "metadata": {},
   "outputs": [
    {
     "data": {
      "application/vnd.jupyter.widget-view+json": {
       "model_id": "c83f0f895e7e42baa8c6fc3249a403e1",
       "version_major": 2,
       "version_minor": 0
      },
      "text/plain": [
       "VBox()"
      ]
     },
     "metadata": {},
     "output_type": "display_data"
    },
    {
     "data": {
      "application/vnd.jupyter.widget-view+json": {
       "model_id": "",
       "version_major": 2,
       "version_minor": 0
      },
      "text/plain": [
       "FloatProgress(value=0.0, bar_style='info', description='Progress:', layout=Layout(height='25px', width='50%'),…"
      ]
     },
     "metadata": {},
     "output_type": "display_data"
    }
   ],
   "source": [
    "posts_df = posts_df.drop('OwnerDisplayName')"
   ]
  },
  {
   "cell_type": "markdown",
   "id": "b045172f",
   "metadata": {},
   "source": [
    "### Cleaning results"
   ]
  },
  {
   "cell_type": "code",
   "execution_count": 23,
   "id": "2dd49f93",
   "metadata": {},
   "outputs": [
    {
     "data": {
      "application/vnd.jupyter.widget-view+json": {
       "model_id": "fc574710a588453494fe709b3db37b62",
       "version_major": 2,
       "version_minor": 0
      },
      "text/plain": [
       "VBox()"
      ]
     },
     "metadata": {},
     "output_type": "display_data"
    },
    {
     "data": {
      "application/vnd.jupyter.widget-view+json": {
       "model_id": "",
       "version_major": 2,
       "version_minor": 0
      },
      "text/plain": [
       "FloatProgress(value=0.0, bar_style='info', description='Progress:', layout=Layout(height='25px', width='50%'),…"
      ]
     },
     "metadata": {},
     "output_type": "display_data"
    },
    {
     "name": "stdout",
     "output_type": "stream",
     "text": [
      "root\n",
      " |-- AcceptedAnswerId: integer (nullable = true)\n",
      " |-- AnswerCount: integer (nullable = true)\n",
      " |-- ClosedDate: timestamp (nullable = true)\n",
      " |-- CommentCount: integer (nullable = true)\n",
      " |-- CommunityOwnedDate: timestamp (nullable = true)\n",
      " |-- ContentLicense: string (nullable = true)\n",
      " |-- CreationDate: timestamp (nullable = true)\n",
      " |-- FavoriteCount: integer (nullable = true)\n",
      " |-- Id: integer (nullable = true)\n",
      " |-- LastActivityDate: timestamp (nullable = true)\n",
      " |-- LastEditDate: timestamp (nullable = true)\n",
      " |-- LastEditorUserId: integer (nullable = true)\n",
      " |-- OwnerUserId: integer (nullable = true)\n",
      " |-- ParentId: integer (nullable = true)\n",
      " |-- PostTypeId: integer (nullable = true)\n",
      " |-- Score: integer (nullable = true)\n",
      " |-- Tags: array (nullable = false)\n",
      " |    |-- element: string (containsNull = false)\n",
      " |-- ViewCount: integer (nullable = true)\n",
      " |-- Body: array (nullable = true)\n",
      " |    |-- element: string (containsNull = true)\n",
      " |-- Title: array (nullable = true)\n",
      " |    |-- element: string (containsNull = true)"
     ]
    }
   ],
   "source": [
    "posts_df.printSchema()"
   ]
  },
  {
   "cell_type": "markdown",
   "id": "2a17018d",
   "metadata": {},
   "source": [
    "- Show null values"
   ]
  },
  {
   "cell_type": "code",
   "execution_count": 24,
   "id": "4193b188",
   "metadata": {},
   "outputs": [
    {
     "data": {
      "application/vnd.jupyter.widget-view+json": {
       "model_id": "00d976d65b7a41e09c769a6a393a79ec",
       "version_major": 2,
       "version_minor": 0
      },
      "text/plain": [
       "VBox()"
      ]
     },
     "metadata": {},
     "output_type": "display_data"
    },
    {
     "data": {
      "application/vnd.jupyter.widget-view+json": {
       "model_id": "",
       "version_major": 2,
       "version_minor": 0
      },
      "text/plain": [
       "FloatProgress(value=0.0, bar_style='info', description='Progress:', layout=Layout(height='25px', width='50%'),…"
      ]
     },
     "metadata": {},
     "output_type": "display_data"
    },
    {
     "name": "stdout",
     "output_type": "stream",
     "text": [
      "-RECORD 0-----------------\n",
      " AcceptedAnswerId | 0     \n",
      " AnswerCount      | 40859 \n",
      " CommentCount     | 0     \n",
      " ContentLicense   | 0     \n",
      " FavoriteCount    | 58188 \n",
      " Id               | 0     \n",
      " LastEditorUserId | 0     \n",
      " OwnerUserId      | 0     \n",
      " ParentId         | 0     \n",
      " PostTypeId       | 0     \n",
      " Score            | 0     \n",
      " ViewCount        | 40859"
     ]
    }
   ],
   "source": [
    "df = posts_df\n",
    "cols_nums = [col[0] for col in df.dtypes if col[1] in ('bigint', 'int', 'string')]\n",
    "df = df.select([F.count(F.when(F.isnan(c) | F.col(c).isNull(), c)).alias(c) for c in cols_nums])\n",
    "df.show(vertical=True)"
   ]
  },
  {
   "cell_type": "code",
   "execution_count": 25,
   "id": "fa435194",
   "metadata": {},
   "outputs": [
    {
     "data": {
      "application/vnd.jupyter.widget-view+json": {
       "model_id": "",
       "version_major": 2,
       "version_minor": 0
      },
      "text/plain": [
       "FloatProgress(value=0.0, bar_style='info', description='Progress:', layout=Layout(height='25px', width='50%'),…"
      ]
     },
     "metadata": {},
     "output_type": "display_data"
    },
    {
     "data": {
      "text/html": [
       "<style>.jp-OutputArea-child .jupyter-widgets.jp-OutputArea-output { overflow: auto; }</style>"
      ],
      "text/plain": [
       "<IPython.core.display.HTML object>"
      ]
     },
     "metadata": {},
     "output_type": "display_data"
    },
    {
     "data": {
      "application/vnd.jupyter.widget-view+json": {
       "model_id": "8d6c4c45753d4e908a561bda764aa660",
       "version_major": 2,
       "version_minor": 0
      },
      "text/plain": [
       "VBox(children=(HBox(children=(HTML(value='Type:'), Button(description='Table', layout=Layout(width='70px'), st…"
      ]
     },
     "metadata": {},
     "output_type": "display_data"
    },
    {
     "data": {
      "application/vnd.jupyter.widget-view+json": {
       "model_id": "baa8d66f67fd401bb2a062700d95e499",
       "version_major": 2,
       "version_minor": 0
      },
      "text/plain": [
       "Output()"
      ]
     },
     "metadata": {},
     "output_type": "display_data"
    }
   ],
   "source": [
    "%%display\n",
    "posts_df.limit(20)"
   ]
  },
  {
   "cell_type": "markdown",
   "id": "d95bfe54",
   "metadata": {},
   "source": [
    "- Number of rows"
   ]
  },
  {
   "cell_type": "code",
   "execution_count": 26,
   "id": "85a99af2",
   "metadata": {},
   "outputs": [
    {
     "data": {
      "application/vnd.jupyter.widget-view+json": {
       "model_id": "a6ce915385e94d11b62c7ebf8584ef39",
       "version_major": 2,
       "version_minor": 0
      },
      "text/plain": [
       "VBox()"
      ]
     },
     "metadata": {},
     "output_type": "display_data"
    },
    {
     "data": {
      "application/vnd.jupyter.widget-view+json": {
       "model_id": "",
       "version_major": 2,
       "version_minor": 0
      },
      "text/plain": [
       "FloatProgress(value=0.0, bar_style='info', description='Progress:', layout=Layout(height='25px', width='50%'),…"
      ]
     },
     "metadata": {},
     "output_type": "display_data"
    },
    {
     "name": "stdout",
     "output_type": "stream",
     "text": [
      "63074"
     ]
    }
   ],
   "source": [
    "posts_df.count()"
   ]
  },
  {
   "cell_type": "markdown",
   "id": "2a660b8c",
   "metadata": {},
   "source": [
    "### Save the data"
   ]
  },
  {
   "cell_type": "code",
   "execution_count": 27,
   "id": "d58e865b",
   "metadata": {},
   "outputs": [
    {
     "data": {
      "application/vnd.jupyter.widget-view+json": {
       "model_id": "e0c3613082b446baacf8931c536cacc6",
       "version_major": 2,
       "version_minor": 0
      },
      "text/plain": [
       "VBox()"
      ]
     },
     "metadata": {},
     "output_type": "display_data"
    },
    {
     "data": {
      "application/vnd.jupyter.widget-view+json": {
       "model_id": "",
       "version_major": 2,
       "version_minor": 0
      },
      "text/plain": [
       "FloatProgress(value=0.0, bar_style='info', description='Progress:', layout=Layout(height='25px', width='50%'),…"
      ]
     },
     "metadata": {},
     "output_type": "display_data"
    }
   ],
   "source": [
    "sink_path = \"s3://my-project-213242/cleaned/Posts/\"\n",
    "posts_df.write.mode(\"overwrite\").parquet(sink_path)"
   ]
  },
  {
   "cell_type": "markdown",
   "id": "75599acd",
   "metadata": {},
   "source": [
    "## 3.2. Comments"
   ]
  },
  {
   "cell_type": "markdown",
   "id": "ea3bcade",
   "metadata": {},
   "source": [
    "### Load the data"
   ]
  },
  {
   "cell_type": "code",
   "execution_count": 28,
   "id": "f42e66b0",
   "metadata": {},
   "outputs": [
    {
     "data": {
      "application/vnd.jupyter.widget-view+json": {
       "model_id": "5ec0d842b26c4c2290774ac78394790e",
       "version_major": 2,
       "version_minor": 0
      },
      "text/plain": [
       "VBox()"
      ]
     },
     "metadata": {},
     "output_type": "display_data"
    },
    {
     "data": {
      "application/vnd.jupyter.widget-view+json": {
       "model_id": "",
       "version_major": 2,
       "version_minor": 0
      },
      "text/plain": [
       "FloatProgress(value=0.0, bar_style='info', description='Progress:', layout=Layout(height='25px', width='50%'),…"
      ]
     },
     "metadata": {},
     "output_type": "display_data"
    }
   ],
   "source": [
    "source_path = \"s3://my-project-213242/drop/Comments.xml\""
   ]
  },
  {
   "cell_type": "code",
   "execution_count": 29,
   "id": "a3602269",
   "metadata": {},
   "outputs": [
    {
     "data": {
      "application/vnd.jupyter.widget-view+json": {
       "model_id": "ebe4a43188fc4fa5a982e1f41f4a4ee4",
       "version_major": 2,
       "version_minor": 0
      },
      "text/plain": [
       "VBox()"
      ]
     },
     "metadata": {},
     "output_type": "display_data"
    },
    {
     "data": {
      "application/vnd.jupyter.widget-view+json": {
       "model_id": "",
       "version_major": 2,
       "version_minor": 0
      },
      "text/plain": [
       "FloatProgress(value=0.0, bar_style='info', description='Progress:', layout=Layout(height='25px', width='50%'),…"
      ]
     },
     "metadata": {},
     "output_type": "display_data"
    }
   ],
   "source": [
    "schema_comments_df = StructType([\n",
    "                        StructField(\"_ContentLicense\",        StringType()), \n",
    "                        StructField(\"_CreationDate\",          TimestampType()), \n",
    "                        StructField(\"_Id\",                    IntegerType()),\n",
    "                        StructField(\"_PostId\",                IntegerType()),\n",
    "                        StructField(\"_Score\",                 IntegerType()),\n",
    "                        StructField(\"_Text\",                  StringType()), \n",
    "                        StructField(\"_UserDisplayName\",       StringType()), \n",
    "                        StructField(\"_UserId\",                IntegerType()), \n",
    "    ])"
   ]
  },
  {
   "cell_type": "code",
   "execution_count": 30,
   "id": "0dce24e5",
   "metadata": {},
   "outputs": [
    {
     "data": {
      "application/vnd.jupyter.widget-view+json": {
       "model_id": "14c303909a1642b18c4028a9d3dc8a6f",
       "version_major": 2,
       "version_minor": 0
      },
      "text/plain": [
       "VBox()"
      ]
     },
     "metadata": {},
     "output_type": "display_data"
    },
    {
     "data": {
      "application/vnd.jupyter.widget-view+json": {
       "model_id": "",
       "version_major": 2,
       "version_minor": 0
      },
      "text/plain": [
       "FloatProgress(value=0.0, bar_style='info', description='Progress:', layout=Layout(height='25px', width='50%'),…"
      ]
     },
     "metadata": {},
     "output_type": "display_data"
    }
   ],
   "source": [
    "comments_df  = (\n",
    "    spark.read.format(\"com.databricks.spark.xml\")\n",
    "    .option(\"rowTag\", \"row\")\n",
    "    .option(\"charset\", \"UTF8\")\n",
    "    .schema(schema_comments_df) \n",
    "    .option(\"treatEmptyValuesAsNulls\", \"true\")\n",
    "    .load(source_path)\n",
    "    .cache()\n",
    ")"
   ]
  },
  {
   "cell_type": "markdown",
   "id": "88d943c6",
   "metadata": {},
   "source": [
    "- Delete _ from column names"
   ]
  },
  {
   "cell_type": "code",
   "execution_count": 31,
   "id": "d6c1f781",
   "metadata": {},
   "outputs": [
    {
     "data": {
      "application/vnd.jupyter.widget-view+json": {
       "model_id": "984ac2f782304ea3a6fd90d7d0a17f78",
       "version_major": 2,
       "version_minor": 0
      },
      "text/plain": [
       "VBox()"
      ]
     },
     "metadata": {},
     "output_type": "display_data"
    },
    {
     "data": {
      "application/vnd.jupyter.widget-view+json": {
       "model_id": "",
       "version_major": 2,
       "version_minor": 0
      },
      "text/plain": [
       "FloatProgress(value=0.0, bar_style='info', description='Progress:', layout=Layout(height='25px', width='50%'),…"
      ]
     },
     "metadata": {},
     "output_type": "display_data"
    }
   ],
   "source": [
    "comments_df = comments_df.select([F.col(col_name).alias(col_name.replace('_', '')) for col_name in comments_df.columns])"
   ]
  },
  {
   "cell_type": "markdown",
   "id": "2dfc9320",
   "metadata": {},
   "source": [
    "### Data exploration"
   ]
  },
  {
   "cell_type": "code",
   "execution_count": 32,
   "id": "9e4ad3c8",
   "metadata": {},
   "outputs": [
    {
     "data": {
      "application/vnd.jupyter.widget-view+json": {
       "model_id": "57647ec3a55d43ad832d55a4ac8eb982",
       "version_major": 2,
       "version_minor": 0
      },
      "text/plain": [
       "VBox()"
      ]
     },
     "metadata": {},
     "output_type": "display_data"
    },
    {
     "data": {
      "application/vnd.jupyter.widget-view+json": {
       "model_id": "",
       "version_major": 2,
       "version_minor": 0
      },
      "text/plain": [
       "FloatProgress(value=0.0, bar_style='info', description='Progress:', layout=Layout(height='25px', width='50%'),…"
      ]
     },
     "metadata": {},
     "output_type": "display_data"
    },
    {
     "name": "stdout",
     "output_type": "stream",
     "text": [
      "+--------------+--------------------+---+------+-----+--------------------+---------------+------+\n",
      "|ContentLicense|        CreationDate| Id|PostId|Score|                Text|UserDisplayName|UserId|\n",
      "+--------------+--------------------+---+------+-----+--------------------+---------------+------+\n",
      "|  CC BY-SA 3.0|2011-11-30 19:53:...|  7|     8|    2|Blake Edwards als...|           null|    22|\n",
      "|  CC BY-SA 3.0|2011-11-30 19:55:...| 10|     4|    2|Interesting. I've...|           null|    29|\n",
      "|  CC BY-SA 3.0|2011-11-30 20:10:...| 11|     3|    0|Is that the hour ...|           null|    10|\n",
      "|  CC BY-SA 3.0|2011-11-30 21:53:...| 19|    17|    0|I know that Lucas...|           null|    36|\n",
      "|  CC BY-SA 3.0|2011-11-30 22:00:...| 20|    17|    0|@bazmegakapa - fa...|           null|    40|\n",
      "|  CC BY-SA 3.0|2011-11-30 22:16:...| 21|    18|    5|Excellent questio...|           null|    66|\n",
      "|  CC BY-SA 3.0|2011-11-30 22:20:...| 22|    24|    1|Oh, we have the m...|           null|    66|\n",
      "|  CC BY-SA 3.0|2011-11-30 22:25:...| 23|    26|    2|To leave it open ...|           null|    22|\n",
      "|  CC BY-SA 3.0|2011-11-30 22:35:...| 26|    26|    1|@Flimzy interesti...|           null|    26|\n",
      "|  CC BY-SA 3.0|2011-11-30 22:37:...| 27|    26|    0|I'm quite sure th...|           null|    22|\n",
      "|  CC BY-SA 3.0|2011-11-30 22:57:...| 30|    24|    1|That does not exp...|           null|    47|\n",
      "|  CC BY-SA 3.0|2011-11-30 23:01:...| 31|    24|    1|I thought myself ...|           null|    66|\n",
      "|  CC BY-SA 3.0|2011-11-30 23:37:...| 36|    35|    3|Contradictions or...|           null|    66|\n",
      "|  CC BY-SA 3.0|2011-12-01 00:56:...| 40|    42|    0|Hmm I could see t...|           null|    68|\n",
      "|  CC BY-SA 3.0|2011-12-01 01:04:...| 41|    42|    0|@Alonzo: Wouldn't...|           null|    29|\n",
      "|  CC BY-SA 3.0|2011-12-01 02:55:...| 42|     3|    0|@Flimzy, look for...|           null|    41|\n",
      "|  CC BY-SA 3.0|2011-12-01 08:41:...| 56|     8|    1|Flimzy, Did you k...|           null|    43|\n",
      "|  CC BY-SA 3.0|2011-12-01 09:36:...| 57|    62|    1|I agree and even ...|           null|   108|\n",
      "|  CC BY-SA 3.0|2011-12-01 10:11:...| 58|    37|    0|I disagree about ...|           null|   106|\n",
      "|  CC BY-SA 3.0|2011-12-01 10:36:...| 59|    64|    5|So we can conclud...|           null|   111|\n",
      "+--------------+--------------------+---+------+-----+--------------------+---------------+------+"
     ]
    }
   ],
   "source": [
    "comments_df.limit(20).show()"
   ]
  },
  {
   "cell_type": "code",
   "execution_count": 33,
   "id": "10e6b2bc",
   "metadata": {},
   "outputs": [
    {
     "data": {
      "application/vnd.jupyter.widget-view+json": {
       "model_id": "1fa7c3ff87874fc6acb29e61aae57d48",
       "version_major": 2,
       "version_minor": 0
      },
      "text/plain": [
       "VBox()"
      ]
     },
     "metadata": {},
     "output_type": "display_data"
    },
    {
     "data": {
      "application/vnd.jupyter.widget-view+json": {
       "model_id": "",
       "version_major": 2,
       "version_minor": 0
      },
      "text/plain": [
       "FloatProgress(value=0.0, bar_style='info', description='Progress:', layout=Layout(height='25px', width='50%'),…"
      ]
     },
     "metadata": {},
     "output_type": "display_data"
    },
    {
     "name": "stdout",
     "output_type": "stream",
     "text": [
      "99059"
     ]
    }
   ],
   "source": [
    "comments_df.count()"
   ]
  },
  {
   "cell_type": "code",
   "execution_count": 34,
   "id": "cdbf8ac1",
   "metadata": {},
   "outputs": [
    {
     "data": {
      "application/vnd.jupyter.widget-view+json": {
       "model_id": "5754c1e694604f94882ce19c7172650c",
       "version_major": 2,
       "version_minor": 0
      },
      "text/plain": [
       "VBox()"
      ]
     },
     "metadata": {},
     "output_type": "display_data"
    },
    {
     "data": {
      "application/vnd.jupyter.widget-view+json": {
       "model_id": "",
       "version_major": 2,
       "version_minor": 0
      },
      "text/plain": [
       "FloatProgress(value=0.0, bar_style='info', description='Progress:', layout=Layout(height='25px', width='50%'),…"
      ]
     },
     "metadata": {},
     "output_type": "display_data"
    },
    {
     "name": "stdout",
     "output_type": "stream",
     "text": [
      "root\n",
      " |-- ContentLicense: string (nullable = true)\n",
      " |-- CreationDate: timestamp (nullable = true)\n",
      " |-- Id: integer (nullable = true)\n",
      " |-- PostId: integer (nullable = true)\n",
      " |-- Score: integer (nullable = true)\n",
      " |-- Text: string (nullable = true)\n",
      " |-- UserDisplayName: string (nullable = true)\n",
      " |-- UserId: integer (nullable = true)"
     ]
    }
   ],
   "source": [
    "comments_df.printSchema()"
   ]
  },
  {
   "cell_type": "markdown",
   "id": "6628615f",
   "metadata": {},
   "source": [
    "### Data cleaning"
   ]
  },
  {
   "cell_type": "markdown",
   "id": "2d5a5eea",
   "metadata": {},
   "source": [
    "- Cleaning `Text` - text preprocessing"
   ]
  },
  {
   "cell_type": "code",
   "execution_count": 35,
   "id": "a51da903",
   "metadata": {},
   "outputs": [
    {
     "data": {
      "application/vnd.jupyter.widget-view+json": {
       "model_id": "17b4d73b16364f708bad0b755d32b3a3",
       "version_major": 2,
       "version_minor": 0
      },
      "text/plain": [
       "VBox()"
      ]
     },
     "metadata": {},
     "output_type": "display_data"
    },
    {
     "data": {
      "application/vnd.jupyter.widget-view+json": {
       "model_id": "",
       "version_major": 2,
       "version_minor": 0
      },
      "text/plain": [
       "FloatProgress(value=0.0, bar_style='info', description='Progress:', layout=Layout(height='25px', width='50%'),…"
      ]
     },
     "metadata": {},
     "output_type": "display_data"
    }
   ],
   "source": [
    "comments_df = text_preprocessing(comments_df, 'Text')"
   ]
  },
  {
   "cell_type": "markdown",
   "id": "0928b82f",
   "metadata": {},
   "source": [
    "- Clean `UserId` - put -99 instead of `NaN` if user is deleted"
   ]
  },
  {
   "cell_type": "code",
   "execution_count": 36,
   "id": "ef92f9a1",
   "metadata": {},
   "outputs": [
    {
     "data": {
      "application/vnd.jupyter.widget-view+json": {
       "model_id": "538a921ffddd43b38c1da5630b401d1d",
       "version_major": 2,
       "version_minor": 0
      },
      "text/plain": [
       "VBox()"
      ]
     },
     "metadata": {},
     "output_type": "display_data"
    },
    {
     "data": {
      "application/vnd.jupyter.widget-view+json": {
       "model_id": "",
       "version_major": 2,
       "version_minor": 0
      },
      "text/plain": [
       "FloatProgress(value=0.0, bar_style='info', description='Progress:', layout=Layout(height='25px', width='50%'),…"
      ]
     },
     "metadata": {},
     "output_type": "display_data"
    }
   ],
   "source": [
    "comments_df = comments_df.na.fill(-99, subset=['UserId'])"
   ]
  },
  {
   "cell_type": "markdown",
   "id": "b300aacc",
   "metadata": {},
   "source": [
    "- Drop `UserDisplayName` - too little data"
   ]
  },
  {
   "cell_type": "code",
   "execution_count": 37,
   "id": "3eee4e52",
   "metadata": {},
   "outputs": [
    {
     "data": {
      "application/vnd.jupyter.widget-view+json": {
       "model_id": "ac4fd34b98114c969d81ae8606cd62a8",
       "version_major": 2,
       "version_minor": 0
      },
      "text/plain": [
       "VBox()"
      ]
     },
     "metadata": {},
     "output_type": "display_data"
    },
    {
     "data": {
      "application/vnd.jupyter.widget-view+json": {
       "model_id": "",
       "version_major": 2,
       "version_minor": 0
      },
      "text/plain": [
       "FloatProgress(value=0.0, bar_style='info', description='Progress:', layout=Layout(height='25px', width='50%'),…"
      ]
     },
     "metadata": {},
     "output_type": "display_data"
    },
    {
     "name": "stdout",
     "output_type": "stream",
     "text": [
      "+------+-----+\n",
      "|isnull|count|\n",
      "+------+-----+\n",
      "|     1|95390|\n",
      "|     0| 3669|\n",
      "+------+-----+"
     ]
    }
   ],
   "source": [
    "comments_df\\\n",
    "    .withColumn(\"isnull\", F.when(F.col('UserDisplayName').isNull(), 1).otherwise(0))\\\n",
    "    .groupBy('isnull').count().show()"
   ]
  },
  {
   "cell_type": "code",
   "execution_count": 38,
   "id": "1277ff97",
   "metadata": {},
   "outputs": [
    {
     "data": {
      "application/vnd.jupyter.widget-view+json": {
       "model_id": "10c7ff4b902d45a381c2a34c2d47845c",
       "version_major": 2,
       "version_minor": 0
      },
      "text/plain": [
       "VBox()"
      ]
     },
     "metadata": {},
     "output_type": "display_data"
    },
    {
     "data": {
      "application/vnd.jupyter.widget-view+json": {
       "model_id": "",
       "version_major": 2,
       "version_minor": 0
      },
      "text/plain": [
       "FloatProgress(value=0.0, bar_style='info', description='Progress:', layout=Layout(height='25px', width='50%'),…"
      ]
     },
     "metadata": {},
     "output_type": "display_data"
    }
   ],
   "source": [
    "comments_df = comments_df.drop('UserDisplayName')"
   ]
  },
  {
   "cell_type": "markdown",
   "id": "e0085bf6",
   "metadata": {},
   "source": [
    "### Cleaning results"
   ]
  },
  {
   "cell_type": "code",
   "execution_count": 39,
   "id": "d99ae1a2",
   "metadata": {},
   "outputs": [
    {
     "data": {
      "application/vnd.jupyter.widget-view+json": {
       "model_id": "18ebbef526f7443eaebee9ec9f61a149",
       "version_major": 2,
       "version_minor": 0
      },
      "text/plain": [
       "VBox()"
      ]
     },
     "metadata": {},
     "output_type": "display_data"
    },
    {
     "data": {
      "application/vnd.jupyter.widget-view+json": {
       "model_id": "",
       "version_major": 2,
       "version_minor": 0
      },
      "text/plain": [
       "FloatProgress(value=0.0, bar_style='info', description='Progress:', layout=Layout(height='25px', width='50%'),…"
      ]
     },
     "metadata": {},
     "output_type": "display_data"
    },
    {
     "name": "stdout",
     "output_type": "stream",
     "text": [
      "root\n",
      " |-- ContentLicense: string (nullable = true)\n",
      " |-- CreationDate: timestamp (nullable = true)\n",
      " |-- Id: integer (nullable = true)\n",
      " |-- PostId: integer (nullable = true)\n",
      " |-- Score: integer (nullable = true)\n",
      " |-- UserId: integer (nullable = true)\n",
      " |-- Text: array (nullable = true)\n",
      " |    |-- element: string (containsNull = true)"
     ]
    }
   ],
   "source": [
    "comments_df.printSchema()"
   ]
  },
  {
   "cell_type": "code",
   "execution_count": 40,
   "id": "0d9f128c",
   "metadata": {},
   "outputs": [
    {
     "data": {
      "application/vnd.jupyter.widget-view+json": {
       "model_id": "1df17cef0eae48ab8efdf772220ffb49",
       "version_major": 2,
       "version_minor": 0
      },
      "text/plain": [
       "VBox()"
      ]
     },
     "metadata": {},
     "output_type": "display_data"
    },
    {
     "data": {
      "application/vnd.jupyter.widget-view+json": {
       "model_id": "",
       "version_major": 2,
       "version_minor": 0
      },
      "text/plain": [
       "FloatProgress(value=0.0, bar_style='info', description='Progress:', layout=Layout(height='25px', width='50%'),…"
      ]
     },
     "metadata": {},
     "output_type": "display_data"
    },
    {
     "name": "stdout",
     "output_type": "stream",
     "text": [
      "-RECORD 0-------------\n",
      " ContentLicense | 0   \n",
      " Id             | 0   \n",
      " PostId         | 0   \n",
      " Score          | 0   \n",
      " UserId         | 0"
     ]
    }
   ],
   "source": [
    "df = comments_df\n",
    "cols_nums = [col[0] for col in df.dtypes if col[1] in ('bigint', 'int', 'string')]\n",
    "df = df.select([F.count(F.when(F.isnan(c) | F.col(c).isNull(), c)).alias(c) for c in cols_nums])\n",
    "df.show(vertical=True)"
   ]
  },
  {
   "cell_type": "code",
   "execution_count": 41,
   "id": "cc3d7977",
   "metadata": {
    "scrolled": true
   },
   "outputs": [
    {
     "data": {
      "application/vnd.jupyter.widget-view+json": {
       "model_id": "415c6da7189742258e0feabfc330f330",
       "version_major": 2,
       "version_minor": 0
      },
      "text/plain": [
       "VBox()"
      ]
     },
     "metadata": {},
     "output_type": "display_data"
    },
    {
     "data": {
      "application/vnd.jupyter.widget-view+json": {
       "model_id": "",
       "version_major": 2,
       "version_minor": 0
      },
      "text/plain": [
       "FloatProgress(value=0.0, bar_style='info', description='Progress:', layout=Layout(height='25px', width='50%'),…"
      ]
     },
     "metadata": {},
     "output_type": "display_data"
    },
    {
     "name": "stdout",
     "output_type": "stream",
     "text": [
      "+--------------+--------------------+---+------+-----+------+--------------------+\n",
      "|ContentLicense|        CreationDate| Id|PostId|Score|UserId|                Text|\n",
      "+--------------+--------------------+---+------+-----+------+--------------------+\n",
      "|  CC BY-SA 3.0|2011-11-30 19:53:...|  7|     8|    2|    22|[blake, edwards, ...|\n",
      "|  CC BY-SA 3.0|2011-11-30 19:55:...| 10|     4|    2|    29|[interesting, alw...|\n",
      "|  CC BY-SA 3.0|2011-11-30 20:10:...| 11|     3|    0|    10|[hour, plus, long...|\n",
      "|  CC BY-SA 3.0|2011-11-30 21:53:...| 19|    17|    0|    36|[know, lucas, int...|\n",
      "|  CC BY-SA 3.0|2011-11-30 22:00:...| 20|    17|    0|    40|[fair, point, als...|\n",
      "|  CC BY-SA 3.0|2011-11-30 22:16:...| 21|    18|    5|    66|[excellent, quest...|\n",
      "|  CC BY-SA 3.0|2011-11-30 22:20:...| 22|    24|    1|    66|[oh, motive, just...|\n",
      "|  CC BY-SA 3.0|2011-11-30 22:25:...| 23|    26|    2|    22|[leave, open, ano...|\n",
      "|  CC BY-SA 3.0|2011-11-30 22:35:...| 26|    26|    1|    26|[interesting, tho...|\n",
      "|  CC BY-SA 3.0|2011-11-30 22:37:...| 27|    26|    0|    22|[quite, sure, man...|\n",
      "|  CC BY-SA 3.0|2011-11-30 22:57:...| 30|    24|    1|    47|[explain, exactly...|\n",
      "|  CC BY-SA 3.0|2011-11-30 23:01:...| 31|    24|    1|    66|[thought, sex, sc...|\n",
      "|  CC BY-SA 3.0|2011-11-30 23:37:...| 36|    35|    3|    66|[contradictions, ...|\n",
      "|  CC BY-SA 3.0|2011-12-01 00:56:...| 40|    42|    0|    68|[hmm, see, city, ...|\n",
      "|  CC BY-SA 3.0|2011-12-01 01:04:...| 41|    42|    0|    29|[first, time, hol...|\n",
      "|  CC BY-SA 3.0|2011-12-01 02:55:...| 42|     3|    0|    41|[look, star, wars...|\n",
      "|  CC BY-SA 3.0|2011-12-01 08:41:...| 56|     8|    1|    43|[flimzy, know, br...|\n",
      "|  CC BY-SA 3.0|2011-12-01 09:36:...| 57|    62|    1|   108|[agree, even, tho...|\n",
      "|  CC BY-SA 3.0|2011-12-01 10:11:...| 58|    37|    0|   106|[disagree, actual...|\n",
      "|  CC BY-SA 3.0|2011-12-01 10:36:...| 59|    64|    5|   111|[conclude, first,...|\n",
      "+--------------+--------------------+---+------+-----+------+--------------------+"
     ]
    }
   ],
   "source": [
    "comments_df.limit(20).show()"
   ]
  },
  {
   "cell_type": "code",
   "execution_count": 42,
   "id": "c31b8003",
   "metadata": {},
   "outputs": [
    {
     "data": {
      "application/vnd.jupyter.widget-view+json": {
       "model_id": "70644eb8057e4eea92663f743f61e4f9",
       "version_major": 2,
       "version_minor": 0
      },
      "text/plain": [
       "VBox()"
      ]
     },
     "metadata": {},
     "output_type": "display_data"
    },
    {
     "data": {
      "application/vnd.jupyter.widget-view+json": {
       "model_id": "",
       "version_major": 2,
       "version_minor": 0
      },
      "text/plain": [
       "FloatProgress(value=0.0, bar_style='info', description='Progress:', layout=Layout(height='25px', width='50%'),…"
      ]
     },
     "metadata": {},
     "output_type": "display_data"
    },
    {
     "name": "stdout",
     "output_type": "stream",
     "text": [
      "99059"
     ]
    }
   ],
   "source": [
    "comments_df.count()"
   ]
  },
  {
   "cell_type": "markdown",
   "id": "7f46bcd9",
   "metadata": {},
   "source": [
    "### Save the data"
   ]
  },
  {
   "cell_type": "code",
   "execution_count": 43,
   "id": "9b14b46c",
   "metadata": {},
   "outputs": [
    {
     "data": {
      "application/vnd.jupyter.widget-view+json": {
       "model_id": "6949722e33de4535b72f7e6c5e6d63c1",
       "version_major": 2,
       "version_minor": 0
      },
      "text/plain": [
       "VBox()"
      ]
     },
     "metadata": {},
     "output_type": "display_data"
    },
    {
     "data": {
      "application/vnd.jupyter.widget-view+json": {
       "model_id": "",
       "version_major": 2,
       "version_minor": 0
      },
      "text/plain": [
       "FloatProgress(value=0.0, bar_style='info', description='Progress:', layout=Layout(height='25px', width='50%'),…"
      ]
     },
     "metadata": {},
     "output_type": "display_data"
    }
   ],
   "source": [
    "sink_path = \"s3://my-project-213242/cleaned/Comments/\"\n",
    "comments_df.write.mode(\"overwrite\").parquet(sink_path)"
   ]
  },
  {
   "cell_type": "markdown",
   "id": "617884f0",
   "metadata": {},
   "source": [
    "## 3.3. PostHistory "
   ]
  },
  {
   "cell_type": "markdown",
   "id": "80778236",
   "metadata": {},
   "source": [
    "### Load the data"
   ]
  },
  {
   "cell_type": "code",
   "execution_count": 44,
   "id": "aea4eafa",
   "metadata": {},
   "outputs": [
    {
     "data": {
      "application/vnd.jupyter.widget-view+json": {
       "model_id": "a5a681bb1f5e4c8aabad93579421f813",
       "version_major": 2,
       "version_minor": 0
      },
      "text/plain": [
       "VBox()"
      ]
     },
     "metadata": {},
     "output_type": "display_data"
    },
    {
     "data": {
      "application/vnd.jupyter.widget-view+json": {
       "model_id": "",
       "version_major": 2,
       "version_minor": 0
      },
      "text/plain": [
       "FloatProgress(value=0.0, bar_style='info', description='Progress:', layout=Layout(height='25px', width='50%'),…"
      ]
     },
     "metadata": {},
     "output_type": "display_data"
    }
   ],
   "source": [
    "source_path = \"s3://my-project-213242/drop/PostHistory.xml\""
   ]
  },
  {
   "cell_type": "code",
   "execution_count": 45,
   "id": "035dad32",
   "metadata": {},
   "outputs": [
    {
     "data": {
      "application/vnd.jupyter.widget-view+json": {
       "model_id": "4c326c09eae54ceab8bf4ce8acf35e77",
       "version_major": 2,
       "version_minor": 0
      },
      "text/plain": [
       "VBox()"
      ]
     },
     "metadata": {},
     "output_type": "display_data"
    },
    {
     "data": {
      "application/vnd.jupyter.widget-view+json": {
       "model_id": "",
       "version_major": 2,
       "version_minor": 0
      },
      "text/plain": [
       "FloatProgress(value=0.0, bar_style='info', description='Progress:', layout=Layout(height='25px', width='50%'),…"
      ]
     },
     "metadata": {},
     "output_type": "display_data"
    }
   ],
   "source": [
    "schema_postHistory_df = StructType([\n",
    "                        StructField(\"_Comment\",               StringType()), \n",
    "                        StructField(\"_ContentLicense\",        StringType()), \n",
    "                        StructField(\"_CreationDate\",          TimestampType()), \n",
    "                        StructField(\"_Id\",                    IntegerType()), \n",
    "                        StructField(\"_PostHistoryTypeId\",     IntegerType()), \n",
    "                        StructField(\"_PostId\",                IntegerType()), \n",
    "                        StructField(\"_RevisionGUID\",          StringType()), \n",
    "                        StructField(\"_Text\",                  StringType()), \n",
    "                        StructField(\"_UserDisplayName\",       StringType()), \n",
    "                        StructField(\"_UserId\",                IntegerType())\n",
    "    ])"
   ]
  },
  {
   "cell_type": "code",
   "execution_count": 46,
   "id": "4d02d64e",
   "metadata": {},
   "outputs": [
    {
     "data": {
      "application/vnd.jupyter.widget-view+json": {
       "model_id": "be4b1df411614a8ca4ebc2ab5bb3e66d",
       "version_major": 2,
       "version_minor": 0
      },
      "text/plain": [
       "VBox()"
      ]
     },
     "metadata": {},
     "output_type": "display_data"
    },
    {
     "data": {
      "application/vnd.jupyter.widget-view+json": {
       "model_id": "",
       "version_major": 2,
       "version_minor": 0
      },
      "text/plain": [
       "FloatProgress(value=0.0, bar_style='info', description='Progress:', layout=Layout(height='25px', width='50%'),…"
      ]
     },
     "metadata": {},
     "output_type": "display_data"
    }
   ],
   "source": [
    "postHistory_df  = (\n",
    "    spark.read.format(\"com.databricks.spark.xml\")\n",
    "    .option(\"rowTag\", \"row\")\n",
    "    .option(\"charset\", \"UTF8\")\n",
    "    .schema(schema_postHistory_df) \n",
    "    .option(\"treatEmptyValuesAsNulls\", \"true\")\n",
    "    .load(source_path)\n",
    "    .cache()\n",
    ")"
   ]
  },
  {
   "cell_type": "markdown",
   "id": "879121d0",
   "metadata": {},
   "source": [
    "- Delete _ from column names"
   ]
  },
  {
   "cell_type": "code",
   "execution_count": 47,
   "id": "c04920d3",
   "metadata": {},
   "outputs": [
    {
     "data": {
      "application/vnd.jupyter.widget-view+json": {
       "model_id": "2baa5ed0f08547358e8765bdbd135b24",
       "version_major": 2,
       "version_minor": 0
      },
      "text/plain": [
       "VBox()"
      ]
     },
     "metadata": {},
     "output_type": "display_data"
    },
    {
     "data": {
      "application/vnd.jupyter.widget-view+json": {
       "model_id": "",
       "version_major": 2,
       "version_minor": 0
      },
      "text/plain": [
       "FloatProgress(value=0.0, bar_style='info', description='Progress:', layout=Layout(height='25px', width='50%'),…"
      ]
     },
     "metadata": {},
     "output_type": "display_data"
    }
   ],
   "source": [
    "postHistory_df = postHistory_df.select([F.col(col_name).alias(col_name.replace('_', '')) for col_name in postHistory_df.columns])"
   ]
  },
  {
   "cell_type": "markdown",
   "id": "90b8d578",
   "metadata": {},
   "source": [
    "### Data exploration"
   ]
  },
  {
   "cell_type": "code",
   "execution_count": 48,
   "id": "8a483e74",
   "metadata": {},
   "outputs": [
    {
     "data": {
      "application/vnd.jupyter.widget-view+json": {
       "model_id": "65bb0d7c3f794a1ab6102ccc0e75c41c",
       "version_major": 2,
       "version_minor": 0
      },
      "text/plain": [
       "VBox()"
      ]
     },
     "metadata": {},
     "output_type": "display_data"
    },
    {
     "data": {
      "application/vnd.jupyter.widget-view+json": {
       "model_id": "",
       "version_major": 2,
       "version_minor": 0
      },
      "text/plain": [
       "FloatProgress(value=0.0, bar_style='info', description='Progress:', layout=Layout(height='25px', width='50%'),…"
      ]
     },
     "metadata": {},
     "output_type": "display_data"
    },
    {
     "name": "stdout",
     "output_type": "stream",
     "text": [
      "root\n",
      " |-- Comment: string (nullable = true)\n",
      " |-- ContentLicense: string (nullable = true)\n",
      " |-- CreationDate: timestamp (nullable = true)\n",
      " |-- Id: integer (nullable = true)\n",
      " |-- PostHistoryTypeId: integer (nullable = true)\n",
      " |-- PostId: integer (nullable = true)\n",
      " |-- RevisionGUID: string (nullable = true)\n",
      " |-- Text: string (nullable = true)\n",
      " |-- UserDisplayName: string (nullable = true)\n",
      " |-- UserId: integer (nullable = true)"
     ]
    }
   ],
   "source": [
    "postHistory_df.printSchema()"
   ]
  },
  {
   "cell_type": "code",
   "execution_count": 49,
   "id": "90000b56",
   "metadata": {},
   "outputs": [
    {
     "data": {
      "application/vnd.jupyter.widget-view+json": {
       "model_id": "",
       "version_major": 2,
       "version_minor": 0
      },
      "text/plain": [
       "FloatProgress(value=0.0, bar_style='info', description='Progress:', layout=Layout(height='25px', width='50%'),…"
      ]
     },
     "metadata": {},
     "output_type": "display_data"
    },
    {
     "data": {
      "text/html": [
       "<style>.jp-OutputArea-child .jupyter-widgets.jp-OutputArea-output { overflow: auto; }</style>"
      ],
      "text/plain": [
       "<IPython.core.display.HTML object>"
      ]
     },
     "metadata": {},
     "output_type": "display_data"
    },
    {
     "data": {
      "application/vnd.jupyter.widget-view+json": {
       "model_id": "3500b08efc334a55a93e07d814963b73",
       "version_major": 2,
       "version_minor": 0
      },
      "text/plain": [
       "VBox(children=(HBox(children=(HTML(value='Type:'), Button(description='Table', layout=Layout(width='70px'), st…"
      ]
     },
     "metadata": {},
     "output_type": "display_data"
    },
    {
     "data": {
      "application/vnd.jupyter.widget-view+json": {
       "model_id": "77790df47e5845cab52f88c801c42463",
       "version_major": 2,
       "version_minor": 0
      },
      "text/plain": [
       "Output()"
      ]
     },
     "metadata": {},
     "output_type": "display_data"
    }
   ],
   "source": [
    "%%display\n",
    "postHistory_df.limit(20)"
   ]
  },
  {
   "cell_type": "code",
   "execution_count": 50,
   "id": "cfb712d9",
   "metadata": {},
   "outputs": [
    {
     "data": {
      "application/vnd.jupyter.widget-view+json": {
       "model_id": "d5ac521b301249aa9b962d0433fbc57e",
       "version_major": 2,
       "version_minor": 0
      },
      "text/plain": [
       "VBox()"
      ]
     },
     "metadata": {},
     "output_type": "display_data"
    },
    {
     "data": {
      "application/vnd.jupyter.widget-view+json": {
       "model_id": "",
       "version_major": 2,
       "version_minor": 0
      },
      "text/plain": [
       "FloatProgress(value=0.0, bar_style='info', description='Progress:', layout=Layout(height='25px', width='50%'),…"
      ]
     },
     "metadata": {},
     "output_type": "display_data"
    },
    {
     "name": "stdout",
     "output_type": "stream",
     "text": [
      "238881"
     ]
    }
   ],
   "source": [
    "postHistory_df.count()"
   ]
  },
  {
   "cell_type": "code",
   "execution_count": 51,
   "id": "f09f5966",
   "metadata": {},
   "outputs": [
    {
     "data": {
      "application/vnd.jupyter.widget-view+json": {
       "model_id": "67d7f2a2c3404161a16a136ae5f88ce8",
       "version_major": 2,
       "version_minor": 0
      },
      "text/plain": [
       "VBox()"
      ]
     },
     "metadata": {},
     "output_type": "display_data"
    },
    {
     "data": {
      "application/vnd.jupyter.widget-view+json": {
       "model_id": "",
       "version_major": 2,
       "version_minor": 0
      },
      "text/plain": [
       "FloatProgress(value=0.0, bar_style='info', description='Progress:', layout=Layout(height='25px', width='50%'),…"
      ]
     },
     "metadata": {},
     "output_type": "display_data"
    },
    {
     "name": "stdout",
     "output_type": "stream",
     "text": [
      "29"
     ]
    }
   ],
   "source": [
    "postHistory_df.select(\"PostHistoryTypeId\").distinct().count()"
   ]
  },
  {
   "cell_type": "markdown",
   "id": "8caeadb8",
   "metadata": {},
   "source": [
    "### Data cleaning"
   ]
  },
  {
   "cell_type": "markdown",
   "id": "178b779b",
   "metadata": {},
   "source": [
    "- Clean `UserId` - put -99 instead of `NaN` if user is deleted"
   ]
  },
  {
   "cell_type": "code",
   "execution_count": 52,
   "id": "422270d4",
   "metadata": {},
   "outputs": [
    {
     "data": {
      "application/vnd.jupyter.widget-view+json": {
       "model_id": "22230c6dc50740758901c5d3ea7d3ae8",
       "version_major": 2,
       "version_minor": 0
      },
      "text/plain": [
       "VBox()"
      ]
     },
     "metadata": {},
     "output_type": "display_data"
    },
    {
     "data": {
      "application/vnd.jupyter.widget-view+json": {
       "model_id": "",
       "version_major": 2,
       "version_minor": 0
      },
      "text/plain": [
       "FloatProgress(value=0.0, bar_style='info', description='Progress:', layout=Layout(height='25px', width='50%'),…"
      ]
     },
     "metadata": {},
     "output_type": "display_data"
    }
   ],
   "source": [
    "postHistory_df = postHistory_df.na.fill(-99, subset=['UserId'])"
   ]
  },
  {
   "cell_type": "markdown",
   "id": "99ec06c9",
   "metadata": {},
   "source": [
    "- `UserDisplayName` - is valueable for PostHistoryTypeId 10 (Post Closed) and 11 (Post Reopened)"
   ]
  },
  {
   "cell_type": "code",
   "execution_count": 53,
   "id": "cf6f19e7",
   "metadata": {},
   "outputs": [
    {
     "data": {
      "application/vnd.jupyter.widget-view+json": {
       "model_id": "ed3a4c876b8b436194687e60e80b6d49",
       "version_major": 2,
       "version_minor": 0
      },
      "text/plain": [
       "VBox()"
      ]
     },
     "metadata": {},
     "output_type": "display_data"
    },
    {
     "data": {
      "application/vnd.jupyter.widget-view+json": {
       "model_id": "",
       "version_major": 2,
       "version_minor": 0
      },
      "text/plain": [
       "FloatProgress(value=0.0, bar_style='info', description='Progress:', layout=Layout(height='25px', width='50%'),…"
      ]
     },
     "metadata": {},
     "output_type": "display_data"
    },
    {
     "name": "stdout",
     "output_type": "stream",
     "text": [
      "+-----------------+------+-----+\n",
      "|PostHistoryTypeId|isnull|count|\n",
      "+-----------------+------+-----+\n",
      "|                1|     0|  853|\n",
      "|                1|     1|22978|\n",
      "|                2|     0| 1882|\n",
      "|                2|     1|61192|\n",
      "|                3|     0|  853|\n",
      "|                3|     1|21362|\n",
      "|                4|     0|  258|\n",
      "|                4|     1|13171|\n",
      "|                5|     0| 1450|\n",
      "|                5|     1|63740|\n",
      "|                6|     0|  216|\n",
      "|                6|     1|14229|\n",
      "|                7|     0|    9|\n",
      "|                7|     1|  306|\n",
      "|                8|     0|   13|\n",
      "|                8|     1|  654|\n",
      "|                9|     0|    4|\n",
      "|                9|     1|  200|\n",
      "|               10|     1| 2460|\n",
      "|               11|     1|  382|\n",
      "+-----------------+------+-----+\n",
      "only showing top 20 rows"
     ]
    }
   ],
   "source": [
    "postHistory_df\\\n",
    "    .withColumn(\"isnull\", F.when(F.col('UserDisplayName').isNotNull(), 0).otherwise(1))\\\n",
    "    .groupBy('PostHistoryTypeId', 'isnull').count().orderBy('PostHistoryTypeId', 'isnull')\\\n",
    "    .show()"
   ]
  },
  {
   "cell_type": "markdown",
   "id": "4a9be9eb",
   "metadata": {},
   "source": [
    "### Cleaning results"
   ]
  },
  {
   "cell_type": "code",
   "execution_count": 54,
   "id": "55abf5cf",
   "metadata": {},
   "outputs": [
    {
     "data": {
      "application/vnd.jupyter.widget-view+json": {
       "model_id": "eb9819a5336145f796fb682ccda1d502",
       "version_major": 2,
       "version_minor": 0
      },
      "text/plain": [
       "VBox()"
      ]
     },
     "metadata": {},
     "output_type": "display_data"
    },
    {
     "data": {
      "application/vnd.jupyter.widget-view+json": {
       "model_id": "",
       "version_major": 2,
       "version_minor": 0
      },
      "text/plain": [
       "FloatProgress(value=0.0, bar_style='info', description='Progress:', layout=Layout(height='25px', width='50%'),…"
      ]
     },
     "metadata": {},
     "output_type": "display_data"
    },
    {
     "name": "stdout",
     "output_type": "stream",
     "text": [
      "root\n",
      " |-- Comment: string (nullable = true)\n",
      " |-- ContentLicense: string (nullable = true)\n",
      " |-- CreationDate: timestamp (nullable = true)\n",
      " |-- Id: integer (nullable = true)\n",
      " |-- PostHistoryTypeId: integer (nullable = true)\n",
      " |-- PostId: integer (nullable = true)\n",
      " |-- RevisionGUID: string (nullable = true)\n",
      " |-- Text: string (nullable = true)\n",
      " |-- UserDisplayName: string (nullable = true)\n",
      " |-- UserId: integer (nullable = true)"
     ]
    }
   ],
   "source": [
    "postHistory_df.printSchema()"
   ]
  },
  {
   "cell_type": "code",
   "execution_count": 55,
   "id": "72a17a01",
   "metadata": {},
   "outputs": [
    {
     "data": {
      "application/vnd.jupyter.widget-view+json": {
       "model_id": "e36ed71e054947488b47213e1e171480",
       "version_major": 2,
       "version_minor": 0
      },
      "text/plain": [
       "VBox()"
      ]
     },
     "metadata": {},
     "output_type": "display_data"
    },
    {
     "data": {
      "application/vnd.jupyter.widget-view+json": {
       "model_id": "",
       "version_major": 2,
       "version_minor": 0
      },
      "text/plain": [
       "FloatProgress(value=0.0, bar_style='info', description='Progress:', layout=Layout(height='25px', width='50%'),…"
      ]
     },
     "metadata": {},
     "output_type": "display_data"
    },
    {
     "name": "stdout",
     "output_type": "stream",
     "text": [
      "-RECORD 0-------------------\n",
      " Comment           | 115658 \n",
      " ContentLicense    | 26173  \n",
      " Id                | 0      \n",
      " PostHistoryTypeId | 0      \n",
      " PostId            | 0      \n",
      " RevisionGUID      | 0      \n",
      " Text              | 35032  \n",
      " UserDisplayName   | 233270 \n",
      " UserId            | 0"
     ]
    }
   ],
   "source": [
    "df = postHistory_df\n",
    "cols_nums = [col[0] for col in df.dtypes if col[1] in ('bigint', 'int', 'string')]\n",
    "df = df.select([F.count(F.when(F.isnan(c) | F.col(c).isNull(), c)).alias(c) for c in cols_nums])\n",
    "df.show(vertical=True)"
   ]
  },
  {
   "cell_type": "code",
   "execution_count": 56,
   "id": "70c4ae37",
   "metadata": {
    "scrolled": true
   },
   "outputs": [
    {
     "data": {
      "application/vnd.jupyter.widget-view+json": {
       "model_id": "",
       "version_major": 2,
       "version_minor": 0
      },
      "text/plain": [
       "FloatProgress(value=0.0, bar_style='info', description='Progress:', layout=Layout(height='25px', width='50%'),…"
      ]
     },
     "metadata": {},
     "output_type": "display_data"
    },
    {
     "data": {
      "text/html": [
       "<style>.jp-OutputArea-child .jupyter-widgets.jp-OutputArea-output { overflow: auto; }</style>"
      ],
      "text/plain": [
       "<IPython.core.display.HTML object>"
      ]
     },
     "metadata": {},
     "output_type": "display_data"
    },
    {
     "data": {
      "application/vnd.jupyter.widget-view+json": {
       "model_id": "037ebb64164a4b088ee1a9253c9986a2",
       "version_major": 2,
       "version_minor": 0
      },
      "text/plain": [
       "VBox(children=(HBox(children=(HTML(value='Type:'), Button(description='Table', layout=Layout(width='70px'), st…"
      ]
     },
     "metadata": {},
     "output_type": "display_data"
    },
    {
     "data": {
      "application/vnd.jupyter.widget-view+json": {
       "model_id": "d82912e231f04f48969a9a3f99bb5745",
       "version_major": 2,
       "version_minor": 0
      },
      "text/plain": [
       "Output()"
      ]
     },
     "metadata": {},
     "output_type": "display_data"
    }
   ],
   "source": [
    "%%display\n",
    "postHistory_df.limit(20)"
   ]
  },
  {
   "cell_type": "code",
   "execution_count": 57,
   "id": "9306b937",
   "metadata": {},
   "outputs": [
    {
     "data": {
      "application/vnd.jupyter.widget-view+json": {
       "model_id": "9e6da1a07d5048eb86abb04d304a7daa",
       "version_major": 2,
       "version_minor": 0
      },
      "text/plain": [
       "VBox()"
      ]
     },
     "metadata": {},
     "output_type": "display_data"
    },
    {
     "data": {
      "application/vnd.jupyter.widget-view+json": {
       "model_id": "",
       "version_major": 2,
       "version_minor": 0
      },
      "text/plain": [
       "FloatProgress(value=0.0, bar_style='info', description='Progress:', layout=Layout(height='25px', width='50%'),…"
      ]
     },
     "metadata": {},
     "output_type": "display_data"
    },
    {
     "name": "stdout",
     "output_type": "stream",
     "text": [
      "238881"
     ]
    }
   ],
   "source": [
    "postHistory_df.count()"
   ]
  },
  {
   "cell_type": "markdown",
   "id": "0857e195",
   "metadata": {},
   "source": [
    "### Save the data"
   ]
  },
  {
   "cell_type": "code",
   "execution_count": 58,
   "id": "b56d6afb",
   "metadata": {},
   "outputs": [
    {
     "data": {
      "application/vnd.jupyter.widget-view+json": {
       "model_id": "985d5d13620e4b02b53ad60af990f34d",
       "version_major": 2,
       "version_minor": 0
      },
      "text/plain": [
       "VBox()"
      ]
     },
     "metadata": {},
     "output_type": "display_data"
    },
    {
     "data": {
      "application/vnd.jupyter.widget-view+json": {
       "model_id": "",
       "version_major": 2,
       "version_minor": 0
      },
      "text/plain": [
       "FloatProgress(value=0.0, bar_style='info', description='Progress:', layout=Layout(height='25px', width='50%'),…"
      ]
     },
     "metadata": {},
     "output_type": "display_data"
    }
   ],
   "source": [
    "sink_path = \"s3://my-project-213242/cleaned/PostHistory/\"\n",
    "postHistory_df.write.mode(\"overwrite\").parquet(sink_path)"
   ]
  },
  {
   "cell_type": "markdown",
   "id": "c9adf04d",
   "metadata": {},
   "source": [
    "## 3.4. PostLinks"
   ]
  },
  {
   "cell_type": "markdown",
   "id": "a5ca6ce8",
   "metadata": {},
   "source": [
    "### Load the data"
   ]
  },
  {
   "cell_type": "code",
   "execution_count": 59,
   "id": "f1d1eea6",
   "metadata": {},
   "outputs": [
    {
     "data": {
      "application/vnd.jupyter.widget-view+json": {
       "model_id": "a6f1a5fcb722448e89beddac695a9c77",
       "version_major": 2,
       "version_minor": 0
      },
      "text/plain": [
       "VBox()"
      ]
     },
     "metadata": {},
     "output_type": "display_data"
    },
    {
     "data": {
      "application/vnd.jupyter.widget-view+json": {
       "model_id": "",
       "version_major": 2,
       "version_minor": 0
      },
      "text/plain": [
       "FloatProgress(value=0.0, bar_style='info', description='Progress:', layout=Layout(height='25px', width='50%'),…"
      ]
     },
     "metadata": {},
     "output_type": "display_data"
    }
   ],
   "source": [
    "source_path = \"s3://my-project-213242/drop/PostLinks.xml\""
   ]
  },
  {
   "cell_type": "code",
   "execution_count": 60,
   "id": "653f0b17",
   "metadata": {},
   "outputs": [
    {
     "data": {
      "application/vnd.jupyter.widget-view+json": {
       "model_id": "db109efa1f634fd79b516f1a2106990b",
       "version_major": 2,
       "version_minor": 0
      },
      "text/plain": [
       "VBox()"
      ]
     },
     "metadata": {},
     "output_type": "display_data"
    },
    {
     "data": {
      "application/vnd.jupyter.widget-view+json": {
       "model_id": "",
       "version_major": 2,
       "version_minor": 0
      },
      "text/plain": [
       "FloatProgress(value=0.0, bar_style='info', description='Progress:', layout=Layout(height='25px', width='50%'),…"
      ]
     },
     "metadata": {},
     "output_type": "display_data"
    }
   ],
   "source": [
    "schema_postLinks_df = StructType([\n",
    "                        StructField(\"_CreationDate\",          TimestampType()), \n",
    "                        StructField(\"_Id\",                    IntegerType()),\n",
    "                        StructField(\"_LinkTypeId\",            IntegerType()),\n",
    "                        StructField(\"_PostId\",                IntegerType()),\n",
    "                        StructField(\"_RelatedPostId\",         IntegerType())\n",
    "    ])"
   ]
  },
  {
   "cell_type": "code",
   "execution_count": 61,
   "id": "cffd0126",
   "metadata": {},
   "outputs": [
    {
     "data": {
      "application/vnd.jupyter.widget-view+json": {
       "model_id": "e18d7e0128dd4fd282f170d0936fb526",
       "version_major": 2,
       "version_minor": 0
      },
      "text/plain": [
       "VBox()"
      ]
     },
     "metadata": {},
     "output_type": "display_data"
    },
    {
     "data": {
      "application/vnd.jupyter.widget-view+json": {
       "model_id": "",
       "version_major": 2,
       "version_minor": 0
      },
      "text/plain": [
       "FloatProgress(value=0.0, bar_style='info', description='Progress:', layout=Layout(height='25px', width='50%'),…"
      ]
     },
     "metadata": {},
     "output_type": "display_data"
    }
   ],
   "source": [
    "postLinks_df = (\n",
    "    spark.read.format(\"com.databricks.spark.xml\")\n",
    "    .option(\"rowTag\", \"row\")\n",
    "    .option(\"charset\", \"UTF8\")\n",
    "    .schema(schema_postLinks_df) \n",
    "    .option(\"treatEmptyValuesAsNulls\", \"true\")\n",
    "    .load(source_path)\n",
    "    .cache()\n",
    ")"
   ]
  },
  {
   "cell_type": "markdown",
   "id": "23e9b030",
   "metadata": {},
   "source": [
    "- Delete _ from column names"
   ]
  },
  {
   "cell_type": "code",
   "execution_count": 62,
   "id": "70bc1832",
   "metadata": {},
   "outputs": [
    {
     "data": {
      "application/vnd.jupyter.widget-view+json": {
       "model_id": "94c7a885ca7c4c22b8e48f328674bf47",
       "version_major": 2,
       "version_minor": 0
      },
      "text/plain": [
       "VBox()"
      ]
     },
     "metadata": {},
     "output_type": "display_data"
    },
    {
     "data": {
      "application/vnd.jupyter.widget-view+json": {
       "model_id": "",
       "version_major": 2,
       "version_minor": 0
      },
      "text/plain": [
       "FloatProgress(value=0.0, bar_style='info', description='Progress:', layout=Layout(height='25px', width='50%'),…"
      ]
     },
     "metadata": {},
     "output_type": "display_data"
    }
   ],
   "source": [
    "postLinks_df = postLinks_df.select([F.col(col_name).alias(col_name.replace('_', '')) for col_name in postLinks_df.columns])"
   ]
  },
  {
   "cell_type": "markdown",
   "id": "7b61327a",
   "metadata": {},
   "source": [
    "### Data exploration"
   ]
  },
  {
   "cell_type": "code",
   "execution_count": 63,
   "id": "ce4c0e58",
   "metadata": {},
   "outputs": [
    {
     "data": {
      "application/vnd.jupyter.widget-view+json": {
       "model_id": "569d3266cf7e406c8a1f99a179922301",
       "version_major": 2,
       "version_minor": 0
      },
      "text/plain": [
       "VBox()"
      ]
     },
     "metadata": {},
     "output_type": "display_data"
    },
    {
     "data": {
      "application/vnd.jupyter.widget-view+json": {
       "model_id": "",
       "version_major": 2,
       "version_minor": 0
      },
      "text/plain": [
       "FloatProgress(value=0.0, bar_style='info', description='Progress:', layout=Layout(height='25px', width='50%'),…"
      ]
     },
     "metadata": {},
     "output_type": "display_data"
    },
    {
     "name": "stdout",
     "output_type": "stream",
     "text": [
      "root\n",
      " |-- CreationDate: timestamp (nullable = true)\n",
      " |-- Id: integer (nullable = true)\n",
      " |-- LinkTypeId: integer (nullable = true)\n",
      " |-- PostId: integer (nullable = true)\n",
      " |-- RelatedPostId: integer (nullable = true)"
     ]
    }
   ],
   "source": [
    "postLinks_df.printSchema()"
   ]
  },
  {
   "cell_type": "code",
   "execution_count": 64,
   "id": "f93cc4ea",
   "metadata": {},
   "outputs": [
    {
     "data": {
      "application/vnd.jupyter.widget-view+json": {
       "model_id": "e7dd2fa89f604f61a1350cda1b75f809",
       "version_major": 2,
       "version_minor": 0
      },
      "text/plain": [
       "VBox()"
      ]
     },
     "metadata": {},
     "output_type": "display_data"
    },
    {
     "data": {
      "application/vnd.jupyter.widget-view+json": {
       "model_id": "",
       "version_major": 2,
       "version_minor": 0
      },
      "text/plain": [
       "FloatProgress(value=0.0, bar_style='info', description='Progress:', layout=Layout(height='25px', width='50%'),…"
      ]
     },
     "metadata": {},
     "output_type": "display_data"
    },
    {
     "name": "stdout",
     "output_type": "stream",
     "text": [
      "+-----------------------+-----+----------+------+-------------+\n",
      "|CreationDate           |Id   |LinkTypeId|PostId|RelatedPostId|\n",
      "+-----------------------+-----+----------+------+-------------+\n",
      "|2011-12-01 16:34:41.333|948  |1         |65    |90           |\n",
      "|2011-12-04 06:07:21.05 |1722 |1         |99    |33           |\n",
      "|2011-12-04 06:07:21.05 |1723 |1         |99    |53           |\n",
      "|2011-12-09 16:14:42.213|3828 |1         |382   |328          |\n",
      "|2011-12-10 15:26:10.283|4298 |1         |387   |334          |\n",
      "|2011-12-18 12:42:34.397|6005 |1         |552   |35           |\n",
      "|2011-12-18 12:42:34.4  |6006 |1         |552   |452          |\n",
      "|2011-12-18 12:42:34.4  |6007 |1         |552   |61           |\n",
      "|2011-12-19 06:01:43.193|6114 |1         |582   |222          |\n",
      "|2011-12-22 15:59:31.68 |6709 |1         |617   |565          |\n",
      "|2012-01-03 22:53:47.677|9598 |1         |770   |696          |\n",
      "|2012-01-06 17:37:01.903|10329|1         |736   |604          |\n",
      "|2012-01-11 17:07:42.853|11612|1         |19    |15           |\n",
      "|2012-01-20 17:22:13.153|14171|1         |977   |976          |\n",
      "|2012-01-25 02:49:33.94 |15258|1         |1047  |953          |\n",
      "|2012-01-25 13:48:45.567|15340|1         |1048  |28           |\n",
      "|2012-01-25 13:48:45.567|15341|1         |1048  |643          |\n",
      "|2012-01-25 13:48:45.567|15342|1         |1048  |23           |\n",
      "|2012-01-25 23:35:49.977|15446|1         |1062  |1053         |\n",
      "|2012-01-26 00:55:29.373|15522|1         |1066  |1064         |\n",
      "+-----------------------+-----+----------+------+-------------+"
     ]
    }
   ],
   "source": [
    "postLinks_df.limit(20).show(truncate=False)"
   ]
  },
  {
   "cell_type": "code",
   "execution_count": 65,
   "id": "6cb0eaec",
   "metadata": {},
   "outputs": [
    {
     "data": {
      "application/vnd.jupyter.widget-view+json": {
       "model_id": "28e4b450d66a470caf6038351d737487",
       "version_major": 2,
       "version_minor": 0
      },
      "text/plain": [
       "VBox()"
      ]
     },
     "metadata": {},
     "output_type": "display_data"
    },
    {
     "data": {
      "application/vnd.jupyter.widget-view+json": {
       "model_id": "",
       "version_major": 2,
       "version_minor": 0
      },
      "text/plain": [
       "FloatProgress(value=0.0, bar_style='info', description='Progress:', layout=Layout(height='25px', width='50%'),…"
      ]
     },
     "metadata": {},
     "output_type": "display_data"
    },
    {
     "name": "stdout",
     "output_type": "stream",
     "text": [
      "5338"
     ]
    }
   ],
   "source": [
    "postLinks_df.count()"
   ]
  },
  {
   "cell_type": "markdown",
   "id": "5d9d8425",
   "metadata": {},
   "source": [
    "- LinkTypeId type of link\n",
    " - 1 = Linked (PostId contains a link to RelatedPostId)\n",
    " - 3 = Duplicate (PostId is a duplicate of RelatedPostId)"
   ]
  },
  {
   "cell_type": "code",
   "execution_count": 66,
   "id": "618151da",
   "metadata": {},
   "outputs": [
    {
     "data": {
      "application/vnd.jupyter.widget-view+json": {
       "model_id": "68216fac2bca45648f8fd4677b1b3d50",
       "version_major": 2,
       "version_minor": 0
      },
      "text/plain": [
       "VBox()"
      ]
     },
     "metadata": {},
     "output_type": "display_data"
    },
    {
     "data": {
      "application/vnd.jupyter.widget-view+json": {
       "model_id": "",
       "version_major": 2,
       "version_minor": 0
      },
      "text/plain": [
       "FloatProgress(value=0.0, bar_style='info', description='Progress:', layout=Layout(height='25px', width='50%'),…"
      ]
     },
     "metadata": {},
     "output_type": "display_data"
    },
    {
     "name": "stdout",
     "output_type": "stream",
     "text": [
      "+----------+-----+\n",
      "|LinkTypeId|count|\n",
      "+----------+-----+\n",
      "|         1| 3972|\n",
      "|         3| 1366|\n",
      "+----------+-----+"
     ]
    }
   ],
   "source": [
    "postLinks_df.groupBy('LinkTypeId').count().show()"
   ]
  },
  {
   "cell_type": "markdown",
   "id": "dca74c08",
   "metadata": {},
   "source": [
    "### Cleaning results"
   ]
  },
  {
   "cell_type": "code",
   "execution_count": 67,
   "id": "5d5deef5",
   "metadata": {},
   "outputs": [
    {
     "data": {
      "application/vnd.jupyter.widget-view+json": {
       "model_id": "c3234632f3314c968ed6ac2e7a49b580",
       "version_major": 2,
       "version_minor": 0
      },
      "text/plain": [
       "VBox()"
      ]
     },
     "metadata": {},
     "output_type": "display_data"
    },
    {
     "data": {
      "application/vnd.jupyter.widget-view+json": {
       "model_id": "",
       "version_major": 2,
       "version_minor": 0
      },
      "text/plain": [
       "FloatProgress(value=0.0, bar_style='info', description='Progress:', layout=Layout(height='25px', width='50%'),…"
      ]
     },
     "metadata": {},
     "output_type": "display_data"
    },
    {
     "name": "stdout",
     "output_type": "stream",
     "text": [
      "root\n",
      " |-- CreationDate: timestamp (nullable = true)\n",
      " |-- Id: integer (nullable = true)\n",
      " |-- LinkTypeId: integer (nullable = true)\n",
      " |-- PostId: integer (nullable = true)\n",
      " |-- RelatedPostId: integer (nullable = true)"
     ]
    }
   ],
   "source": [
    "postLinks_df.printSchema()"
   ]
  },
  {
   "cell_type": "code",
   "execution_count": 68,
   "id": "e848f60d",
   "metadata": {},
   "outputs": [
    {
     "data": {
      "application/vnd.jupyter.widget-view+json": {
       "model_id": "52c9fb3c4dab4ef88c8b235041116e4a",
       "version_major": 2,
       "version_minor": 0
      },
      "text/plain": [
       "VBox()"
      ]
     },
     "metadata": {},
     "output_type": "display_data"
    },
    {
     "data": {
      "application/vnd.jupyter.widget-view+json": {
       "model_id": "",
       "version_major": 2,
       "version_minor": 0
      },
      "text/plain": [
       "FloatProgress(value=0.0, bar_style='info', description='Progress:', layout=Layout(height='25px', width='50%'),…"
      ]
     },
     "metadata": {},
     "output_type": "display_data"
    },
    {
     "name": "stdout",
     "output_type": "stream",
     "text": [
      "-RECORD 0------------\n",
      " Id            | 0   \n",
      " LinkTypeId    | 0   \n",
      " PostId        | 0   \n",
      " RelatedPostId | 0"
     ]
    }
   ],
   "source": [
    "df = postLinks_df\n",
    "cols_nums = [col[0] for col in df.dtypes if col[1] in ('bigint', 'int', 'string')]\n",
    "df = df.select([F.count(F.when(F.isnan(c) | F.col(c).isNull(), c)).alias(c) for c in cols_nums])\n",
    "df.show(vertical=True)"
   ]
  },
  {
   "cell_type": "code",
   "execution_count": 69,
   "id": "0b37abd4",
   "metadata": {
    "scrolled": true
   },
   "outputs": [
    {
     "data": {
      "application/vnd.jupyter.widget-view+json": {
       "model_id": "",
       "version_major": 2,
       "version_minor": 0
      },
      "text/plain": [
       "FloatProgress(value=0.0, bar_style='info', description='Progress:', layout=Layout(height='25px', width='50%'),…"
      ]
     },
     "metadata": {},
     "output_type": "display_data"
    },
    {
     "data": {
      "text/html": [
       "<style>.jp-OutputArea-child .jupyter-widgets.jp-OutputArea-output { overflow: auto; }</style>"
      ],
      "text/plain": [
       "<IPython.core.display.HTML object>"
      ]
     },
     "metadata": {},
     "output_type": "display_data"
    },
    {
     "data": {
      "application/vnd.jupyter.widget-view+json": {
       "model_id": "a7a2dcfbdae34839993e52a1a355d440",
       "version_major": 2,
       "version_minor": 0
      },
      "text/plain": [
       "VBox(children=(HBox(children=(HTML(value='Type:'), Button(description='Table', layout=Layout(width='70px'), st…"
      ]
     },
     "metadata": {},
     "output_type": "display_data"
    },
    {
     "data": {
      "application/vnd.jupyter.widget-view+json": {
       "model_id": "bd8e11bf2910447aa74f95cad29e1fdc",
       "version_major": 2,
       "version_minor": 0
      },
      "text/plain": [
       "Output()"
      ]
     },
     "metadata": {},
     "output_type": "display_data"
    }
   ],
   "source": [
    "%%display\n",
    "postLinks_df.limit(20)"
   ]
  },
  {
   "cell_type": "code",
   "execution_count": 70,
   "id": "26fbde10",
   "metadata": {},
   "outputs": [
    {
     "data": {
      "application/vnd.jupyter.widget-view+json": {
       "model_id": "3bb3aa04c0eb409e863897f8fdd244d2",
       "version_major": 2,
       "version_minor": 0
      },
      "text/plain": [
       "VBox()"
      ]
     },
     "metadata": {},
     "output_type": "display_data"
    },
    {
     "data": {
      "application/vnd.jupyter.widget-view+json": {
       "model_id": "",
       "version_major": 2,
       "version_minor": 0
      },
      "text/plain": [
       "FloatProgress(value=0.0, bar_style='info', description='Progress:', layout=Layout(height='25px', width='50%'),…"
      ]
     },
     "metadata": {},
     "output_type": "display_data"
    },
    {
     "name": "stdout",
     "output_type": "stream",
     "text": [
      "5338"
     ]
    }
   ],
   "source": [
    "postLinks_df.count()"
   ]
  },
  {
   "cell_type": "markdown",
   "id": "d124ea7e",
   "metadata": {},
   "source": [
    "### Save the data"
   ]
  },
  {
   "cell_type": "code",
   "execution_count": 71,
   "id": "180f7441",
   "metadata": {},
   "outputs": [
    {
     "data": {
      "application/vnd.jupyter.widget-view+json": {
       "model_id": "86675742a6c64920bb1b9e5dcd3abaab",
       "version_major": 2,
       "version_minor": 0
      },
      "text/plain": [
       "VBox()"
      ]
     },
     "metadata": {},
     "output_type": "display_data"
    },
    {
     "data": {
      "application/vnd.jupyter.widget-view+json": {
       "model_id": "",
       "version_major": 2,
       "version_minor": 0
      },
      "text/plain": [
       "FloatProgress(value=0.0, bar_style='info', description='Progress:', layout=Layout(height='25px', width='50%'),…"
      ]
     },
     "metadata": {},
     "output_type": "display_data"
    }
   ],
   "source": [
    "sink_path = \"s3://my-project-213242/cleaned/PostLinks/\"\n",
    "postLinks_df.write.mode(\"overwrite\").parquet(sink_path)"
   ]
  },
  {
   "cell_type": "markdown",
   "id": "89c69d4d",
   "metadata": {},
   "source": [
    "## 3.5. Badges"
   ]
  },
  {
   "cell_type": "markdown",
   "id": "86f131b6",
   "metadata": {},
   "source": [
    "### Load the data"
   ]
  },
  {
   "cell_type": "code",
   "execution_count": 72,
   "id": "ce269a3b",
   "metadata": {},
   "outputs": [
    {
     "data": {
      "application/vnd.jupyter.widget-view+json": {
       "model_id": "dbde157b57794201a6042bd776e330b1",
       "version_major": 2,
       "version_minor": 0
      },
      "text/plain": [
       "VBox()"
      ]
     },
     "metadata": {},
     "output_type": "display_data"
    },
    {
     "data": {
      "application/vnd.jupyter.widget-view+json": {
       "model_id": "",
       "version_major": 2,
       "version_minor": 0
      },
      "text/plain": [
       "FloatProgress(value=0.0, bar_style='info', description='Progress:', layout=Layout(height='25px', width='50%'),…"
      ]
     },
     "metadata": {},
     "output_type": "display_data"
    }
   ],
   "source": [
    "source_path = \"s3://my-project-213242/drop/Badges.xml\""
   ]
  },
  {
   "cell_type": "code",
   "execution_count": 73,
   "id": "267ea2c0",
   "metadata": {},
   "outputs": [
    {
     "data": {
      "application/vnd.jupyter.widget-view+json": {
       "model_id": "7060cee258ec4a2db3d1bb474ac1d08f",
       "version_major": 2,
       "version_minor": 0
      },
      "text/plain": [
       "VBox()"
      ]
     },
     "metadata": {},
     "output_type": "display_data"
    },
    {
     "data": {
      "application/vnd.jupyter.widget-view+json": {
       "model_id": "",
       "version_major": 2,
       "version_minor": 0
      },
      "text/plain": [
       "FloatProgress(value=0.0, bar_style='info', description='Progress:', layout=Layout(height='25px', width='50%'),…"
      ]
     },
     "metadata": {},
     "output_type": "display_data"
    }
   ],
   "source": [
    "schema_badges_df = StructType([\n",
    "                        StructField(\"_Class\",                 IntegerType()),\n",
    "                        StructField(\"_Date\",                  TimestampType()), \n",
    "                        StructField(\"_Id\",                    IntegerType()),\n",
    "                        StructField(\"_Name\",                  StringType()),\n",
    "                        StructField(\"_TagBased\",              BooleanType()),\n",
    "                        StructField(\"_UserId\",                IntegerType())\n",
    "    ])"
   ]
  },
  {
   "cell_type": "code",
   "execution_count": 74,
   "id": "cbd43c16",
   "metadata": {},
   "outputs": [
    {
     "data": {
      "application/vnd.jupyter.widget-view+json": {
       "model_id": "973e679f57c04d8e9e26f786641f0ded",
       "version_major": 2,
       "version_minor": 0
      },
      "text/plain": [
       "VBox()"
      ]
     },
     "metadata": {},
     "output_type": "display_data"
    },
    {
     "data": {
      "application/vnd.jupyter.widget-view+json": {
       "model_id": "",
       "version_major": 2,
       "version_minor": 0
      },
      "text/plain": [
       "FloatProgress(value=0.0, bar_style='info', description='Progress:', layout=Layout(height='25px', width='50%'),…"
      ]
     },
     "metadata": {},
     "output_type": "display_data"
    }
   ],
   "source": [
    "badges_df = (\n",
    "    spark.read.format(\"com.databricks.spark.xml\")\n",
    "    .option(\"rowTag\", \"row\")\n",
    "    .option(\"charset\", \"UTF8\")\n",
    "    .schema(schema_badges_df) \n",
    "    .option(\"treatEmptyValuesAsNulls\", \"true\")\n",
    "    .load(source_path)\n",
    "    .cache()\n",
    ")"
   ]
  },
  {
   "cell_type": "markdown",
   "id": "9369a926",
   "metadata": {},
   "source": [
    "- Delete _ from column names"
   ]
  },
  {
   "cell_type": "code",
   "execution_count": 75,
   "id": "365317b8",
   "metadata": {},
   "outputs": [
    {
     "data": {
      "application/vnd.jupyter.widget-view+json": {
       "model_id": "0ce368f2a8e84888948f354f44bc2ece",
       "version_major": 2,
       "version_minor": 0
      },
      "text/plain": [
       "VBox()"
      ]
     },
     "metadata": {},
     "output_type": "display_data"
    },
    {
     "data": {
      "application/vnd.jupyter.widget-view+json": {
       "model_id": "",
       "version_major": 2,
       "version_minor": 0
      },
      "text/plain": [
       "FloatProgress(value=0.0, bar_style='info', description='Progress:', layout=Layout(height='25px', width='50%'),…"
      ]
     },
     "metadata": {},
     "output_type": "display_data"
    }
   ],
   "source": [
    "badges_df = badges_df.select([F.col(col_name).alias(col_name.replace('_', '')) for col_name in badges_df.columns])"
   ]
  },
  {
   "cell_type": "markdown",
   "id": "c4c0476c",
   "metadata": {},
   "source": [
    "### Data exploration "
   ]
  },
  {
   "cell_type": "code",
   "execution_count": 76,
   "id": "8300a77d",
   "metadata": {},
   "outputs": [
    {
     "data": {
      "application/vnd.jupyter.widget-view+json": {
       "model_id": "7367dac518cf4aa5847d0aa7599fd442",
       "version_major": 2,
       "version_minor": 0
      },
      "text/plain": [
       "VBox()"
      ]
     },
     "metadata": {},
     "output_type": "display_data"
    },
    {
     "data": {
      "application/vnd.jupyter.widget-view+json": {
       "model_id": "",
       "version_major": 2,
       "version_minor": 0
      },
      "text/plain": [
       "FloatProgress(value=0.0, bar_style='info', description='Progress:', layout=Layout(height='25px', width='50%'),…"
      ]
     },
     "metadata": {},
     "output_type": "display_data"
    },
    {
     "name": "stdout",
     "output_type": "stream",
     "text": [
      "root\n",
      " |-- Class: integer (nullable = true)\n",
      " |-- Date: timestamp (nullable = true)\n",
      " |-- Id: integer (nullable = true)\n",
      " |-- Name: string (nullable = true)\n",
      " |-- TagBased: boolean (nullable = true)\n",
      " |-- UserId: integer (nullable = true)"
     ]
    }
   ],
   "source": [
    "badges_df.printSchema()"
   ]
  },
  {
   "cell_type": "code",
   "execution_count": 77,
   "id": "a24cdab2",
   "metadata": {},
   "outputs": [
    {
     "data": {
      "application/vnd.jupyter.widget-view+json": {
       "model_id": "89a0f40cb74c4b758badf1ec7f7ac5f0",
       "version_major": 2,
       "version_minor": 0
      },
      "text/plain": [
       "VBox()"
      ]
     },
     "metadata": {},
     "output_type": "display_data"
    },
    {
     "data": {
      "application/vnd.jupyter.widget-view+json": {
       "model_id": "",
       "version_major": 2,
       "version_minor": 0
      },
      "text/plain": [
       "FloatProgress(value=0.0, bar_style='info', description='Progress:', layout=Layout(height='25px', width='50%'),…"
      ]
     },
     "metadata": {},
     "output_type": "display_data"
    },
    {
     "name": "stdout",
     "output_type": "stream",
     "text": [
      "+-----+-----------------------+---+--------------+--------+------+\n",
      "|Class|Date                   |Id |Name          |TagBased|UserId|\n",
      "+-----+-----------------------+---+--------------+--------+------+\n",
      "|3    |2011-11-30 18:10:25.763|1  |Autobiographer|false   |1     |\n",
      "|3    |2011-11-30 18:15:25.777|2  |Autobiographer|false   |2     |\n",
      "|3    |2011-11-30 18:15:25.777|3  |Autobiographer|false   |3     |\n",
      "|3    |2011-11-30 18:45:38.023|4  |Autobiographer|false   |5     |\n",
      "|3    |2011-11-30 18:45:38.023|5  |Autobiographer|false   |7     |\n",
      "|3    |2011-11-30 18:50:37.927|6  |Autobiographer|false   |8     |\n",
      "|3    |2011-11-30 18:50:37.927|7  |Autobiographer|false   |13    |\n",
      "|3    |2011-11-30 18:50:37.927|8  |Autobiographer|false   |17    |\n",
      "|3    |2011-11-30 18:50:37.927|9  |Autobiographer|false   |18    |\n",
      "|3    |2011-11-30 18:50:37.927|10 |Autobiographer|false   |19    |\n",
      "|3    |2011-11-30 18:55:37.94 |11 |Autobiographer|false   |22    |\n",
      "|3    |2011-11-30 18:55:37.94 |12 |Autobiographer|false   |23    |\n",
      "|3    |2011-11-30 19:00:42.29 |13 |Precognitive  |false   |27    |\n",
      "|3    |2011-11-30 19:00:42.307|14 |Precognitive  |false   |9     |\n",
      "|3    |2011-11-30 19:00:42.307|15 |Precognitive  |false   |20    |\n",
      "|3    |2011-11-30 19:00:50.467|16 |Autobiographer|false   |24    |\n",
      "|3    |2011-11-30 19:00:50.467|17 |Autobiographer|false   |26    |\n",
      "|3    |2011-11-30 19:00:50.467|18 |Autobiographer|false   |27    |\n",
      "|3    |2011-11-30 19:00:50.467|19 |Autobiographer|false   |28    |\n",
      "|3    |2011-11-30 19:05:50.243|20 |Autobiographer|false   |30    |\n",
      "+-----+-----------------------+---+--------------+--------+------+"
     ]
    }
   ],
   "source": [
    "badges_df.limit(20).show(truncate=False)"
   ]
  },
  {
   "cell_type": "code",
   "execution_count": 78,
   "id": "ffd43cc1",
   "metadata": {},
   "outputs": [
    {
     "data": {
      "application/vnd.jupyter.widget-view+json": {
       "model_id": "049f72a0440e462b9ddddb128f09c1c9",
       "version_major": 2,
       "version_minor": 0
      },
      "text/plain": [
       "VBox()"
      ]
     },
     "metadata": {},
     "output_type": "display_data"
    },
    {
     "data": {
      "application/vnd.jupyter.widget-view+json": {
       "model_id": "",
       "version_major": 2,
       "version_minor": 0
      },
      "text/plain": [
       "FloatProgress(value=0.0, bar_style='info', description='Progress:', layout=Layout(height='25px', width='50%'),…"
      ]
     },
     "metadata": {},
     "output_type": "display_data"
    },
    {
     "name": "stdout",
     "output_type": "stream",
     "text": [
      "153357"
     ]
    }
   ],
   "source": [
    "badges_df.count()"
   ]
  },
  {
   "cell_type": "markdown",
   "id": "751e21f1",
   "metadata": {},
   "source": [
    "- Class\n",
    " - 1 = Gold\n",
    " - 2 = Silver\n",
    " - 3 = Bronze"
   ]
  },
  {
   "cell_type": "code",
   "execution_count": 79,
   "id": "23f72460",
   "metadata": {},
   "outputs": [
    {
     "data": {
      "application/vnd.jupyter.widget-view+json": {
       "model_id": "18d8bc63784244038c5affdabfecf523",
       "version_major": 2,
       "version_minor": 0
      },
      "text/plain": [
       "VBox()"
      ]
     },
     "metadata": {},
     "output_type": "display_data"
    },
    {
     "data": {
      "application/vnd.jupyter.widget-view+json": {
       "model_id": "",
       "version_major": 2,
       "version_minor": 0
      },
      "text/plain": [
       "FloatProgress(value=0.0, bar_style='info', description='Progress:', layout=Layout(height='25px', width='50%'),…"
      ]
     },
     "metadata": {},
     "output_type": "display_data"
    },
    {
     "name": "stdout",
     "output_type": "stream",
     "text": [
      "+-----+------+\n",
      "|Class| count|\n",
      "+-----+------+\n",
      "|    1|  3789|\n",
      "|    3|119841|\n",
      "|    2| 29727|\n",
      "+-----+------+"
     ]
    }
   ],
   "source": [
    "badges_df.groupBy('Class').count().show()"
   ]
  },
  {
   "cell_type": "markdown",
   "id": "8afdb96f",
   "metadata": {},
   "source": [
    "### Cleaning results"
   ]
  },
  {
   "cell_type": "code",
   "execution_count": 80,
   "id": "0a64fe10",
   "metadata": {},
   "outputs": [
    {
     "data": {
      "application/vnd.jupyter.widget-view+json": {
       "model_id": "a5ce8e9897d841958b61f0c81618610f",
       "version_major": 2,
       "version_minor": 0
      },
      "text/plain": [
       "VBox()"
      ]
     },
     "metadata": {},
     "output_type": "display_data"
    },
    {
     "data": {
      "application/vnd.jupyter.widget-view+json": {
       "model_id": "",
       "version_major": 2,
       "version_minor": 0
      },
      "text/plain": [
       "FloatProgress(value=0.0, bar_style='info', description='Progress:', layout=Layout(height='25px', width='50%'),…"
      ]
     },
     "metadata": {},
     "output_type": "display_data"
    },
    {
     "name": "stdout",
     "output_type": "stream",
     "text": [
      "root\n",
      " |-- Class: integer (nullable = true)\n",
      " |-- Date: timestamp (nullable = true)\n",
      " |-- Id: integer (nullable = true)\n",
      " |-- Name: string (nullable = true)\n",
      " |-- TagBased: boolean (nullable = true)\n",
      " |-- UserId: integer (nullable = true)"
     ]
    }
   ],
   "source": [
    "badges_df.printSchema()"
   ]
  },
  {
   "cell_type": "code",
   "execution_count": 81,
   "id": "462478d8",
   "metadata": {},
   "outputs": [
    {
     "data": {
      "application/vnd.jupyter.widget-view+json": {
       "model_id": "f3b3c9f3cf4a49db8adafd1739bcf679",
       "version_major": 2,
       "version_minor": 0
      },
      "text/plain": [
       "VBox()"
      ]
     },
     "metadata": {},
     "output_type": "display_data"
    },
    {
     "data": {
      "application/vnd.jupyter.widget-view+json": {
       "model_id": "",
       "version_major": 2,
       "version_minor": 0
      },
      "text/plain": [
       "FloatProgress(value=0.0, bar_style='info', description='Progress:', layout=Layout(height='25px', width='50%'),…"
      ]
     },
     "metadata": {},
     "output_type": "display_data"
    },
    {
     "name": "stdout",
     "output_type": "stream",
     "text": [
      "-RECORD 0-----\n",
      " Class  | 0   \n",
      " Id     | 0   \n",
      " Name   | 0   \n",
      " UserId | 0"
     ]
    }
   ],
   "source": [
    "df = badges_df\n",
    "cols_nums = [col[0] for col in df.dtypes if col[1] in ('bigint', 'int', 'string')]\n",
    "df = df.select([F.count(F.when(F.isnan(c) | F.col(c).isNull(), c)).alias(c) for c in cols_nums])\n",
    "df.show(vertical=True)"
   ]
  },
  {
   "cell_type": "code",
   "execution_count": 82,
   "id": "13e3babe",
   "metadata": {},
   "outputs": [
    {
     "data": {
      "application/vnd.jupyter.widget-view+json": {
       "model_id": "c2cc1bbd1f994255a589945ec2e892b5",
       "version_major": 2,
       "version_minor": 0
      },
      "text/plain": [
       "VBox()"
      ]
     },
     "metadata": {},
     "output_type": "display_data"
    },
    {
     "data": {
      "application/vnd.jupyter.widget-view+json": {
       "model_id": "",
       "version_major": 2,
       "version_minor": 0
      },
      "text/plain": [
       "FloatProgress(value=0.0, bar_style='info', description='Progress:', layout=Layout(height='25px', width='50%'),…"
      ]
     },
     "metadata": {},
     "output_type": "display_data"
    },
    {
     "name": "stdout",
     "output_type": "stream",
     "text": [
      "+-----+-----------------------+---+--------------+--------+------+\n",
      "|Class|Date                   |Id |Name          |TagBased|UserId|\n",
      "+-----+-----------------------+---+--------------+--------+------+\n",
      "|3    |2011-11-30 18:10:25.763|1  |Autobiographer|false   |1     |\n",
      "|3    |2011-11-30 18:15:25.777|2  |Autobiographer|false   |2     |\n",
      "|3    |2011-11-30 18:15:25.777|3  |Autobiographer|false   |3     |\n",
      "|3    |2011-11-30 18:45:38.023|4  |Autobiographer|false   |5     |\n",
      "|3    |2011-11-30 18:45:38.023|5  |Autobiographer|false   |7     |\n",
      "|3    |2011-11-30 18:50:37.927|6  |Autobiographer|false   |8     |\n",
      "|3    |2011-11-30 18:50:37.927|7  |Autobiographer|false   |13    |\n",
      "|3    |2011-11-30 18:50:37.927|8  |Autobiographer|false   |17    |\n",
      "|3    |2011-11-30 18:50:37.927|9  |Autobiographer|false   |18    |\n",
      "|3    |2011-11-30 18:50:37.927|10 |Autobiographer|false   |19    |\n",
      "|3    |2011-11-30 18:55:37.94 |11 |Autobiographer|false   |22    |\n",
      "|3    |2011-11-30 18:55:37.94 |12 |Autobiographer|false   |23    |\n",
      "|3    |2011-11-30 19:00:42.29 |13 |Precognitive  |false   |27    |\n",
      "|3    |2011-11-30 19:00:42.307|14 |Precognitive  |false   |9     |\n",
      "|3    |2011-11-30 19:00:42.307|15 |Precognitive  |false   |20    |\n",
      "|3    |2011-11-30 19:00:50.467|16 |Autobiographer|false   |24    |\n",
      "|3    |2011-11-30 19:00:50.467|17 |Autobiographer|false   |26    |\n",
      "|3    |2011-11-30 19:00:50.467|18 |Autobiographer|false   |27    |\n",
      "|3    |2011-11-30 19:00:50.467|19 |Autobiographer|false   |28    |\n",
      "|3    |2011-11-30 19:05:50.243|20 |Autobiographer|false   |30    |\n",
      "+-----+-----------------------+---+--------------+--------+------+"
     ]
    }
   ],
   "source": [
    "badges_df.limit(20).show(truncate=False)"
   ]
  },
  {
   "cell_type": "code",
   "execution_count": 83,
   "id": "c61b221c",
   "metadata": {},
   "outputs": [
    {
     "data": {
      "application/vnd.jupyter.widget-view+json": {
       "model_id": "f70c3f84db3a425e8144e573e1cd86bb",
       "version_major": 2,
       "version_minor": 0
      },
      "text/plain": [
       "VBox()"
      ]
     },
     "metadata": {},
     "output_type": "display_data"
    },
    {
     "data": {
      "application/vnd.jupyter.widget-view+json": {
       "model_id": "",
       "version_major": 2,
       "version_minor": 0
      },
      "text/plain": [
       "FloatProgress(value=0.0, bar_style='info', description='Progress:', layout=Layout(height='25px', width='50%'),…"
      ]
     },
     "metadata": {},
     "output_type": "display_data"
    },
    {
     "name": "stdout",
     "output_type": "stream",
     "text": [
      "153357"
     ]
    }
   ],
   "source": [
    "badges_df.count()"
   ]
  },
  {
   "cell_type": "markdown",
   "id": "5e38cdf4",
   "metadata": {},
   "source": [
    "### Save the data"
   ]
  },
  {
   "cell_type": "code",
   "execution_count": 84,
   "id": "a5c5b8d0",
   "metadata": {},
   "outputs": [
    {
     "data": {
      "application/vnd.jupyter.widget-view+json": {
       "model_id": "3135f8fecd4e4173a70c2f79520ba5d6",
       "version_major": 2,
       "version_minor": 0
      },
      "text/plain": [
       "VBox()"
      ]
     },
     "metadata": {},
     "output_type": "display_data"
    },
    {
     "data": {
      "application/vnd.jupyter.widget-view+json": {
       "model_id": "",
       "version_major": 2,
       "version_minor": 0
      },
      "text/plain": [
       "FloatProgress(value=0.0, bar_style='info', description='Progress:', layout=Layout(height='25px', width='50%'),…"
      ]
     },
     "metadata": {},
     "output_type": "display_data"
    }
   ],
   "source": [
    "sink_path = \"s3://my-project-213242/cleaned/Badges/\"\n",
    "badges_df.write.mode(\"overwrite\").parquet(sink_path)"
   ]
  },
  {
   "cell_type": "markdown",
   "id": "a1e0d94c",
   "metadata": {},
   "source": [
    "## 3.6. Tags"
   ]
  },
  {
   "cell_type": "markdown",
   "id": "2e4601ec",
   "metadata": {},
   "source": [
    "### Load the data"
   ]
  },
  {
   "cell_type": "code",
   "execution_count": 85,
   "id": "06804314",
   "metadata": {},
   "outputs": [
    {
     "data": {
      "application/vnd.jupyter.widget-view+json": {
       "model_id": "d99041b685014416b978504fa7d92956",
       "version_major": 2,
       "version_minor": 0
      },
      "text/plain": [
       "VBox()"
      ]
     },
     "metadata": {},
     "output_type": "display_data"
    },
    {
     "data": {
      "application/vnd.jupyter.widget-view+json": {
       "model_id": "",
       "version_major": 2,
       "version_minor": 0
      },
      "text/plain": [
       "FloatProgress(value=0.0, bar_style='info', description='Progress:', layout=Layout(height='25px', width='50%'),…"
      ]
     },
     "metadata": {},
     "output_type": "display_data"
    }
   ],
   "source": [
    "source_path = \"s3://my-project-213242/drop/Tags.xml\""
   ]
  },
  {
   "cell_type": "code",
   "execution_count": 86,
   "id": "2bcf2196",
   "metadata": {},
   "outputs": [
    {
     "data": {
      "application/vnd.jupyter.widget-view+json": {
       "model_id": "1a7a90ecf4254d348032735755f3549a",
       "version_major": 2,
       "version_minor": 0
      },
      "text/plain": [
       "VBox()"
      ]
     },
     "metadata": {},
     "output_type": "display_data"
    },
    {
     "data": {
      "application/vnd.jupyter.widget-view+json": {
       "model_id": "",
       "version_major": 2,
       "version_minor": 0
      },
      "text/plain": [
       "FloatProgress(value=0.0, bar_style='info', description='Progress:', layout=Layout(height='25px', width='50%'),…"
      ]
     },
     "metadata": {},
     "output_type": "display_data"
    }
   ],
   "source": [
    "schema_tags_df = StructType([\n",
    "                        StructField(\"_Count\",                 IntegerType()),\n",
    "                        StructField(\"_ExcerptPostId\",          IntegerType()),\n",
    "                        StructField(\"_Id\",                    IntegerType()),\n",
    "                        StructField(\"_TagName\",                StringType()),\n",
    "                        StructField(\"_WikiPostId\",             IntegerType())\n",
    "    ])"
   ]
  },
  {
   "cell_type": "code",
   "execution_count": 87,
   "id": "d02c470c",
   "metadata": {},
   "outputs": [
    {
     "data": {
      "application/vnd.jupyter.widget-view+json": {
       "model_id": "c20019c4b7b740ddb0d894362ce9311e",
       "version_major": 2,
       "version_minor": 0
      },
      "text/plain": [
       "VBox()"
      ]
     },
     "metadata": {},
     "output_type": "display_data"
    },
    {
     "data": {
      "application/vnd.jupyter.widget-view+json": {
       "model_id": "",
       "version_major": 2,
       "version_minor": 0
      },
      "text/plain": [
       "FloatProgress(value=0.0, bar_style='info', description='Progress:', layout=Layout(height='25px', width='50%'),…"
      ]
     },
     "metadata": {},
     "output_type": "display_data"
    }
   ],
   "source": [
    "tags_df = (\n",
    "    spark.read.format(\"com.databricks.spark.xml\")\n",
    "    .option(\"rowTag\", \"row\")\n",
    "    .option(\"charset\", \"UTF8\")\n",
    "    .schema(schema_tags_df) \n",
    "    .option(\"treatEmptyValuesAsNulls\", \"true\")\n",
    "    .load(source_path)\n",
    "    .cache()\n",
    ")"
   ]
  },
  {
   "cell_type": "markdown",
   "id": "a954f55b",
   "metadata": {},
   "source": [
    "- Delete _ from column names"
   ]
  },
  {
   "cell_type": "code",
   "execution_count": 88,
   "id": "df7c6e0b",
   "metadata": {},
   "outputs": [
    {
     "data": {
      "application/vnd.jupyter.widget-view+json": {
       "model_id": "4e9b0e64f01a475c9b5887a6453ae15c",
       "version_major": 2,
       "version_minor": 0
      },
      "text/plain": [
       "VBox()"
      ]
     },
     "metadata": {},
     "output_type": "display_data"
    },
    {
     "data": {
      "application/vnd.jupyter.widget-view+json": {
       "model_id": "",
       "version_major": 2,
       "version_minor": 0
      },
      "text/plain": [
       "FloatProgress(value=0.0, bar_style='info', description='Progress:', layout=Layout(height='25px', width='50%'),…"
      ]
     },
     "metadata": {},
     "output_type": "display_data"
    }
   ],
   "source": [
    "tags_df = tags_df.select([F.col(col_name).alias(col_name.replace('_', '')) for col_name in tags_df.columns])"
   ]
  },
  {
   "cell_type": "markdown",
   "id": "6f2520a0",
   "metadata": {},
   "source": [
    "### Data exploration"
   ]
  },
  {
   "cell_type": "code",
   "execution_count": 89,
   "id": "679ceb27",
   "metadata": {},
   "outputs": [
    {
     "data": {
      "application/vnd.jupyter.widget-view+json": {
       "model_id": "c848091392fd4404949954267e30e2d4",
       "version_major": 2,
       "version_minor": 0
      },
      "text/plain": [
       "VBox()"
      ]
     },
     "metadata": {},
     "output_type": "display_data"
    },
    {
     "data": {
      "application/vnd.jupyter.widget-view+json": {
       "model_id": "",
       "version_major": 2,
       "version_minor": 0
      },
      "text/plain": [
       "FloatProgress(value=0.0, bar_style='info', description='Progress:', layout=Layout(height='25px', width='50%'),…"
      ]
     },
     "metadata": {},
     "output_type": "display_data"
    },
    {
     "name": "stdout",
     "output_type": "stream",
     "text": [
      "root\n",
      " |-- Count: integer (nullable = true)\n",
      " |-- ExcerptPostId: integer (nullable = true)\n",
      " |-- Id: integer (nullable = true)\n",
      " |-- TagName: string (nullable = true)\n",
      " |-- WikiPostId: integer (nullable = true)"
     ]
    }
   ],
   "source": [
    "tags_df.printSchema()"
   ]
  },
  {
   "cell_type": "code",
   "execution_count": 90,
   "id": "c403c390",
   "metadata": {},
   "outputs": [
    {
     "data": {
      "application/vnd.jupyter.widget-view+json": {
       "model_id": "307d329cc982463b80154578d506e8e6",
       "version_major": 2,
       "version_minor": 0
      },
      "text/plain": [
       "VBox()"
      ]
     },
     "metadata": {},
     "output_type": "display_data"
    },
    {
     "data": {
      "application/vnd.jupyter.widget-view+json": {
       "model_id": "",
       "version_major": 2,
       "version_minor": 0
      },
      "text/plain": [
       "FloatProgress(value=0.0, bar_style='info', description='Progress:', layout=Layout(height='25px', width='50%'),…"
      ]
     },
     "metadata": {},
     "output_type": "display_data"
    },
    {
     "name": "stdout",
     "output_type": "stream",
     "text": [
      "+-----+-------------+---+------------------+----------+\n",
      "|Count|ExcerptPostId|Id |TagName           |WikiPostId|\n",
      "+-----+-------------+---+------------------+----------+\n",
      "|66   |280          |1  |comedy            |279       |\n",
      "|1372 |113          |2  |analysis          |112       |\n",
      "|323  |233          |5  |ending            |232       |\n",
      "|6    |55014        |8  |the-tree-of-life  |55013     |\n",
      "|430  |74           |9  |star-wars         |73        |\n",
      "|44   |4281         |10 |action            |4280      |\n",
      "|21   |284          |12 |stanley-kubrick   |283       |\n",
      "|246  |1719         |14 |casting           |1718      |\n",
      "|54   |104          |22 |pulp-fiction      |103       |\n",
      "|23   |186          |23 |quentin-tarantino |185       |\n",
      "|130  |94           |28 |book-adaptation   |93        |\n",
      "|8130 |430          |32 |plot-explanation  |429       |\n",
      "|75   |41           |34 |the-matrix        |40        |\n",
      "|29   |395          |35 |sequels           |394       |\n",
      "|541  |1717         |40 |film-techniques   |1716      |\n",
      "|88   |1721         |42 |the-dark-knight   |1720      |\n",
      "|144  |21351        |45 |cinematography    |21350     |\n",
      "|11   |184          |50 |the-sixth-sense   |183       |\n",
      "|47   |188          |53 |back-to-the-future|187       |\n",
      "|45   |399          |55 |kill-bill         |398       |\n",
      "+-----+-------------+---+------------------+----------+"
     ]
    }
   ],
   "source": [
    "tags_df.limit(20).show(truncate=False)"
   ]
  },
  {
   "cell_type": "code",
   "execution_count": 91,
   "id": "30769417",
   "metadata": {},
   "outputs": [
    {
     "data": {
      "application/vnd.jupyter.widget-view+json": {
       "model_id": "cbef8d11e59d44f2ac1a4adbda25d89e",
       "version_major": 2,
       "version_minor": 0
      },
      "text/plain": [
       "VBox()"
      ]
     },
     "metadata": {},
     "output_type": "display_data"
    },
    {
     "data": {
      "application/vnd.jupyter.widget-view+json": {
       "model_id": "",
       "version_major": 2,
       "version_minor": 0
      },
      "text/plain": [
       "FloatProgress(value=0.0, bar_style='info', description='Progress:', layout=Layout(height='25px', width='50%'),…"
      ]
     },
     "metadata": {},
     "output_type": "display_data"
    },
    {
     "name": "stdout",
     "output_type": "stream",
     "text": [
      "4619"
     ]
    }
   ],
   "source": [
    "tags_df.count()"
   ]
  },
  {
   "cell_type": "markdown",
   "id": "de930171",
   "metadata": {},
   "source": [
    "### Data cleaning"
   ]
  },
  {
   "cell_type": "markdown",
   "id": "9134f809",
   "metadata": {},
   "source": [
    "- Fill missing ID values (`ExcerptPostId`, `WikiPostId`) with -1"
   ]
  },
  {
   "cell_type": "code",
   "execution_count": 92,
   "id": "8e1d4c7f",
   "metadata": {
    "scrolled": true
   },
   "outputs": [
    {
     "data": {
      "application/vnd.jupyter.widget-view+json": {
       "model_id": "fccbff3bbc294414b6351c3f5707a351",
       "version_major": 2,
       "version_minor": 0
      },
      "text/plain": [
       "VBox()"
      ]
     },
     "metadata": {},
     "output_type": "display_data"
    },
    {
     "data": {
      "application/vnd.jupyter.widget-view+json": {
       "model_id": "",
       "version_major": 2,
       "version_minor": 0
      },
      "text/plain": [
       "FloatProgress(value=0.0, bar_style='info', description='Progress:', layout=Layout(height='25px', width='50%'),…"
      ]
     },
     "metadata": {},
     "output_type": "display_data"
    }
   ],
   "source": [
    "tags_df = tags_df.na.fill(-1, subset=['ExcerptPostId', 'WikiPostId'])"
   ]
  },
  {
   "cell_type": "markdown",
   "id": "e6d86787",
   "metadata": {},
   "source": [
    "### Cleaning results"
   ]
  },
  {
   "cell_type": "code",
   "execution_count": 93,
   "id": "20bb8abd",
   "metadata": {},
   "outputs": [
    {
     "data": {
      "application/vnd.jupyter.widget-view+json": {
       "model_id": "f69eded858a746a28b735460d6e3882d",
       "version_major": 2,
       "version_minor": 0
      },
      "text/plain": [
       "VBox()"
      ]
     },
     "metadata": {},
     "output_type": "display_data"
    },
    {
     "data": {
      "application/vnd.jupyter.widget-view+json": {
       "model_id": "",
       "version_major": 2,
       "version_minor": 0
      },
      "text/plain": [
       "FloatProgress(value=0.0, bar_style='info', description='Progress:', layout=Layout(height='25px', width='50%'),…"
      ]
     },
     "metadata": {},
     "output_type": "display_data"
    },
    {
     "name": "stdout",
     "output_type": "stream",
     "text": [
      "root\n",
      " |-- Count: integer (nullable = true)\n",
      " |-- ExcerptPostId: integer (nullable = true)\n",
      " |-- Id: integer (nullable = true)\n",
      " |-- TagName: string (nullable = true)\n",
      " |-- WikiPostId: integer (nullable = true)"
     ]
    }
   ],
   "source": [
    "tags_df.printSchema()"
   ]
  },
  {
   "cell_type": "code",
   "execution_count": 94,
   "id": "5960cc58",
   "metadata": {},
   "outputs": [
    {
     "data": {
      "application/vnd.jupyter.widget-view+json": {
       "model_id": "b35bc622d3554619887f8cd3c693e289",
       "version_major": 2,
       "version_minor": 0
      },
      "text/plain": [
       "VBox()"
      ]
     },
     "metadata": {},
     "output_type": "display_data"
    },
    {
     "data": {
      "application/vnd.jupyter.widget-view+json": {
       "model_id": "",
       "version_major": 2,
       "version_minor": 0
      },
      "text/plain": [
       "FloatProgress(value=0.0, bar_style='info', description='Progress:', layout=Layout(height='25px', width='50%'),…"
      ]
     },
     "metadata": {},
     "output_type": "display_data"
    },
    {
     "name": "stdout",
     "output_type": "stream",
     "text": [
      "-RECORD 0------------\n",
      " Count         | 0   \n",
      " ExcerptPostId | 0   \n",
      " Id            | 0   \n",
      " TagName       | 0   \n",
      " WikiPostId    | 0"
     ]
    }
   ],
   "source": [
    "df = tags_df\n",
    "cols_nums = [col[0] for col in df.dtypes if col[1] in ('bigint', 'int', 'string')]\n",
    "df = df.select([F.count(F.when(F.isnan(c) | F.col(c).isNull(), c)).alias(c) for c in cols_nums])\n",
    "df.show(vertical=True)"
   ]
  },
  {
   "cell_type": "code",
   "execution_count": 95,
   "id": "1bcdd96a",
   "metadata": {},
   "outputs": [
    {
     "data": {
      "application/vnd.jupyter.widget-view+json": {
       "model_id": "",
       "version_major": 2,
       "version_minor": 0
      },
      "text/plain": [
       "FloatProgress(value=0.0, bar_style='info', description='Progress:', layout=Layout(height='25px', width='50%'),…"
      ]
     },
     "metadata": {},
     "output_type": "display_data"
    },
    {
     "data": {
      "text/html": [
       "<style>.jp-OutputArea-child .jupyter-widgets.jp-OutputArea-output { overflow: auto; }</style>"
      ],
      "text/plain": [
       "<IPython.core.display.HTML object>"
      ]
     },
     "metadata": {},
     "output_type": "display_data"
    },
    {
     "data": {
      "application/vnd.jupyter.widget-view+json": {
       "model_id": "0bc03a5e69fe4f1c87019825f629fe06",
       "version_major": 2,
       "version_minor": 0
      },
      "text/plain": [
       "VBox(children=(HBox(children=(HTML(value='Type:'), Button(description='Table', layout=Layout(width='70px'), st…"
      ]
     },
     "metadata": {},
     "output_type": "display_data"
    },
    {
     "data": {
      "application/vnd.jupyter.widget-view+json": {
       "model_id": "cc6949f6bd5a430bb7ae2cbfaec2ffed",
       "version_major": 2,
       "version_minor": 0
      },
      "text/plain": [
       "Output()"
      ]
     },
     "metadata": {},
     "output_type": "display_data"
    }
   ],
   "source": [
    "%%display\n",
    "tags_df.limit(20)"
   ]
  },
  {
   "cell_type": "code",
   "execution_count": 96,
   "id": "56a713ec",
   "metadata": {},
   "outputs": [
    {
     "data": {
      "application/vnd.jupyter.widget-view+json": {
       "model_id": "57be202016b6459cad03dea73812591a",
       "version_major": 2,
       "version_minor": 0
      },
      "text/plain": [
       "VBox()"
      ]
     },
     "metadata": {},
     "output_type": "display_data"
    },
    {
     "data": {
      "application/vnd.jupyter.widget-view+json": {
       "model_id": "",
       "version_major": 2,
       "version_minor": 0
      },
      "text/plain": [
       "FloatProgress(value=0.0, bar_style='info', description='Progress:', layout=Layout(height='25px', width='50%'),…"
      ]
     },
     "metadata": {},
     "output_type": "display_data"
    },
    {
     "name": "stdout",
     "output_type": "stream",
     "text": [
      "4619"
     ]
    }
   ],
   "source": [
    "tags_df.count()"
   ]
  },
  {
   "cell_type": "markdown",
   "id": "78d809e5",
   "metadata": {},
   "source": [
    "### Save the data"
   ]
  },
  {
   "cell_type": "code",
   "execution_count": 97,
   "id": "1d6ba0cc",
   "metadata": {},
   "outputs": [
    {
     "data": {
      "application/vnd.jupyter.widget-view+json": {
       "model_id": "33241a68451f435bb6426cdc9dd79cf8",
       "version_major": 2,
       "version_minor": 0
      },
      "text/plain": [
       "VBox()"
      ]
     },
     "metadata": {},
     "output_type": "display_data"
    },
    {
     "data": {
      "application/vnd.jupyter.widget-view+json": {
       "model_id": "",
       "version_major": 2,
       "version_minor": 0
      },
      "text/plain": [
       "FloatProgress(value=0.0, bar_style='info', description='Progress:', layout=Layout(height='25px', width='50%'),…"
      ]
     },
     "metadata": {},
     "output_type": "display_data"
    }
   ],
   "source": [
    "sink_path = \"s3://my-project-213242/cleaned/Tags/\"\n",
    "tags_df.write.mode(\"overwrite\").parquet(sink_path)"
   ]
  },
  {
   "cell_type": "markdown",
   "id": "72d7f875",
   "metadata": {},
   "source": [
    "## 3.7. Users"
   ]
  },
  {
   "cell_type": "markdown",
   "id": "d269a6e0",
   "metadata": {},
   "source": [
    "### Load the data"
   ]
  },
  {
   "cell_type": "code",
   "execution_count": 98,
   "id": "38871b1b",
   "metadata": {},
   "outputs": [
    {
     "data": {
      "application/vnd.jupyter.widget-view+json": {
       "model_id": "7c739b8847404fdb9a52ffea1f465c31",
       "version_major": 2,
       "version_minor": 0
      },
      "text/plain": [
       "VBox()"
      ]
     },
     "metadata": {},
     "output_type": "display_data"
    },
    {
     "data": {
      "application/vnd.jupyter.widget-view+json": {
       "model_id": "",
       "version_major": 2,
       "version_minor": 0
      },
      "text/plain": [
       "FloatProgress(value=0.0, bar_style='info', description='Progress:', layout=Layout(height='25px', width='50%'),…"
      ]
     },
     "metadata": {},
     "output_type": "display_data"
    }
   ],
   "source": [
    "source_path = \"s3://my-project-213242/drop/Users.xml\""
   ]
  },
  {
   "cell_type": "code",
   "execution_count": 99,
   "id": "6c8d114e",
   "metadata": {},
   "outputs": [
    {
     "data": {
      "application/vnd.jupyter.widget-view+json": {
       "model_id": "1800992d186f468eb48ec2e81f73e37b",
       "version_major": 2,
       "version_minor": 0
      },
      "text/plain": [
       "VBox()"
      ]
     },
     "metadata": {},
     "output_type": "display_data"
    },
    {
     "data": {
      "application/vnd.jupyter.widget-view+json": {
       "model_id": "",
       "version_major": 2,
       "version_minor": 0
      },
      "text/plain": [
       "FloatProgress(value=0.0, bar_style='info', description='Progress:', layout=Layout(height='25px', width='50%'),…"
      ]
     },
     "metadata": {},
     "output_type": "display_data"
    }
   ],
   "source": [
    "schema_users_df = StructType([\n",
    "                        StructField(\"_AboutMe\",        StringType()), \n",
    "                        StructField(\"_AccountId\",      IntegerType()), \n",
    "                        StructField(\"_CreationDate\",   TimestampType()), \n",
    "                        StructField(\"_DisplayName\",    StringType()), \n",
    "                        StructField(\"_DownVotes\",      IntegerType()), \n",
    "                        StructField(\"_Id\",             IntegerType()), \n",
    "                        StructField(\"_LastAccessDate\", TimestampType()), \n",
    "                        StructField(\"_Location\",       StringType()), \n",
    "                        StructField(\"_Reputation\",     IntegerType()), \n",
    "                        StructField(\"_UpVotes\",        IntegerType()), \n",
    "                        StructField(\"_Views\",          IntegerType()), \n",
    "                        StructField(\"_WebsiteUrl\",     StringType())\n",
    "    ])"
   ]
  },
  {
   "cell_type": "code",
   "execution_count": 100,
   "id": "99d17579",
   "metadata": {},
   "outputs": [
    {
     "data": {
      "application/vnd.jupyter.widget-view+json": {
       "model_id": "5bdc374500854138877082b2efc0f164",
       "version_major": 2,
       "version_minor": 0
      },
      "text/plain": [
       "VBox()"
      ]
     },
     "metadata": {},
     "output_type": "display_data"
    },
    {
     "data": {
      "application/vnd.jupyter.widget-view+json": {
       "model_id": "",
       "version_major": 2,
       "version_minor": 0
      },
      "text/plain": [
       "FloatProgress(value=0.0, bar_style='info', description='Progress:', layout=Layout(height='25px', width='50%'),…"
      ]
     },
     "metadata": {},
     "output_type": "display_data"
    }
   ],
   "source": [
    "users_df = (\n",
    "    spark.read.format(\"com.databricks.spark.xml\")\n",
    "    .option(\"rowTag\", \"row\")\n",
    "    .option(\"charset\", \"UTF8\")\n",
    "    .schema(schema_users_df)\n",
    "    .option(\"treatEmptyValuesAsNulls\", \"true\")\n",
    "    .load(source_path)\n",
    "    .cache()\n",
    ")"
   ]
  },
  {
   "cell_type": "markdown",
   "id": "7ecf054d",
   "metadata": {},
   "source": [
    "- Delete _ from column names"
   ]
  },
  {
   "cell_type": "code",
   "execution_count": 101,
   "id": "931b2f13",
   "metadata": {},
   "outputs": [
    {
     "data": {
      "application/vnd.jupyter.widget-view+json": {
       "model_id": "5d5af80327b3424d8530fa6ec00685cd",
       "version_major": 2,
       "version_minor": 0
      },
      "text/plain": [
       "VBox()"
      ]
     },
     "metadata": {},
     "output_type": "display_data"
    },
    {
     "data": {
      "application/vnd.jupyter.widget-view+json": {
       "model_id": "",
       "version_major": 2,
       "version_minor": 0
      },
      "text/plain": [
       "FloatProgress(value=0.0, bar_style='info', description='Progress:', layout=Layout(height='25px', width='50%'),…"
      ]
     },
     "metadata": {},
     "output_type": "display_data"
    }
   ],
   "source": [
    "users_df = users_df.select([F.col(col_name).alias(col_name.replace('_', '')) for col_name in users_df.columns])"
   ]
  },
  {
   "cell_type": "markdown",
   "id": "e4a59fcb",
   "metadata": {},
   "source": [
    "### Data exploration "
   ]
  },
  {
   "cell_type": "markdown",
   "id": "b91af32c",
   "metadata": {},
   "source": [
    "- `user_id` is the Id of the user on the specific site. \n",
    "- `account_id`, is the way to link these two users on the entire Stack Exchange Network. "
   ]
  },
  {
   "cell_type": "code",
   "execution_count": 102,
   "id": "ca41cd52",
   "metadata": {},
   "outputs": [
    {
     "data": {
      "application/vnd.jupyter.widget-view+json": {
       "model_id": "c4978cfd31da4c8c93869048d4cfd05f",
       "version_major": 2,
       "version_minor": 0
      },
      "text/plain": [
       "VBox()"
      ]
     },
     "metadata": {},
     "output_type": "display_data"
    },
    {
     "data": {
      "application/vnd.jupyter.widget-view+json": {
       "model_id": "",
       "version_major": 2,
       "version_minor": 0
      },
      "text/plain": [
       "FloatProgress(value=0.0, bar_style='info', description='Progress:', layout=Layout(height='25px', width='50%'),…"
      ]
     },
     "metadata": {},
     "output_type": "display_data"
    },
    {
     "name": "stdout",
     "output_type": "stream",
     "text": [
      "root\n",
      " |-- AboutMe: string (nullable = true)\n",
      " |-- AccountId: integer (nullable = true)\n",
      " |-- CreationDate: timestamp (nullable = true)\n",
      " |-- DisplayName: string (nullable = true)\n",
      " |-- DownVotes: integer (nullable = true)\n",
      " |-- Id: integer (nullable = true)\n",
      " |-- LastAccessDate: timestamp (nullable = true)\n",
      " |-- Location: string (nullable = true)\n",
      " |-- Reputation: integer (nullable = true)\n",
      " |-- UpVotes: integer (nullable = true)\n",
      " |-- Views: integer (nullable = true)\n",
      " |-- WebsiteUrl: string (nullable = true)"
     ]
    }
   ],
   "source": [
    "users_df.printSchema()"
   ]
  },
  {
   "cell_type": "code",
   "execution_count": 103,
   "id": "99b84921",
   "metadata": {},
   "outputs": [
    {
     "data": {
      "application/vnd.jupyter.widget-view+json": {
       "model_id": "71a8434795954aad9a6e2ddf7f3867ec",
       "version_major": 2,
       "version_minor": 0
      },
      "text/plain": [
       "VBox()"
      ]
     },
     "metadata": {},
     "output_type": "display_data"
    },
    {
     "data": {
      "application/vnd.jupyter.widget-view+json": {
       "model_id": "",
       "version_major": 2,
       "version_minor": 0
      },
      "text/plain": [
       "FloatProgress(value=0.0, bar_style='info', description='Progress:', layout=Layout(height='25px', width='50%'),…"
      ]
     },
     "metadata": {},
     "output_type": "display_data"
    },
    {
     "name": "stdout",
     "output_type": "stream",
     "text": [
      "71841"
     ]
    }
   ],
   "source": [
    "users_df.count()"
   ]
  },
  {
   "cell_type": "code",
   "execution_count": 104,
   "id": "b1359cb4",
   "metadata": {},
   "outputs": [
    {
     "data": {
      "application/vnd.jupyter.widget-view+json": {
       "model_id": "",
       "version_major": 2,
       "version_minor": 0
      },
      "text/plain": [
       "FloatProgress(value=0.0, bar_style='info', description='Progress:', layout=Layout(height='25px', width='50%'),…"
      ]
     },
     "metadata": {},
     "output_type": "display_data"
    },
    {
     "data": {
      "text/html": [
       "<style>.jp-OutputArea-child .jupyter-widgets.jp-OutputArea-output { overflow: auto; }</style>"
      ],
      "text/plain": [
       "<IPython.core.display.HTML object>"
      ]
     },
     "metadata": {},
     "output_type": "display_data"
    },
    {
     "data": {
      "application/vnd.jupyter.widget-view+json": {
       "model_id": "6f2df023b6e94ec6ae90581f1b024d8e",
       "version_major": 2,
       "version_minor": 0
      },
      "text/plain": [
       "VBox(children=(HBox(children=(HTML(value='Type:'), Button(description='Table', layout=Layout(width='70px'), st…"
      ]
     },
     "metadata": {},
     "output_type": "display_data"
    },
    {
     "data": {
      "application/vnd.jupyter.widget-view+json": {
       "model_id": "487f1fedf0d44dbe9f0b76a27799b64b",
       "version_major": 2,
       "version_minor": 0
      },
      "text/plain": [
       "Output()"
      ]
     },
     "metadata": {},
     "output_type": "display_data"
    }
   ],
   "source": [
    "%%display\n",
    "users_df.limit(20)"
   ]
  },
  {
   "cell_type": "markdown",
   "id": "bbe003c3",
   "metadata": {},
   "source": [
    "#### Data cleaning"
   ]
  },
  {
   "cell_type": "markdown",
   "id": "a7e09f55",
   "metadata": {},
   "source": [
    "- Cleaning `AboutMe` - text preprocessing"
   ]
  },
  {
   "cell_type": "code",
   "execution_count": 105,
   "id": "50134dba",
   "metadata": {},
   "outputs": [
    {
     "data": {
      "application/vnd.jupyter.widget-view+json": {
       "model_id": "4c6b7ce8463544588da523ff989b8526",
       "version_major": 2,
       "version_minor": 0
      },
      "text/plain": [
       "VBox()"
      ]
     },
     "metadata": {},
     "output_type": "display_data"
    },
    {
     "data": {
      "application/vnd.jupyter.widget-view+json": {
       "model_id": "",
       "version_major": 2,
       "version_minor": 0
      },
      "text/plain": [
       "FloatProgress(value=0.0, bar_style='info', description='Progress:', layout=Layout(height='25px', width='50%'),…"
      ]
     },
     "metadata": {},
     "output_type": "display_data"
    }
   ],
   "source": [
    "users_df = text_preprocessing(users_df, 'AboutMe')"
   ]
  },
  {
   "cell_type": "markdown",
   "id": "0148d27c",
   "metadata": {},
   "source": [
    "- Clean `AccountId` - put -99 instead of `NaN` if user is deleted"
   ]
  },
  {
   "cell_type": "code",
   "execution_count": 106,
   "id": "61cb92e9",
   "metadata": {},
   "outputs": [
    {
     "data": {
      "application/vnd.jupyter.widget-view+json": {
       "model_id": "7fdf55a0b86545d78a07a92ddbfd2eb3",
       "version_major": 2,
       "version_minor": 0
      },
      "text/plain": [
       "VBox()"
      ]
     },
     "metadata": {},
     "output_type": "display_data"
    },
    {
     "data": {
      "application/vnd.jupyter.widget-view+json": {
       "model_id": "",
       "version_major": 2,
       "version_minor": 0
      },
      "text/plain": [
       "FloatProgress(value=0.0, bar_style='info', description='Progress:', layout=Layout(height='25px', width='50%'),…"
      ]
     },
     "metadata": {},
     "output_type": "display_data"
    }
   ],
   "source": [
    "users_df = users_df.na.fill(-99, subset=['AccountId'])"
   ]
  },
  {
   "cell_type": "markdown",
   "id": "0ea7a2e7",
   "metadata": {},
   "source": [
    "- Drop entries with no `DisplayName`"
   ]
  },
  {
   "cell_type": "code",
   "execution_count": 107,
   "id": "8e0d6698",
   "metadata": {},
   "outputs": [
    {
     "data": {
      "application/vnd.jupyter.widget-view+json": {
       "model_id": "410a34fb215e4d82a9cfc0922a2c4dee",
       "version_major": 2,
       "version_minor": 0
      },
      "text/plain": [
       "VBox()"
      ]
     },
     "metadata": {},
     "output_type": "display_data"
    },
    {
     "data": {
      "application/vnd.jupyter.widget-view+json": {
       "model_id": "",
       "version_major": 2,
       "version_minor": 0
      },
      "text/plain": [
       "FloatProgress(value=0.0, bar_style='info', description='Progress:', layout=Layout(height='25px', width='50%'),…"
      ]
     },
     "metadata": {},
     "output_type": "display_data"
    }
   ],
   "source": [
    "users_df = users_df.na.drop(subset=[\"DisplayName\"])"
   ]
  },
  {
   "cell_type": "markdown",
   "id": "da5f3e4d",
   "metadata": {},
   "source": [
    "- Clean `Location` - text preprocessing"
   ]
  },
  {
   "cell_type": "code",
   "execution_count": 108,
   "id": "2da6a561",
   "metadata": {},
   "outputs": [
    {
     "data": {
      "application/vnd.jupyter.widget-view+json": {
       "model_id": "05dc1af67ce14d0abab8884811e6e3c2",
       "version_major": 2,
       "version_minor": 0
      },
      "text/plain": [
       "VBox()"
      ]
     },
     "metadata": {},
     "output_type": "display_data"
    },
    {
     "data": {
      "application/vnd.jupyter.widget-view+json": {
       "model_id": "",
       "version_major": 2,
       "version_minor": 0
      },
      "text/plain": [
       "FloatProgress(value=0.0, bar_style='info', description='Progress:', layout=Layout(height='25px', width='50%'),…"
      ]
     },
     "metadata": {},
     "output_type": "display_data"
    }
   ],
   "source": [
    "users_df = users_df.na.fill('', subset='Location').withColumn('Location',  F.split(F.col('Location'),', '))"
   ]
  },
  {
   "cell_type": "markdown",
   "id": "2d169ca1",
   "metadata": {},
   "source": [
    "### Cleaning results"
   ]
  },
  {
   "cell_type": "code",
   "execution_count": 109,
   "id": "fb1aac00",
   "metadata": {},
   "outputs": [
    {
     "data": {
      "application/vnd.jupyter.widget-view+json": {
       "model_id": "b38bc68d1c8e408bab18665113e99dc0",
       "version_major": 2,
       "version_minor": 0
      },
      "text/plain": [
       "VBox()"
      ]
     },
     "metadata": {},
     "output_type": "display_data"
    },
    {
     "data": {
      "application/vnd.jupyter.widget-view+json": {
       "model_id": "",
       "version_major": 2,
       "version_minor": 0
      },
      "text/plain": [
       "FloatProgress(value=0.0, bar_style='info', description='Progress:', layout=Layout(height='25px', width='50%'),…"
      ]
     },
     "metadata": {},
     "output_type": "display_data"
    },
    {
     "name": "stdout",
     "output_type": "stream",
     "text": [
      "root\n",
      " |-- AccountId: integer (nullable = true)\n",
      " |-- CreationDate: timestamp (nullable = true)\n",
      " |-- DisplayName: string (nullable = true)\n",
      " |-- DownVotes: integer (nullable = true)\n",
      " |-- Id: integer (nullable = true)\n",
      " |-- LastAccessDate: timestamp (nullable = true)\n",
      " |-- Location: array (nullable = false)\n",
      " |    |-- element: string (containsNull = false)\n",
      " |-- Reputation: integer (nullable = true)\n",
      " |-- UpVotes: integer (nullable = true)\n",
      " |-- Views: integer (nullable = true)\n",
      " |-- WebsiteUrl: string (nullable = true)\n",
      " |-- AboutMe: array (nullable = true)\n",
      " |    |-- element: string (containsNull = true)"
     ]
    }
   ],
   "source": [
    "users_df.printSchema()"
   ]
  },
  {
   "cell_type": "code",
   "execution_count": 110,
   "id": "92f79fc6",
   "metadata": {},
   "outputs": [
    {
     "data": {
      "application/vnd.jupyter.widget-view+json": {
       "model_id": "9ae8f8a4bb57421189f6b3a11801e75d",
       "version_major": 2,
       "version_minor": 0
      },
      "text/plain": [
       "VBox()"
      ]
     },
     "metadata": {},
     "output_type": "display_data"
    },
    {
     "data": {
      "application/vnd.jupyter.widget-view+json": {
       "model_id": "",
       "version_major": 2,
       "version_minor": 0
      },
      "text/plain": [
       "FloatProgress(value=0.0, bar_style='info', description='Progress:', layout=Layout(height='25px', width='50%'),…"
      ]
     },
     "metadata": {},
     "output_type": "display_data"
    },
    {
     "name": "stdout",
     "output_type": "stream",
     "text": [
      "71841"
     ]
    }
   ],
   "source": [
    "users_df.count()"
   ]
  },
  {
   "cell_type": "code",
   "execution_count": 111,
   "id": "d9322f85",
   "metadata": {},
   "outputs": [
    {
     "data": {
      "application/vnd.jupyter.widget-view+json": {
       "model_id": "a0705ad3a5344a4cbbc120393e6429a5",
       "version_major": 2,
       "version_minor": 0
      },
      "text/plain": [
       "VBox()"
      ]
     },
     "metadata": {},
     "output_type": "display_data"
    },
    {
     "data": {
      "application/vnd.jupyter.widget-view+json": {
       "model_id": "",
       "version_major": 2,
       "version_minor": 0
      },
      "text/plain": [
       "FloatProgress(value=0.0, bar_style='info', description='Progress:', layout=Layout(height='25px', width='50%'),…"
      ]
     },
     "metadata": {},
     "output_type": "display_data"
    },
    {
     "name": "stdout",
     "output_type": "stream",
     "text": [
      "-RECORD 0------------\n",
      " AccountId   | 0     \n",
      " DisplayName | 4     \n",
      " DownVotes   | 0     \n",
      " Id          | 0     \n",
      " Reputation  | 0     \n",
      " UpVotes     | 0     \n",
      " Views       | 0     \n",
      " WebsiteUrl  | 58712"
     ]
    }
   ],
   "source": [
    "df = users_df\n",
    "cols_nums = [col[0] for col in df.dtypes if col[1] in ('bigint', 'int', 'string')]\n",
    "df = df.select([F.count(F.when(F.isnan(c) | F.col(c).isNull(), c)).alias(c) for c in cols_nums])\n",
    "df.show(vertical=True)"
   ]
  },
  {
   "cell_type": "code",
   "execution_count": 112,
   "id": "ee431363",
   "metadata": {},
   "outputs": [
    {
     "data": {
      "application/vnd.jupyter.widget-view+json": {
       "model_id": "",
       "version_major": 2,
       "version_minor": 0
      },
      "text/plain": [
       "FloatProgress(value=0.0, bar_style='info', description='Progress:', layout=Layout(height='25px', width='50%'),…"
      ]
     },
     "metadata": {},
     "output_type": "display_data"
    },
    {
     "data": {
      "text/html": [
       "<style>.jp-OutputArea-child .jupyter-widgets.jp-OutputArea-output { overflow: auto; }</style>"
      ],
      "text/plain": [
       "<IPython.core.display.HTML object>"
      ]
     },
     "metadata": {},
     "output_type": "display_data"
    },
    {
     "data": {
      "application/vnd.jupyter.widget-view+json": {
       "model_id": "6d5f3021a4074ee2a92924e3d9cef0cf",
       "version_major": 2,
       "version_minor": 0
      },
      "text/plain": [
       "VBox(children=(HBox(children=(HTML(value='Type:'), Button(description='Table', layout=Layout(width='70px'), st…"
      ]
     },
     "metadata": {},
     "output_type": "display_data"
    },
    {
     "data": {
      "application/vnd.jupyter.widget-view+json": {
       "model_id": "46d777d1bb7947f99ecd75cbec8aa2c9",
       "version_major": 2,
       "version_minor": 0
      },
      "text/plain": [
       "Output()"
      ]
     },
     "metadata": {},
     "output_type": "display_data"
    }
   ],
   "source": [
    "%%display\n",
    "users_df.limit(20)"
   ]
  },
  {
   "cell_type": "markdown",
   "id": "223bb862",
   "metadata": {},
   "source": [
    "### Save the data"
   ]
  },
  {
   "cell_type": "code",
   "execution_count": 113,
   "id": "e8651aff",
   "metadata": {},
   "outputs": [
    {
     "data": {
      "application/vnd.jupyter.widget-view+json": {
       "model_id": "b7f1e7a2f14746b09ae55e1eba7f5fe0",
       "version_major": 2,
       "version_minor": 0
      },
      "text/plain": [
       "VBox()"
      ]
     },
     "metadata": {},
     "output_type": "display_data"
    },
    {
     "data": {
      "application/vnd.jupyter.widget-view+json": {
       "model_id": "",
       "version_major": 2,
       "version_minor": 0
      },
      "text/plain": [
       "FloatProgress(value=0.0, bar_style='info', description='Progress:', layout=Layout(height='25px', width='50%'),…"
      ]
     },
     "metadata": {},
     "output_type": "display_data"
    }
   ],
   "source": [
    "sink_path = \"s3://my-project-213242/cleaned/Users/\"\n",
    "users_df.write.mode(\"overwrite\").parquet(sink_path)"
   ]
  },
  {
   "cell_type": "markdown",
   "id": "c9a69da3",
   "metadata": {},
   "source": [
    "## 3.8. Votes"
   ]
  },
  {
   "cell_type": "markdown",
   "id": "8f4f573d",
   "metadata": {},
   "source": [
    "### Load the data"
   ]
  },
  {
   "cell_type": "code",
   "execution_count": 114,
   "id": "8359ae21",
   "metadata": {},
   "outputs": [
    {
     "data": {
      "application/vnd.jupyter.widget-view+json": {
       "model_id": "1123f8849d974f558f0c7fca65522c86",
       "version_major": 2,
       "version_minor": 0
      },
      "text/plain": [
       "VBox()"
      ]
     },
     "metadata": {},
     "output_type": "display_data"
    },
    {
     "data": {
      "application/vnd.jupyter.widget-view+json": {
       "model_id": "",
       "version_major": 2,
       "version_minor": 0
      },
      "text/plain": [
       "FloatProgress(value=0.0, bar_style='info', description='Progress:', layout=Layout(height='25px', width='50%'),…"
      ]
     },
     "metadata": {},
     "output_type": "display_data"
    }
   ],
   "source": [
    "source_path = \"s3://my-project-213242/drop/Votes.xml\""
   ]
  },
  {
   "cell_type": "code",
   "execution_count": 115,
   "id": "5eb6cbc3",
   "metadata": {},
   "outputs": [
    {
     "data": {
      "application/vnd.jupyter.widget-view+json": {
       "model_id": "dccbf2ce4fcc49fcbd60c434165ec0d9",
       "version_major": 2,
       "version_minor": 0
      },
      "text/plain": [
       "VBox()"
      ]
     },
     "metadata": {},
     "output_type": "display_data"
    },
    {
     "data": {
      "application/vnd.jupyter.widget-view+json": {
       "model_id": "",
       "version_major": 2,
       "version_minor": 0
      },
      "text/plain": [
       "FloatProgress(value=0.0, bar_style='info', description='Progress:', layout=Layout(height='25px', width='50%'),…"
      ]
     },
     "metadata": {},
     "output_type": "display_data"
    }
   ],
   "source": [
    "schema_votes_df = StructType([\n",
    "                        StructField(\"_BountyAmount\",       IntegerType()), \n",
    "                        StructField(\"_CreationDate\",       TimestampType()), \n",
    "                        StructField(\"_Id\",                 IntegerType()), \n",
    "                        StructField(\"_PostId\",             IntegerType()), \n",
    "                        StructField(\"_UserId\",             IntegerType()), \n",
    "                        StructField(\"_VoteTypeId\",         IntegerType())\n",
    "    ])"
   ]
  },
  {
   "cell_type": "code",
   "execution_count": 116,
   "id": "4921dc29",
   "metadata": {},
   "outputs": [
    {
     "data": {
      "application/vnd.jupyter.widget-view+json": {
       "model_id": "eb4c6b6e8cd340b0902174cbc99c0780",
       "version_major": 2,
       "version_minor": 0
      },
      "text/plain": [
       "VBox()"
      ]
     },
     "metadata": {},
     "output_type": "display_data"
    },
    {
     "data": {
      "application/vnd.jupyter.widget-view+json": {
       "model_id": "",
       "version_major": 2,
       "version_minor": 0
      },
      "text/plain": [
       "FloatProgress(value=0.0, bar_style='info', description='Progress:', layout=Layout(height='25px', width='50%'),…"
      ]
     },
     "metadata": {},
     "output_type": "display_data"
    }
   ],
   "source": [
    "votes_df = (\n",
    "    spark.read.format(\"com.databricks.spark.xml\")\n",
    "    .option(\"rowTag\", \"row\")\n",
    "    .option(\"charset\", \"UTF8\")\n",
    "    .schema(schema_votes_df)\n",
    "    .option(\"treatEmptyValuesAsNulls\", \"true\")\n",
    "    .load(source_path)\n",
    "    .cache()\n",
    ")"
   ]
  },
  {
   "cell_type": "markdown",
   "id": "555cd1dd",
   "metadata": {},
   "source": [
    "- Delete _ from column names"
   ]
  },
  {
   "cell_type": "code",
   "execution_count": 117,
   "id": "17ade598",
   "metadata": {},
   "outputs": [
    {
     "data": {
      "application/vnd.jupyter.widget-view+json": {
       "model_id": "a7566edeff6543b6a58dacf90075f25e",
       "version_major": 2,
       "version_minor": 0
      },
      "text/plain": [
       "VBox()"
      ]
     },
     "metadata": {},
     "output_type": "display_data"
    },
    {
     "data": {
      "application/vnd.jupyter.widget-view+json": {
       "model_id": "",
       "version_major": 2,
       "version_minor": 0
      },
      "text/plain": [
       "FloatProgress(value=0.0, bar_style='info', description='Progress:', layout=Layout(height='25px', width='50%'),…"
      ]
     },
     "metadata": {},
     "output_type": "display_data"
    }
   ],
   "source": [
    "votes_df = votes_df.select([F.col(col_name).alias(col_name.replace('_', '')) for col_name in votes_df.columns])"
   ]
  },
  {
   "cell_type": "markdown",
   "id": "cd3c6d72",
   "metadata": {},
   "source": [
    "### Data exploration"
   ]
  },
  {
   "cell_type": "markdown",
   "id": "41818600",
   "metadata": {},
   "source": [
    "- `VoteTypeId` (listed in the VoteTypes table)\n",
    "    - 1 = AcceptedByOriginator\n",
    "    - 2 = UpMod (AKA upvote)\n",
    "    - 3 = DownMod (AKA downvote)\n",
    "    - 4 = Offensive\n",
    "    - 5 = Favorite (AKA bookmark; UserId will also be populated) feature removed after October 2022 / replaced by Saves\n",
    "    - 6 = Close (effective 2013-06-25: Close votes are only stored in table: PostHistory)\n",
    "    - 7 = Reopen\n",
    "    - 8 = BountyStart (UserId and BountyAmount will also be populated)\n",
    "    - 9 = BountyClose (BountyAmount will also be populated)\n",
    "    - 10 = Deletion\n",
    "    - 11 = Undeletion\n",
    "    - 12 = Spam\n",
    "    - 15 = ModeratorReview (i.e., a moderator looking at a flagged post)\n",
    "    - 16 = ApproveEditSuggestion\n",
    "- `UserId` (present only if VoteTypeId in (5,8); -1 if user is deleted)\n",
    "- `BountyAmount` (present only if VoteTypeId in (8,9))"
   ]
  },
  {
   "cell_type": "code",
   "execution_count": 118,
   "id": "4b076d0d",
   "metadata": {},
   "outputs": [
    {
     "data": {
      "application/vnd.jupyter.widget-view+json": {
       "model_id": "8186e61a1675415f92e5b8b7f131559e",
       "version_major": 2,
       "version_minor": 0
      },
      "text/plain": [
       "VBox()"
      ]
     },
     "metadata": {},
     "output_type": "display_data"
    },
    {
     "data": {
      "application/vnd.jupyter.widget-view+json": {
       "model_id": "",
       "version_major": 2,
       "version_minor": 0
      },
      "text/plain": [
       "FloatProgress(value=0.0, bar_style='info', description='Progress:', layout=Layout(height='25px', width='50%'),…"
      ]
     },
     "metadata": {},
     "output_type": "display_data"
    },
    {
     "name": "stdout",
     "output_type": "stream",
     "text": [
      "root\n",
      " |-- BountyAmount: integer (nullable = true)\n",
      " |-- CreationDate: timestamp (nullable = true)\n",
      " |-- Id: integer (nullable = true)\n",
      " |-- PostId: integer (nullable = true)\n",
      " |-- UserId: integer (nullable = true)\n",
      " |-- VoteTypeId: integer (nullable = true)"
     ]
    }
   ],
   "source": [
    "votes_df.printSchema()"
   ]
  },
  {
   "cell_type": "code",
   "execution_count": 119,
   "id": "3c1c2520",
   "metadata": {},
   "outputs": [
    {
     "data": {
      "application/vnd.jupyter.widget-view+json": {
       "model_id": "567d7b4743ae40c79c93ac8c59899bec",
       "version_major": 2,
       "version_minor": 0
      },
      "text/plain": [
       "VBox()"
      ]
     },
     "metadata": {},
     "output_type": "display_data"
    },
    {
     "data": {
      "application/vnd.jupyter.widget-view+json": {
       "model_id": "",
       "version_major": 2,
       "version_minor": 0
      },
      "text/plain": [
       "FloatProgress(value=0.0, bar_style='info', description='Progress:', layout=Layout(height='25px', width='50%'),…"
      ]
     },
     "metadata": {},
     "output_type": "display_data"
    },
    {
     "name": "stdout",
     "output_type": "stream",
     "text": [
      "+------------+-------------------+---+------+------+----------+\n",
      "|BountyAmount|CreationDate       |Id |PostId|UserId|VoteTypeId|\n",
      "+------------+-------------------+---+------+------+----------+\n",
      "|null        |2011-11-30 00:00:00|1  |1     |null  |2         |\n",
      "|null        |2011-11-30 00:00:00|2  |1     |null  |2         |\n",
      "|null        |2011-11-30 00:00:00|3  |1     |null  |2         |\n",
      "|null        |2011-11-30 00:00:00|4  |2     |null  |2         |\n",
      "|null        |2011-11-30 00:00:00|5  |3     |null  |2         |\n",
      "|null        |2011-11-30 00:00:00|6  |3     |null  |2         |\n",
      "|null        |2011-11-30 00:00:00|7  |5     |null  |2         |\n",
      "|null        |2011-11-30 00:00:00|8  |4     |null  |2         |\n",
      "|null        |2011-11-30 00:00:00|9  |5     |null  |2         |\n",
      "|null        |2011-11-30 00:00:00|10 |4     |null  |2         |\n",
      "|null        |2011-11-30 00:00:00|11 |4     |null  |2         |\n",
      "|null        |2011-11-30 00:00:00|12 |1     |null  |3         |\n",
      "|null        |2011-11-30 00:00:00|13 |5     |null  |2         |\n",
      "|null        |2011-11-30 00:00:00|14 |4     |null  |2         |\n",
      "|null        |2011-11-30 00:00:00|16 |7     |null  |3         |\n",
      "|null        |2011-11-30 00:00:00|17 |7     |null  |3         |\n",
      "|null        |2011-11-30 00:00:00|18 |5     |null  |3         |\n",
      "|null        |2011-11-30 00:00:00|19 |9     |null  |2         |\n",
      "|null        |2011-11-30 00:00:00|20 |4     |null  |2         |\n",
      "|null        |2011-11-30 00:00:00|21 |3     |null  |2         |\n",
      "+------------+-------------------+---+------+------+----------+"
     ]
    }
   ],
   "source": [
    "votes_df.limit(20).show(truncate=False)"
   ]
  },
  {
   "cell_type": "code",
   "execution_count": 120,
   "id": "c50c18c7",
   "metadata": {},
   "outputs": [
    {
     "data": {
      "application/vnd.jupyter.widget-view+json": {
       "model_id": "26b3517307a14fb1965a46ad41bd7a76",
       "version_major": 2,
       "version_minor": 0
      },
      "text/plain": [
       "VBox()"
      ]
     },
     "metadata": {},
     "output_type": "display_data"
    },
    {
     "data": {
      "application/vnd.jupyter.widget-view+json": {
       "model_id": "",
       "version_major": 2,
       "version_minor": 0
      },
      "text/plain": [
       "FloatProgress(value=0.0, bar_style='info', description='Progress:', layout=Layout(height='25px', width='50%'),…"
      ]
     },
     "metadata": {},
     "output_type": "display_data"
    },
    {
     "name": "stdout",
     "output_type": "stream",
     "text": [
      "670161"
     ]
    }
   ],
   "source": [
    "votes_df.count()"
   ]
  },
  {
   "cell_type": "markdown",
   "id": "262c87f9",
   "metadata": {},
   "source": [
    "#### Data cleaning"
   ]
  },
  {
   "cell_type": "markdown",
   "id": "5d7c913d",
   "metadata": {},
   "source": [
    "- Clean `UserId` - UserId (present only if VoteTypeId in (5,8); -1 if user is deleted) - replace -1 with -99 (as in previous dfs)"
   ]
  },
  {
   "cell_type": "code",
   "execution_count": 121,
   "id": "124c56fc",
   "metadata": {},
   "outputs": [
    {
     "data": {
      "application/vnd.jupyter.widget-view+json": {
       "model_id": "dbebfb8c845341dca08e5778f9a72124",
       "version_major": 2,
       "version_minor": 0
      },
      "text/plain": [
       "VBox()"
      ]
     },
     "metadata": {},
     "output_type": "display_data"
    },
    {
     "data": {
      "application/vnd.jupyter.widget-view+json": {
       "model_id": "",
       "version_major": 2,
       "version_minor": 0
      },
      "text/plain": [
       "FloatProgress(value=0.0, bar_style='info', description='Progress:', layout=Layout(height='25px', width='50%'),…"
      ]
     },
     "metadata": {},
     "output_type": "display_data"
    },
    {
     "name": "stdout",
     "output_type": "stream",
     "text": [
      "31"
     ]
    }
   ],
   "source": [
    "votes_df.filter(F.col('UserId')==-1).count()"
   ]
  },
  {
   "cell_type": "code",
   "execution_count": 122,
   "id": "ecd0aec6",
   "metadata": {},
   "outputs": [
    {
     "data": {
      "application/vnd.jupyter.widget-view+json": {
       "model_id": "32d126d584af41e69c51ea3f61a4009a",
       "version_major": 2,
       "version_minor": 0
      },
      "text/plain": [
       "VBox()"
      ]
     },
     "metadata": {},
     "output_type": "display_data"
    },
    {
     "data": {
      "application/vnd.jupyter.widget-view+json": {
       "model_id": "",
       "version_major": 2,
       "version_minor": 0
      },
      "text/plain": [
       "FloatProgress(value=0.0, bar_style='info', description='Progress:', layout=Layout(height='25px', width='50%'),…"
      ]
     },
     "metadata": {},
     "output_type": "display_data"
    }
   ],
   "source": [
    "votes_df = votes_df.withColumn('UserId', F.when(F.col('UserId') == -1, -99).otherwise(F.col('UserId')))"
   ]
  },
  {
   "cell_type": "code",
   "execution_count": 123,
   "id": "20eda02c",
   "metadata": {},
   "outputs": [
    {
     "data": {
      "application/vnd.jupyter.widget-view+json": {
       "model_id": "64a371be7d0a412b83af79b2ebc3c1d3",
       "version_major": 2,
       "version_minor": 0
      },
      "text/plain": [
       "VBox()"
      ]
     },
     "metadata": {},
     "output_type": "display_data"
    },
    {
     "data": {
      "application/vnd.jupyter.widget-view+json": {
       "model_id": "",
       "version_major": 2,
       "version_minor": 0
      },
      "text/plain": [
       "FloatProgress(value=0.0, bar_style='info', description='Progress:', layout=Layout(height='25px', width='50%'),…"
      ]
     },
     "metadata": {},
     "output_type": "display_data"
    },
    {
     "name": "stdout",
     "output_type": "stream",
     "text": [
      "31"
     ]
    }
   ],
   "source": [
    "votes_df.filter(F.col('UserId')==-99).count()"
   ]
  },
  {
   "cell_type": "markdown",
   "id": "8effe434",
   "metadata": {},
   "source": [
    "### Cleaning results"
   ]
  },
  {
   "cell_type": "code",
   "execution_count": 124,
   "id": "f09671a7",
   "metadata": {},
   "outputs": [
    {
     "data": {
      "application/vnd.jupyter.widget-view+json": {
       "model_id": "e3deacb33aba452caa9645e2044eed0b",
       "version_major": 2,
       "version_minor": 0
      },
      "text/plain": [
       "VBox()"
      ]
     },
     "metadata": {},
     "output_type": "display_data"
    },
    {
     "data": {
      "application/vnd.jupyter.widget-view+json": {
       "model_id": "",
       "version_major": 2,
       "version_minor": 0
      },
      "text/plain": [
       "FloatProgress(value=0.0, bar_style='info', description='Progress:', layout=Layout(height='25px', width='50%'),…"
      ]
     },
     "metadata": {},
     "output_type": "display_data"
    },
    {
     "name": "stdout",
     "output_type": "stream",
     "text": [
      "root\n",
      " |-- BountyAmount: integer (nullable = true)\n",
      " |-- CreationDate: timestamp (nullable = true)\n",
      " |-- Id: integer (nullable = true)\n",
      " |-- PostId: integer (nullable = true)\n",
      " |-- UserId: integer (nullable = true)\n",
      " |-- VoteTypeId: integer (nullable = true)"
     ]
    }
   ],
   "source": [
    "votes_df.printSchema()"
   ]
  },
  {
   "cell_type": "code",
   "execution_count": 125,
   "id": "93cd0b51",
   "metadata": {},
   "outputs": [
    {
     "data": {
      "application/vnd.jupyter.widget-view+json": {
       "model_id": "32e7f94c9da94572b85895e5211172a7",
       "version_major": 2,
       "version_minor": 0
      },
      "text/plain": [
       "VBox()"
      ]
     },
     "metadata": {},
     "output_type": "display_data"
    },
    {
     "data": {
      "application/vnd.jupyter.widget-view+json": {
       "model_id": "",
       "version_major": 2,
       "version_minor": 0
      },
      "text/plain": [
       "FloatProgress(value=0.0, bar_style='info', description='Progress:', layout=Layout(height='25px', width='50%'),…"
      ]
     },
     "metadata": {},
     "output_type": "display_data"
    },
    {
     "name": "stdout",
     "output_type": "stream",
     "text": [
      "-RECORD 0--------------\n",
      " BountyAmount | 668895 \n",
      " Id           | 0      \n",
      " PostId       | 0      \n",
      " UserId       | 669387 \n",
      " VoteTypeId   | 0"
     ]
    }
   ],
   "source": [
    "df = votes_df\n",
    "cols_nums = [col[0] for col in df.dtypes if col[1] in ('bigint', 'int', 'string')]\n",
    "df = df.select([F.count(F.when(F.isnan(c) | F.col(c).isNull(), c)).alias(c) for c in cols_nums])\n",
    "df.show(vertical=True)"
   ]
  },
  {
   "cell_type": "code",
   "execution_count": 126,
   "id": "4fa8d6e9",
   "metadata": {},
   "outputs": [
    {
     "data": {
      "application/vnd.jupyter.widget-view+json": {
       "model_id": "ee5346d7ed55406988fec1ad7b1d2928",
       "version_major": 2,
       "version_minor": 0
      },
      "text/plain": [
       "VBox()"
      ]
     },
     "metadata": {},
     "output_type": "display_data"
    },
    {
     "data": {
      "application/vnd.jupyter.widget-view+json": {
       "model_id": "",
       "version_major": 2,
       "version_minor": 0
      },
      "text/plain": [
       "FloatProgress(value=0.0, bar_style='info', description='Progress:', layout=Layout(height='25px', width='50%'),…"
      ]
     },
     "metadata": {},
     "output_type": "display_data"
    },
    {
     "name": "stdout",
     "output_type": "stream",
     "text": [
      "+------------+-------------------+---+------+------+----------+\n",
      "|BountyAmount|CreationDate       |Id |PostId|UserId|VoteTypeId|\n",
      "+------------+-------------------+---+------+------+----------+\n",
      "|null        |2011-11-30 00:00:00|1  |1     |null  |2         |\n",
      "|null        |2011-11-30 00:00:00|2  |1     |null  |2         |\n",
      "|null        |2011-11-30 00:00:00|3  |1     |null  |2         |\n",
      "|null        |2011-11-30 00:00:00|4  |2     |null  |2         |\n",
      "|null        |2011-11-30 00:00:00|5  |3     |null  |2         |\n",
      "|null        |2011-11-30 00:00:00|6  |3     |null  |2         |\n",
      "|null        |2011-11-30 00:00:00|7  |5     |null  |2         |\n",
      "|null        |2011-11-30 00:00:00|8  |4     |null  |2         |\n",
      "|null        |2011-11-30 00:00:00|9  |5     |null  |2         |\n",
      "|null        |2011-11-30 00:00:00|10 |4     |null  |2         |\n",
      "|null        |2011-11-30 00:00:00|11 |4     |null  |2         |\n",
      "|null        |2011-11-30 00:00:00|12 |1     |null  |3         |\n",
      "|null        |2011-11-30 00:00:00|13 |5     |null  |2         |\n",
      "|null        |2011-11-30 00:00:00|14 |4     |null  |2         |\n",
      "|null        |2011-11-30 00:00:00|16 |7     |null  |3         |\n",
      "|null        |2011-11-30 00:00:00|17 |7     |null  |3         |\n",
      "|null        |2011-11-30 00:00:00|18 |5     |null  |3         |\n",
      "|null        |2011-11-30 00:00:00|19 |9     |null  |2         |\n",
      "|null        |2011-11-30 00:00:00|20 |4     |null  |2         |\n",
      "|null        |2011-11-30 00:00:00|21 |3     |null  |2         |\n",
      "+------------+-------------------+---+------+------+----------+"
     ]
    }
   ],
   "source": [
    "votes_df.limit(20).show(truncate=False)"
   ]
  },
  {
   "cell_type": "code",
   "execution_count": 127,
   "id": "8ee7b150",
   "metadata": {},
   "outputs": [
    {
     "data": {
      "application/vnd.jupyter.widget-view+json": {
       "model_id": "01e0c6e384bb407fa6814d4d98197bb2",
       "version_major": 2,
       "version_minor": 0
      },
      "text/plain": [
       "VBox()"
      ]
     },
     "metadata": {},
     "output_type": "display_data"
    },
    {
     "data": {
      "application/vnd.jupyter.widget-view+json": {
       "model_id": "",
       "version_major": 2,
       "version_minor": 0
      },
      "text/plain": [
       "FloatProgress(value=0.0, bar_style='info', description='Progress:', layout=Layout(height='25px', width='50%'),…"
      ]
     },
     "metadata": {},
     "output_type": "display_data"
    },
    {
     "name": "stdout",
     "output_type": "stream",
     "text": [
      "670161"
     ]
    }
   ],
   "source": [
    "votes_df.count()"
   ]
  },
  {
   "cell_type": "markdown",
   "id": "642e895b",
   "metadata": {},
   "source": [
    "### Save the data"
   ]
  },
  {
   "cell_type": "code",
   "execution_count": 128,
   "id": "715e5a70",
   "metadata": {},
   "outputs": [
    {
     "data": {
      "application/vnd.jupyter.widget-view+json": {
       "model_id": "5e782534b0df42769c8197b7b0bdffcb",
       "version_major": 2,
       "version_minor": 0
      },
      "text/plain": [
       "VBox()"
      ]
     },
     "metadata": {},
     "output_type": "display_data"
    },
    {
     "data": {
      "application/vnd.jupyter.widget-view+json": {
       "model_id": "",
       "version_major": 2,
       "version_minor": 0
      },
      "text/plain": [
       "FloatProgress(value=0.0, bar_style='info', description='Progress:', layout=Layout(height='25px', width='50%'),…"
      ]
     },
     "metadata": {},
     "output_type": "display_data"
    }
   ],
   "source": [
    "sink_path = \"s3://my-project-213242/cleaned/Votes/\"\n",
    "votes_df.write.mode(\"overwrite\").parquet(sink_path)"
   ]
  }
 ],
 "metadata": {
  "kernelspec": {
   "display_name": "PySpark",
   "language": "python",
   "name": "pysparkkernel"
  },
  "language_info": {
   "codemirror_mode": {
    "name": "python",
    "version": 3
   },
   "file_extension": ".py",
   "mimetype": "text/x-python",
   "name": "pyspark",
   "pygments_lexer": "python3"
  }
 },
 "nbformat": 4,
 "nbformat_minor": 5
}
